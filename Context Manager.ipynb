{
 "cells": [
  {
   "cell_type": "code",
   "execution_count": 1,
   "id": "4618e164-5966-4413-943d-2b9ceac28c49",
   "metadata": {},
   "outputs": [
    {
     "name": "stdout",
     "output_type": "stream",
     "text": [
      "init method called\n",
      "enter method called\n",
      "with statement block\n",
      "exit method called\n"
     ]
    }
   ],
   "source": [
    "\n",
    "# Python program creating a\n",
    "# context manager\n",
    " \n",
    "class ContextManager():\n",
    "    def __init__(self):\n",
    "        print('init method called')\n",
    "         \n",
    "    def __enter__(self):\n",
    "        print('enter method called')\n",
    "        return self\n",
    "     \n",
    "    def __exit__(self, exc_type, exc_value, exc_traceback):\n",
    "        print('exit method called')\n",
    " \n",
    "with ContextManager() as manager:\n",
    "    print('with statement block')"
   ]
  },
  {
   "cell_type": "code",
   "execution_count": 2,
   "id": "bd3d667f-2abc-4914-9973-2db6091d3ab3",
   "metadata": {},
   "outputs": [
    {
     "name": "stdout",
     "output_type": "stream",
     "text": [
      "True\n"
     ]
    }
   ],
   "source": [
    "# Python program showing\n",
    "# file management using \n",
    "# context manager\n",
    "\n",
    "class FileManager():\n",
    "\tdef __init__(self, filename, mode):\n",
    "\t\tself.filename = filename\n",
    "\t\tself.mode = mode\n",
    "\t\tself.file = None\n",
    "\t\t\n",
    "\tdef __enter__(self):\n",
    "\t\tself.file = open(self.filename, self.mode)\n",
    "\t\treturn self.file\n",
    "\t\n",
    "\tdef __exit__(self, exc_type, exc_value, exc_traceback):\n",
    "\t\tself.file.close()\n",
    "\n",
    "# loading a file \n",
    "with FileManager('test.txt', 'w') as f:\n",
    "\tf.write('Test')\n",
    "\n",
    "print(f.closed)\n"
   ]
  },
  {
   "cell_type": "code",
   "execution_count": 3,
   "id": "6f85bb6d-5a35-4a0c-bc1e-6a36ce4a8f7b",
   "metadata": {},
   "outputs": [
    {
     "ename": "ModuleNotFoundError",
     "evalue": "No module named 'pymongo'",
     "output_type": "error",
     "traceback": [
      "\u001b[1;31m---------------------------------------------------------------------------\u001b[0m",
      "\u001b[1;31mModuleNotFoundError\u001b[0m                       Traceback (most recent call last)",
      "Cell \u001b[1;32mIn[3], line 1\u001b[0m\n\u001b[1;32m----> 1\u001b[0m \u001b[38;5;28;01mimport\u001b[39;00m \u001b[38;5;21;01mpymongo\u001b[39;00m\n\u001b[0;32m      2\u001b[0m \u001b[38;5;28;01mfrom\u001b[39;00m \u001b[38;5;21;01mpymongo\u001b[39;00m \u001b[38;5;28;01mimport\u001b[39;00m MongoClient\n\u001b[0;32m      4\u001b[0m \u001b[38;5;28;01mclass\u001b[39;00m \u001b[38;5;21;01mMongoDBConnectionManager\u001b[39;00m():\n",
      "\u001b[1;31mModuleNotFoundError\u001b[0m: No module named 'pymongo'"
     ]
    }
   ],
   "source": [
    "from pymongo import MongoClient\n",
    "\n",
    "class MongoDBConnectionManager():\n",
    "    def __init__(self, hostname, port):\n",
    "        self.hostname = hostname\n",
    "        self.port = port\n",
    "        self.connection = None\n",
    "\n",
    "    def __enter__(self):\n",
    "        self.connection = MongoClient\n",
    "        return self.connection\n",
    "\n",
    "    def __exit__(self, exc_type, exc_value, exc_traceback):\n",
    "        self.connection.close()\n",
    "        \n",
    "# connecting with a localhost\n",
    "with MongoDBConnectionManager('localhost', '27017') as mongo:\n",
    "    collection = mongo.connection.SampleDb.test\n",
    "    data = collection.find({'_id': 1})\n",
    "    print(data.get('name'))"
   ]
  },
  {
   "cell_type": "code",
   "execution_count": 2,
   "id": "696778d8-f5f7-42df-8336-cbf1cdf87cf6",
   "metadata": {},
   "outputs": [
    {
     "name": "stdout",
     "output_type": "stream",
     "text": [
      "Inside __enter__\n",
      "3.0\n",
      "\n",
      "Inside __exit__\n",
      "\n",
      "Execution type: None\n",
      "\n",
      "Execution value: None\n",
      "\n",
      "Traceback: None\n",
      ".........................................\n",
      "Inside __enter__\n",
      "\n",
      "Inside __exit__\n",
      "\n",
      "Execution type: <class 'ZeroDivisionError'>\n",
      "\n",
      "Execution value: division by zero\n",
      "\n",
      "Traceback: <traceback object at 0x000002B1FA957F80>\n"
     ]
    },
    {
     "ename": "ZeroDivisionError",
     "evalue": "division by zero",
     "output_type": "error",
     "traceback": [
      "\u001b[1;31m---------------------------------------------------------------------------\u001b[0m",
      "\u001b[1;31mZeroDivisionError\u001b[0m                         Traceback (most recent call last)",
      "Cell \u001b[1;32mIn[2], line 25\u001b[0m\n\u001b[0;32m     22\u001b[0m \u001b[38;5;28mprint\u001b[39m(\u001b[38;5;124m\"\u001b[39m\u001b[38;5;124m.........................................\u001b[39m\u001b[38;5;124m\"\u001b[39m)\n\u001b[0;32m     24\u001b[0m \u001b[38;5;28;01mwith\u001b[39;00m Divide(\u001b[38;5;241m3\u001b[39m, \u001b[38;5;241m0\u001b[39m) \u001b[38;5;28;01mas\u001b[39;00m r:\n\u001b[1;32m---> 25\u001b[0m     r\u001b[38;5;241m.\u001b[39mdivide_by_zero()\n",
      "Cell \u001b[1;32mIn[2], line 17\u001b[0m, in \u001b[0;36mDivide.divide_by_zero\u001b[1;34m(self)\u001b[0m\n\u001b[0;32m     16\u001b[0m \u001b[38;5;28;01mdef\u001b[39;00m \u001b[38;5;21mdivide_by_zero\u001b[39m(\u001b[38;5;28mself\u001b[39m):\n\u001b[1;32m---> 17\u001b[0m     \u001b[38;5;28mprint\u001b[39m(\u001b[38;5;28mself\u001b[39m\u001b[38;5;241m.\u001b[39mnum1 \u001b[38;5;241m/\u001b[39m \u001b[38;5;28mself\u001b[39m\u001b[38;5;241m.\u001b[39mnum2)\n",
      "\u001b[1;31mZeroDivisionError\u001b[0m: division by zero"
     ]
    }
   ],
   "source": [
    "class Divide:\n",
    "    def __init__(self, num1, num2):\n",
    "        self.num1 = num1\n",
    "        self.num2 = num2\n",
    "\n",
    "    def __enter__(self):\n",
    "        print(\"Inside __enter__\")\n",
    "        return self\n",
    "\n",
    "    def __exit__(self, exc_type, exc_value, traceback):\n",
    "        print(\"\\nInside __exit__\")\n",
    "        print(\"\\nExecution type:\", exc_type)\n",
    "        print(\"\\nExecution value:\", exc_value)\n",
    "        print(\"\\nTraceback:\", traceback)\n",
    "\n",
    "    def divide_by_zero(self):\n",
    "        print(self.num1 / self.num2)  # causes ZeroDivisionError exception\n",
    "\n",
    "with Divide(3, 1) as r:\n",
    "    r.divide_by_zero()\n",
    "\n",
    "print(\".........................................\")\n",
    "\n",
    "with Divide(3, 0) as r:\n",
    "    r.divide_by_zero()"
   ]
  },
  {
   "cell_type": "code",
   "execution_count": 6,
   "id": "e9a61676-6470-4923-ad83-cbab6b09e2a0",
   "metadata": {},
   "outputs": [
    {
     "name": "stdout",
     "output_type": "stream",
     "text": [
      "The sum of 5 and 10 is : 15\n"
     ]
    }
   ],
   "source": [
    "prog = 'print(\"The sum of 5 and 10 is :\", (5 + 10))'\n",
    "exec(prog)"
   ]
  },
  {
   "cell_type": "code",
   "execution_count": 7,
   "id": "cde3cc2b-b5ac-4afb-91b9-8e7a0828a5b7",
   "metadata": {},
   "outputs": [
    {
     "name": "stdout",
     "output_type": "stream",
     "text": [
      "['Divide', 'In', 'Out', '_', '__', '___', '__builtin__', '__builtins__', '__doc__', '__loader__', '__name__', '__package__', '__session__', '__spec__', '_dh', '_i', '_i1', '_i2', '_i3', '_i4', '_i5', '_i6', '_i7', '_ih', '_ii', '_iii', '_oh', 'acos', 'acosh', 'asin', 'asinh', 'atan', 'atan2', 'atanh', 'cbrt', 'ceil', 'comb', 'copysign', 'cos', 'cosh', 'degrees', 'dist', 'e', 'erf', 'erfc', 'exit', 'exp', 'exp2', 'expm1', 'fabs', 'factorial', 'floor', 'fmod', 'frexp', 'fsum', 'gamma', 'gcd', 'get_ipython', 'hypot', 'inf', 'isclose', 'isfinite', 'isinf', 'isnan', 'isqrt', 'lcm', 'ldexp', 'lgamma', 'log', 'log10', 'log1p', 'log2', 'modf', 'nan', 'nextafter', 'open', 'perm', 'pi', 'pow', 'prod', 'prog', 'quit', 'r', 'radians', 'remainder', 'sin', 'sinh', 'sqrt', 'tan', 'tanh', 'tau', 'trunc', 'ulp']\n"
     ]
    }
   ],
   "source": [
    "# The math class is used to include all the\n",
    "# math functions\n",
    "from math import *\n",
    "exec(\"print(dir())\")"
   ]
  },
  {
   "cell_type": "code",
   "execution_count": 9,
   "id": "796c7cf5-b534-454b-87c3-68f8497823ca",
   "metadata": {},
   "outputs": [
    {
     "name": "stdout",
     "output_type": "stream",
     "text": [
      "120\n"
     ]
    }
   ],
   "source": [
    "# factorial() will be executed\n",
    "from math import *\n",
    "exec(\"print(factorial(5))\", {\"factorial\":factorial})"
   ]
  },
  {
   "cell_type": "code",
   "execution_count": 10,
   "id": "88112a91-6ca5-4a9e-bac8-6b8f46ab9a29",
   "metadata": {},
   "outputs": [
    {
     "name": "stdout",
     "output_type": "stream",
     "text": [
      "['iter', 'sum']\n"
     ]
    }
   ],
   "source": [
    "from math import *\n",
    "exec(\"print(dir())\", {\"built\" : __builtins__}, {\"sum\": sum, \"iter\": iter})"
   ]
  },
  {
   "cell_type": "code",
   "execution_count": 1,
   "id": "890c6f16-8464-4721-b02f-b61cd43b624d",
   "metadata": {},
   "outputs": [
    {
     "name": "stdout",
     "output_type": "stream",
     "text": [
      "'G \\xeb \\xea k s f ? r G ? e k s'\n"
     ]
    }
   ],
   "source": [
    "# Python program to illustrate ascii()\n",
    "test_str = \"G ë ê k s f ? r G ? e k s\"\n",
    "print(ascii(test_str))"
   ]
  },
  {
   "cell_type": "code",
   "execution_count": 2,
   "id": "2e1189e9-09bc-4a21-9fa3-edfe88a710ea",
   "metadata": {},
   "outputs": [
    {
     "name": "stdout",
     "output_type": "stream",
     "text": [
      "'Geeks\\nfor\\ngeeks'\n"
     ]
    }
   ],
   "source": [
    "test_str = '''Geeks\n",
    "for\n",
    "geeks'''\n",
    "print(ascii(test_str))"
   ]
  },
  {
   "cell_type": "code",
   "execution_count": 3,
   "id": "d7aab2bc-a70d-46c4-a914-52a532e4b2e9",
   "metadata": {},
   "outputs": [
    {
     "name": "stdout",
     "output_type": "stream",
     "text": [
      "10.0\n"
     ]
    }
   ],
   "source": [
    "# convert integer value to float\n",
    "num = float(10)\n",
    "print(num)"
   ]
  },
  {
   "cell_type": "code",
   "execution_count": 4,
   "id": "902a8073-dba9-45ba-b01e-f9e3d87b1ab2",
   "metadata": {},
   "outputs": [
    {
     "name": "stdout",
     "output_type": "stream",
     "text": [
      "21.89\n",
      "8.0\n",
      "23.0\n",
      "-16.54\n",
      "-24.45\n",
      "inf\n",
      "inf\n",
      "nan\n",
      "nan\n"
     ]
    }
   ],
   "source": [
    "# Python program to illustrate\n",
    "# Various examples and working of float()\n",
    "# for integers\n",
    "print(float(21.89))\n",
    " \n",
    "# for floating point numbers\n",
    "print(float(8))\n",
    " \n",
    "# for integer type strings\n",
    "print(float(\"23\"))\n",
    " \n",
    "# for floating type strings\n",
    "print(float(\"-16.54\"))\n",
    " \n",
    "# for string floats with whitespaces\n",
    "print(float(\"     -24.45   \\n\"))\n",
    " \n",
    "# for inf/infinity\n",
    "print(float(\"InF\"))\n",
    "print(float(\"InFiNiTy\"))\n",
    " \n",
    "# for NaN\n",
    "print(float(\"nan\"))\n",
    "print(float(\"NaN\"))"
   ]
  },
  {
   "cell_type": "code",
   "execution_count": 5,
   "id": "f3502235-7cf3-4d2f-a31d-cb590afbef69",
   "metadata": {},
   "outputs": [
    {
     "name": "stdout",
     "output_type": "stream",
     "text": [
      "90.0\n"
     ]
    }
   ],
   "source": [
    "number = 90\n",
    "result = float(number)\n",
    "print(result)"
   ]
  },
  {
   "cell_type": "code",
   "execution_count": 9,
   "id": "ff4a26e1-752b-49f3-8861-41d0c74c6922",
   "metadata": {},
   "outputs": [
    {
     "name": "stdout",
     "output_type": "stream",
     "text": [
      "nan\n",
      "nan\n",
      "inf\n",
      "inf\n"
     ]
    }
   ],
   "source": [
    "# Python program to illustrate\n",
    "# Various examples and working of float()\n",
    "print(float(\"nan\"))\n",
    "print(float(\"NaN\"))\n",
    "\n",
    "print(float(\"InF\"))\n",
    "print(float(\"InFiNiTy\"))\n"
   ]
  },
  {
   "cell_type": "code",
   "execution_count": 10,
   "id": "b9fe7809-e2bf-4d06-bced-d49b8bed4e2e",
   "metadata": {},
   "outputs": [
    {
     "name": "stdout",
     "output_type": "stream",
     "text": [
      "90.0\n",
      "-16.54\n"
     ]
    }
   ],
   "source": [
    "# python code to convert string\n",
    "# to float\n",
    "string = \"90\"\n",
    "result1 = float(string)\n",
    " \n",
    "# for floating type strings\n",
    "float_string = \"-16.54\"\n",
    "result2 = float(float_string)\n",
    " \n",
    "print(result1)\n",
    "print(result2)\n"
   ]
  },
  {
   "cell_type": "code",
   "execution_count": null,
   "id": "edae271f-9eab-4dcf-8ef9-9a5a9acd89c5",
   "metadata": {},
   "outputs": [],
   "source": []
  }
 ],
 "metadata": {
  "kernelspec": {
   "display_name": "Python 3 (ipykernel)",
   "language": "python",
   "name": "python3"
  },
  "language_info": {
   "codemirror_mode": {
    "name": "ipython",
    "version": 3
   },
   "file_extension": ".py",
   "mimetype": "text/x-python",
   "name": "python",
   "nbconvert_exporter": "python",
   "pygments_lexer": "ipython3",
   "version": "3.11.7"
  },
  "widgets": {
   "application/vnd.jupyter.widget-state+json": {
    "state": {},
    "version_major": 2,
    "version_minor": 0
   }
  }
 },
 "nbformat": 4,
 "nbformat_minor": 5
}

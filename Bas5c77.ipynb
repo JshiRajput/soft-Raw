{
 "cells": [
  {
   "cell_type": "code",
   "execution_count": null,
   "id": "bbf17583-2fd8-4a54-be14-17d65cfc5cbf",
   "metadata": {},
   "outputs": [],
   "source": [
    "opreter"
   ]
  },
  {
   "cell_type": "code",
   "execution_count": 3,
   "id": "97fc6d6b-486d-45fd-bea4-6e32ddc5c1f4",
   "metadata": {},
   "outputs": [
    {
     "name": "stdout",
     "output_type": "stream",
     "text": [
      "3\n",
      "jai shree ram\n",
      "15\n",
      "ram ram ram ram ram ram ram ram \n"
     ]
    }
   ],
   "source": [
    "print(1 + 2)\n",
    "print(\"jai \" + \"shree \" + \"ram\")\n",
    "print(3 * 5)\n",
    "print(\"ram \" * 8)"
   ]
  },
  {
   "cell_type": "code",
   "execution_count": 11,
   "id": "fc61203b-7325-4e03-8a11-c564a7cdfee5",
   "metadata": {},
   "outputs": [
    {
     "name": "stdout",
     "output_type": "stream",
     "text": [
      "3\n",
      "GeeksFor\n",
      "3\n",
      "GeeksFor\n",
      "3\n",
      "GeeksFor\n"
     ]
    }
   ],
   "source": [
    "# to overload an binary + operator\n",
    " \n",
    "class A:\n",
    "    def __init__(self, a):\n",
    "        self.a = a\n",
    " \n",
    "    # adding two objects \n",
    "    def __add__(self, o):\n",
    "        return self.a + o.a \n",
    "ob1 = A(1)\n",
    "ob2 = A(2)\n",
    "ob3 = A(\"Geeks\")\n",
    "ob4 = A(\"For\")\n",
    " \n",
    "print(ob1 + ob2)\n",
    "print(ob3 + ob4)\n",
    "# Actual working when Binary Operator is used.\n",
    "print(A.__add__(ob1 , ob2)) \n",
    "print(A.__add__(ob3,ob4)) \n",
    "#And can also be Understand as :\n",
    "print(ob1.__add__(ob2))\n",
    "print(ob3.__add__(ob4))"
   ]
  },
  {
   "cell_type": "code",
   "execution_count": 13,
   "id": "c812c6cc-3318-42a3-b9ae-62f35af122b8",
   "metadata": {},
   "outputs": [
    {
     "name": "stdout",
     "output_type": "stream",
     "text": [
      "(3, 5)\n"
     ]
    }
   ],
   "source": [
    "# + operator overloading.\n",
    "class complex:\n",
    "    def __init__(self, a, b):\n",
    "        self.a = a\n",
    "        self.b = b\n",
    " \n",
    "     # adding two objects \n",
    "    def __add__(self, other):\n",
    "        return self.a + other.a, self.b + other.b\n",
    " \n",
    "Ob1 = complex(1, 2)\n",
    "Ob2 = complex(2, 3)\n",
    "Ob3 = Ob1 + Ob2\n",
    "print(Ob3)"
   ]
  },
  {
   "cell_type": "code",
   "execution_count": 1,
   "id": "3210b1ad-27ae-49a4-8682-b147137e4352",
   "metadata": {},
   "outputs": [
    {
     "name": "stdout",
     "output_type": "stream",
     "text": [
      "ob2 is greater than ob1\n"
     ]
    }
   ],
   "source": [
    "#Overloading comparison operators in Python :  \n",
    "class A:\n",
    "    def __init__(self, a):\n",
    "        self.a = a\n",
    "    def __gt__(self, other):\n",
    "        if(self.a>other.a):\n",
    "            return True\n",
    "        else:\n",
    "            return False\n",
    "\n",
    "ob1 = A(2)\n",
    "ob2 = A(3)\n",
    "if(ob1>ob2):\n",
    "    print(\"ob1 is greater than ob2\")\n",
    "else:  \n",
    "    print(\"ob2 is greater than ob1\")"
   ]
  },
  {
   "cell_type": "code",
   "execution_count": 6,
   "id": "c046c13e-de30-41f2-b6cf-1df9bd434c52",
   "metadata": {},
   "outputs": [
    {
     "name": "stdout",
     "output_type": "stream",
     "text": [
      "ob1 is lessthan ob2\n",
      "Not equal\n"
     ]
    }
   ],
   "source": [
    "class A:\n",
    "    def __init__(self, a):\n",
    "        self.a = a\n",
    "        \n",
    "    def __lt__(self, other):\n",
    "        if(self.a<other.a):\n",
    "            return \"ob1 is lessthan ob2\"\n",
    "        else:\n",
    "            return \"ob2 is less than ob1\"\n",
    "    def __eq__(self,other):\n",
    "        if(self.a == other.a):\n",
    "            return \"Both are equal\"\n",
    "        else:\n",
    "            return \"Not equal\"\n",
    "                 \n",
    "ob1 = A(2)\n",
    "ob2 = A(3)\n",
    "print(ob1 < ob2)\n",
    " \n",
    "ob3 = A(4)\n",
    "ob4 = A(4)\n",
    "print(ob1 == ob2) \n",
    "     \n"
   ]
  },
  {
   "cell_type": "code",
   "execution_count": 7,
   "id": "6cdb215e-7b9c-4980-bf70-80babe2a5064",
   "metadata": {},
   "outputs": [
    {
     "name": "stdout",
     "output_type": "stream",
     "text": [
      " id of a :  140731838809160  Value :  10\n"
     ]
    }
   ],
   "source": [
    "a = 10\n",
    "print(\" id of a : \", id(10) ,\" Value : \", a  )"
   ]
  },
  {
   "cell_type": "code",
   "execution_count": 1,
   "id": "dddfd8b8-415f-4181-ad8d-23eea19285b1",
   "metadata": {},
   "outputs": [
    {
     "name": "stdout",
     "output_type": "stream",
     "text": [
      "This is a string\n",
      "This is a string\n",
      "This is a string\n"
     ]
    }
   ],
   "source": [
    "# Assigning string to a variable\n",
    "a = 'This is a string'\n",
    "print (a)\n",
    "b = \"This is a string\"\n",
    "print (b)\n",
    "c= '''This is a string'''\n",
    "print (c)"
   ]
  },
  {
   "cell_type": "code",
   "execution_count": 4,
   "id": "e09150d5-dadb-49c3-92b9-88faef57cadb",
   "metadata": {},
   "outputs": [
    {
     "name": "stdout",
     "output_type": "stream",
     "text": [
      "[1, 'a', 'string', 3]\n",
      "[1, 'a', 'string', 3, 6]\n",
      "[1, 'a', 'string', 3]\n",
      "a\n"
     ]
    }
   ],
   "source": [
    "# Declaring a list\n",
    "L = [1, \"a\" , \"string\" , 1+2]\n",
    "print(L)\n",
    "L.append(6)    \n",
    "print(L)\n",
    "#Deleting last element from a list\n",
    "L.pop()\n",
    "print (L)\n",
    "\n",
    "print (L[1])"
   ]
  },
  {
   "cell_type": "code",
   "execution_count": 5,
   "id": "6949cc3e-c1d6-477a-983d-429a8f4c4c21",
   "metadata": {},
   "outputs": [
    {
     "name": "stdout",
     "output_type": "stream",
     "text": [
      "('ram', 1, 3, 't', 3)\n",
      "3\n"
     ]
    }
   ],
   "source": [
    "t = (\"ram\", 1, 3, \"t\", 1+2)\n",
    "print(t)\n",
    "print(t[4])"
   ]
  },
  {
   "cell_type": "code",
   "execution_count": 6,
   "id": "7e29b1e2-e19e-4fab-97ad-726be041443c",
   "metadata": {},
   "outputs": [
    {
     "name": "stdout",
     "output_type": "stream",
     "text": [
      "1\n",
      "2\n",
      "3\n",
      "4\n",
      "5\n",
      "6\n",
      "7\n",
      "8\n",
      "9\n"
     ]
    }
   ],
   "source": [
    "i = 1\n",
    "while (i < 10):\n",
    "    print(i)\n",
    "    i += 1"
   ]
  },
  {
   "cell_type": "code",
   "execution_count": 15,
   "id": "115bb7d2-9472-4329-a37a-84cbd7393875",
   "metadata": {},
   "outputs": [
    {
     "name": "stdout",
     "output_type": "stream",
     "text": [
      "0\n",
      "1\n",
      "2\n",
      "3\n",
      "4\n",
      "5\n",
      "6\n",
      "7\n",
      "8\n"
     ]
    }
   ],
   "source": [
    "for i in range(0, 9):\n",
    "    print(i)"
   ]
  },
  {
   "cell_type": "code",
   "execution_count": null,
   "id": "92bdfb8d-94ff-4060-95f4-4cbc9db1e54d",
   "metadata": {},
   "outputs": [],
   "source": [
    "String"
   ]
  },
  {
   "cell_type": "code",
   "execution_count": 23,
   "id": "c64ca6cd-964e-4db8-bbc8-fecebfb234bb",
   "metadata": {},
   "outputs": [
    {
     "name": "stdout",
     "output_type": "stream",
     "text": [
      "A Computer Science portal for geeks\n",
      "<class 'str'>\n"
     ]
    }
   ],
   "source": [
    "string_0 = (\"A Computer Science portal for geeks\")\n",
    "print(string_0)\n",
    "print(type(string_0))"
   ]
  },
  {
   "cell_type": "code",
   "execution_count": 24,
   "id": "e88e503b-eadb-4179-933e-584eda1b5716",
   "metadata": {},
   "outputs": [
    {
     "name": "stdout",
     "output_type": "stream",
     "text": [
      "String with the use of Single Quotes: \n",
      "Welcome to the Geeks World\n",
      "\n",
      "String with the use of Double Quotes: \n",
      "I'm a Geek\n",
      "\n",
      "String with the use of Triple Quotes: \n",
      "I'm a Geek and I live in a world of \"Geeks\"\n",
      "\n",
      "Creating a multiline String: \n",
      "Geeks\n",
      "            For\n",
      "            Life\n"
     ]
    }
   ],
   "source": [
    "# Creating a String\n",
    "# with single Quotes\n",
    "String1 = 'Welcome to the Geeks World'\n",
    "print(\"String with the use of Single Quotes: \")\n",
    "print(String1)\n",
    "\n",
    "# Creating a String\n",
    "# with double Quotes\n",
    "String1 = \"I'm a Geek\"\n",
    "print(\"\\nString with the use of Double Quotes: \")\n",
    "print(String1)\n",
    "\n",
    "# Creating a String\n",
    "# with triple Quotes\n",
    "String1 = '''I'm a Geek and I live in a world of \"Geeks\"'''\n",
    "print(\"\\nString with the use of Triple Quotes: \")\n",
    "print(String1)\n",
    "\n",
    "# Creating String with triple\n",
    "# Quotes allows multiple lines\n",
    "String1 = '''Geeks\n",
    "            For\n",
    "            Life'''\n",
    "print(\"\\nCreating a multiline String: \")\n",
    "print(String1)\n"
   ]
  },
  {
   "cell_type": "code",
   "execution_count": 25,
   "id": "c8c4b1ee-6796-4ced-9834-2dd455187b8f",
   "metadata": {},
   "outputs": [
    {
     "name": "stdout",
     "output_type": "stream",
     "text": [
      "Initial String: \n",
      "GeeksForGeeks\n",
      "\n",
      "Slicing characters from 3-12: \n",
      "ksForGeek\n",
      "\n",
      "Slicing characters between 3rd and 2nd last character: \n",
      "ksForGee\n"
     ]
    }
   ],
   "source": [
    "String1 = \"GeeksForGeeks\"\n",
    "print(\"Initial String: \")\n",
    "print(String1)\n",
    "\n",
    "# Printing 3rd to 12th character\n",
    "print(\"\\nSlicing characters from 3-12: \")\n",
    "print(String1[3:12])\n",
    "\n",
    "# Printing characters between\n",
    "# 3rd and 2nd last character\n",
    "print(\"\\nSlicing characters between \" +\n",
    "      \"3rd and 2nd last character: \")\n",
    "print(String1[3:-2])"
   ]
  },
  {
   "cell_type": "code",
   "execution_count": 26,
   "id": "eed3be29-b23a-46b6-9243-eb96da4c4cdb",
   "metadata": {},
   "outputs": [
    {
     "name": "stdout",
     "output_type": "stream",
     "text": [
      "skeegrofskeeg\n"
     ]
    }
   ],
   "source": [
    "#Program to reverse a string\n",
    "gfg = \"geeksforgeeks\"\n",
    "print(gfg[::-1])"
   ]
  },
  {
   "cell_type": "code",
   "execution_count": 27,
   "id": "6f86950b-ca2e-46a3-b794-eececaa837fe",
   "metadata": {},
   "outputs": [
    {
     "name": "stdout",
     "output_type": "stream",
     "text": [
      "skeegrofskeeg\n"
     ]
    }
   ],
   "source": [
    "# Program to reverse a string\n",
    "\n",
    "gfg = \"geeksforgeeks\"\n",
    "\n",
    "# Reverse the string using reversed and join function\n",
    "gfg = \"\".join(reversed(gfg))\n",
    "\n",
    "print(gfg)"
   ]
  },
  {
   "cell_type": "code",
   "execution_count": 30,
   "id": "6fee8e97-94ea-4ba1-91c8-f1fe70a9aca1",
   "metadata": {},
   "outputs": [
    {
     "name": "stdin",
     "output_type": "stream",
     "text": [
      "Enter the String : jai shree   \n"
     ]
    },
    {
     "name": "stdout",
     "output_type": "stream",
     "text": [
      "jai shree   \n",
      "jai shreeram  \n",
      "jaram shree   \n"
     ]
    }
   ],
   "source": [
    "x = str(input(\"Enter the String :\"))\n",
    "print(x)\n",
    "L1 = list(x)\n",
    "L1[9] = 'ram'\n",
    "y = ''.join(L1)\n",
    "print(y)\n",
    "z = x[0:2] + 'ram' + x[3:]\n",
    "print(z)"
   ]
  },
  {
   "cell_type": "code",
   "execution_count": 32,
   "id": "72767164-e4c8-498d-911e-a1a4d4e24d9e",
   "metadata": {},
   "outputs": [
    {
     "name": "stdout",
     "output_type": "stream",
     "text": [
      "Initial String: \n",
      "Hello, I'm a Geek\n",
      "\n",
      "Updated String: \n",
      "Hello, I'm a Geek Welcome to the Geek World\n"
     ]
    }
   ],
   "source": [
    "String1 = \"Hello, I'm a Geek\"\n",
    "print(\"Initial String: \")\n",
    "print(String1)\n",
    "\n",
    "# Updating a String\n",
    "String1 = \"Hello, I'm a Geek Welcome to the Geek World\"\n",
    "print(\"\\nUpdated String: \")\n",
    "print(String1)"
   ]
  },
  {
   "cell_type": "code",
   "execution_count": 33,
   "id": "adf4f7a8-7cd5-4e2f-b058-e63f4f6e89ed",
   "metadata": {},
   "outputs": [
    {
     "name": "stdout",
     "output_type": "stream",
     "text": [
      "Initial String: \n",
      "Hello, I'm a Geek\n",
      "Deleting character at 2nd Index: \n"
     ]
    },
    {
     "ename": "TypeError",
     "evalue": "'str' object doesn't support item deletion",
     "output_type": "error",
     "traceback": [
      "\u001b[1;31m---------------------------------------------------------------------------\u001b[0m",
      "\u001b[1;31mTypeError\u001b[0m                                 Traceback (most recent call last)",
      "Cell \u001b[1;32mIn[33], line 9\u001b[0m\n\u001b[0;32m      6\u001b[0m \u001b[38;5;28mprint\u001b[39m(String1)\n\u001b[0;32m      8\u001b[0m \u001b[38;5;28mprint\u001b[39m(\u001b[38;5;124m\"\u001b[39m\u001b[38;5;124mDeleting character at 2nd Index: \u001b[39m\u001b[38;5;124m\"\u001b[39m)\n\u001b[1;32m----> 9\u001b[0m \u001b[38;5;28;01mdel\u001b[39;00m String1[\u001b[38;5;241m2\u001b[39m]\n\u001b[0;32m     10\u001b[0m \u001b[38;5;28mprint\u001b[39m(String1)\n",
      "\u001b[1;31mTypeError\u001b[0m: 'str' object doesn't support item deletion"
     ]
    }
   ],
   "source": [
    "# Python Program to delete\n",
    "# character of a String\n",
    "\n",
    "String1 = \"Hello, I'm a Geek\"\n",
    "print(\"Initial String: \")\n",
    "print(String1)\n",
    "\n",
    "print(\"Deleting character at 2nd Index: \")\n",
    "del String1[2]\n",
    "print(String1)"
   ]
  },
  {
   "cell_type": "code",
   "execution_count": 34,
   "id": "ac48c061-1057-468d-a17c-f34adcf6bd1a",
   "metadata": {},
   "outputs": [
    {
     "name": "stdout",
     "output_type": "stream",
     "text": [
      "Hello, I'm a Geek\n",
      "Helo, I'm a Geek\n"
     ]
    }
   ],
   "source": [
    "# Python Program to Delete\n",
    "\n",
    "String1 = \"Hello, I'm a Geek\"\n",
    "print(String1)\n",
    "\n",
    "# Deleting a character\n",
    "# of the String\n",
    "String2 = String1[0:2] + String1[3:]\n",
    "print(String2)"
   ]
  },
  {
   "cell_type": "code",
   "execution_count": 36,
   "id": "e1721826-0b4e-4a30-8155-825d2e16f792",
   "metadata": {},
   "outputs": [
    {
     "name": "stdout",
     "output_type": "stream",
     "text": [
      "Initial String with use of Triple Quotes:  jai shree Ram\n",
      "\n",
      "Escaping Single Quote:  I'm a \"Geek\"\n",
      "\n",
      "Escaping Double Quotes:  I'm a \"Geek\"\n",
      "\n",
      "Escaping Backslashes:  C:\\Python\\Geeks\\\n",
      "\n",
      "Tab:  Hi\tGeeks\n",
      "\n",
      "New Line:  Python\n",
      "Geeks\n"
     ]
    }
   ],
   "source": [
    "x = '''jai shree Ram'''\n",
    "print(\"Initial String with use of Triple Quotes: \", x)\n",
    "# Escaping Single Quote\n",
    "x = 'I\\'m a \"Geek\"'\n",
    "print(\"\\nEscaping Single Quote: \", x)\n",
    "\n",
    "# Escaping Double Quotes\n",
    "x = \"I'm a \\\"Geek\\\"\"\n",
    "print(\"\\nEscaping Double Quotes: \", x)\n",
    "\n",
    "# Printing Paths with the\n",
    "# use of Escape Sequences\n",
    "x = \"C:\\\\Python\\\\Geeks\\\\\"\n",
    "print(\"\\nEscaping Backslashes: \", x)\n",
    "\n",
    "# Printing Paths with the\n",
    "# use of Tab\n",
    "x = \"Hi\\tGeeks\"\n",
    "print(\"\\nTab: \", x)\n",
    "\n",
    "# Printing Paths with the\n",
    "# use of New Line\n",
    "x = \"Python\\nGeeks\"\n",
    "print(\"\\nNew Line: \", x)\n"
   ]
  },
  {
   "cell_type": "code",
   "execution_count": 42,
   "id": "198f5c25-9845-40e6-8e04-d387159e24ac",
   "metadata": {},
   "outputs": [
    {
     "name": "stdout",
     "output_type": "stream",
     "text": [
      "\n",
      "Printing in Octal with the use of Escape Sequences:  Hello\n",
      "\n",
      "Printing Raw String in Octal Format:  This is \\110\\145\\154\\154\\157\n",
      "\n",
      "Printing in HEX with the use of Escape Sequences:  This is Geeks in HEX\n",
      "\n",
      "Printing Raw String in HEX Format:  This is \\x47\\x65\\x65\\x6b\\x73 in \\x48\\x45\\x58\n"
     ]
    }
   ],
   "source": [
    "# Printing hello in octal\n",
    "x = \"\\110\\145\\154\\154\\157\"\n",
    "print(\"\\nPrinting in Octal with the use of Escape Sequences: \", x)\n",
    "\n",
    "# Using raw String to\n",
    "# ignore Escape Sequences\n",
    "x = r\"This is \\110\\145\\154\\154\\157\"\n",
    "print(\"\\nPrinting Raw String in Octal Format: \", x)\n",
    "\n",
    "# Printing Geeks in HEX\n",
    "x = \"This is \\x47\\x65\\x65\\x6b\\x73 in \\x48\\x45\\x58\"\n",
    "print(\"\\nPrinting in HEX with the use of Escape Sequences: \", x)\n",
    "\n",
    "# Using raw String to\n",
    "# ignore Escape Sequences\n",
    "x = r\"This is \\x47\\x65\\x65\\x6b\\x73 in \\x48\\x45\\x58\"\n",
    "print(\"\\nPrinting Raw String in HEX Format: \", x)"
   ]
  },
  {
   "cell_type": "code",
   "execution_count": 51,
   "id": "eb1e1a6f-0240-4a28-8f15-968dec817b96",
   "metadata": {},
   "outputs": [
    {
     "name": "stdout",
     "output_type": "stream",
     "text": [
      "jai shree Ram\n",
      "Ram jai shree\n",
      "Ram shree jai\n"
     ]
    }
   ],
   "source": [
    "# Formatting of Strings\n",
    "# Default order\n",
    "x = \"{} {} {}\".format(\"jai\", \"shree\", \"Ram\")\n",
    "print(x)\n",
    "\n",
    "# Positional Formatting\n",
    "x = \"{2} {0} {1}\".format(\"jai\", \"shree\", \"Ram\")\n",
    "print(x)\n",
    "\n",
    "# Keyword Formatting\n",
    "x = \"{l} {f} {g}\".format(g=\"jai\", f=\"shree\", l =\"Ram\")\n",
    "print(x)\n"
   ]
  },
  {
   "cell_type": "code",
   "execution_count": 52,
   "id": "181d29b3-5343-4bb8-8b1e-dd8847629c77",
   "metadata": {},
   "outputs": [
    {
     "name": "stdout",
     "output_type": "stream",
     "text": [
      "\n",
      "Binary representation of 16 is  10000\n",
      "\n",
      "Exponent representation of 165.6458 is  1.656458e+02\n",
      "\n",
      "one-sixth is :  0.17\n"
     ]
    }
   ],
   "source": [
    "# Formatting of Integers\n",
    "x = \"{0:b}\".format(16)\n",
    "print(\"\\nBinary representation of 16 is \", x)\n",
    "\n",
    "# Formatting of Floats\n",
    "x = \"{0:e}\".format(165.6458)\n",
    "print(\"\\nExponent representation of 165.6458 is \", x)\n",
    "\n",
    "# Rounding off Integers\n",
    "x = \"{0:.2f}\".format(1/6)\n",
    "print(\"\\none-sixth is : \", x)"
   ]
  },
  {
   "cell_type": "code",
   "execution_count": 53,
   "id": "ab4787a0-faf9-47f9-8669-3b040d2d38fc",
   "metadata": {},
   "outputs": [
    {
     "name": "stdout",
     "output_type": "stream",
     "text": [
      "\n",
      "Left, center and right alignment with Formatting:  |Geeks     |   for    |     Geeks|\n",
      "\n",
      " GeeksforGeeks   was founded in 2009!\n"
     ]
    }
   ],
   "source": [
    "# String alignment\n",
    "x = \"|{:<10}|{:^10}|{:>10}|\".format('Geeks',\n",
    "                                          'for', \n",
    "                                          'Geeks')\n",
    "print(\"\\nLeft, center and right alignment with Formatting: \", x)\n",
    "\n",
    "# To demonstrate aligning of spaces\n",
    "x = \"\\n{0:^16} was founded in {1:<4}!\".format(\"GeeksforGeeks\",\n",
    "                                                    2009)\n",
    "print(x)"
   ]
  },
  {
   "cell_type": "code",
   "execution_count": null,
   "id": "bfff9588-e37d-4c4f-b608-1fac301b6479",
   "metadata": {},
   "outputs": [],
   "source": [
    "# Old Style Formatting\n",
    "# of Integers\n",
    "\n",
    "x = 12.3456789\n",
    "print(\"Formatting in 3.2f format: \")\n",
    "print('The value of x is %3.2f' % x)\n",
    "print(\"\\nFormatting in 3.4f format: \")\n",
    "print('The value of x is %3.4f' % x)"
   ]
  }
 ],
 "metadata": {
  "kernelspec": {
   "display_name": "Python 3 (ipykernel)",
   "language": "python",
   "name": "python3"
  },
  "language_info": {
   "codemirror_mode": {
    "name": "ipython",
    "version": 3
   },
   "file_extension": ".py",
   "mimetype": "text/x-python",
   "name": "python",
   "nbconvert_exporter": "python",
   "pygments_lexer": "ipython3",
   "version": "3.11.7"
  },
  "widgets": {
   "application/vnd.jupyter.widget-state+json": {
    "state": {},
    "version_major": 2,
    "version_minor": 0
   }
  }
 },
 "nbformat": 4,
 "nbformat_minor": 5
}

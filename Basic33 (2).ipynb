{
 "cells": [
  {
   "cell_type": "code",
   "execution_count": 1,
   "id": "77e259a7-b0a0-4c48-b062-9fa2cf78203f",
   "metadata": {},
   "outputs": [
    {
     "name": "stdout",
     "output_type": "stream",
     "text": [
      "True\n",
      "False\n"
     ]
    }
   ],
   "source": [
    "def test_distinct(data):\n",
    "    if len(data) == len(set(data)):\n",
    "           return True\n",
    "    else:\n",
    "         return False\n",
    "print(test_distinct([1, 5, 7, 9]))\n",
    "print(test_distinct([2, 4, 5, 5, 7, 9]))"
   ]
  },
  {
   "cell_type": "code",
   "execution_count": 2,
   "id": "3a72ff06-497d-41e8-ab8c-431e40f64432",
   "metadata": {},
   "outputs": [
    {
     "name": "stdout",
     "output_type": "stream",
     "text": [
      "aioeu\n"
     ]
    }
   ],
   "source": [
    "import random\n",
    "x = ['a', 'e', 'i', 'o', 'u']\n",
    "random.shuffle(x)\n",
    "print(''.join(x))"
   ]
  },
  {
   "cell_type": "code",
   "execution_count": 3,
   "id": "b46e9033-8a35-4131-a11c-f5566437c1fc",
   "metadata": {},
   "outputs": [
    {
     "name": "stdout",
     "output_type": "stream",
     "text": [
      "30\n",
      "60\n",
      "90\n",
      "40\n",
      "80\n",
      "50\n",
      "20\n",
      "70\n",
      "10\n"
     ]
    }
   ],
   "source": [
    "def remove_nums(int_list):\n",
    "    position = 3 - 1\n",
    "    idx = 0\n",
    "    len_list = len(int_list)\n",
    "    while len_list > 0:\n",
    "        idx = (position + idx) % len_list\n",
    "        print(int_list.pop(idx))\n",
    "        len_list -= 1\n",
    "nums = [10, 20, 30, 40, 50, 60, 70, 80, 90]\n",
    "remove_nums(nums)"
   ]
  },
  {
   "cell_type": "code",
   "execution_count": null,
   "id": "9871b9e9-010b-442d-b01c-dede6fa9b814",
   "metadata": {},
   "outputs": [],
   "source": [
    "4"
   ]
  },
  {
   "cell_type": "code",
   "execution_count": 2,
   "id": "facee8c7-6e63-42c4-acff-9db8ff3a2442",
   "metadata": {},
   "outputs": [
    {
     "name": "stdin",
     "output_type": "stream",
     "text": [
      "Enter The Through Numbers 1000\n"
     ]
    },
    {
     "name": "stdout",
     "output_type": "stream",
     "text": [
      "999\n"
     ]
    }
   ],
   "source": [
    "num = int(input(\"Enter The Through Numbers\"))\n",
    "numbers = [num]\n",
    "for num in range(1000):\n",
    "     num = str(num).zfill(3)\n",
    "print(num)\n",
    "numbers.append(num)"
   ]
  },
  {
   "cell_type": "code",
   "execution_count": 5,
   "id": "40897c08-60af-4284-8969-52957dad81ba",
   "metadata": {},
   "outputs": [
    {
     "name": "stdout",
     "output_type": "stream",
     "text": [
      "String:\n",
      " United States Declaration of Independence\n",
      "From Wikipedia, the free encyclopedia\n",
      "... (omitting the rest for brevity) ... \n",
      "... much scholarly inquiry.\n",
      "The Declaration justified the independence of the United States by listing colonial grievances against\n",
      "King George III, and by asserting certain natural and legal rights, including a right of revolution.\n",
      "Having served its original purpose in announcing independence, references to the text of the\n",
      "Declaration were few in the following years. Abraham Lincoln made it the centerpiece of his rhetoric\n",
      "(as in the Gettysburg Address of 1863) and his policies. Since then, it has become a well-known statement\n",
      "on human rights, particularly its second sentence:\n",
      "\n",
      "We hold these truths to be self-evident, that all men are created equal, that they are endowed by their\n",
      "Creator with certain unalienable Rights, that among these are Life, Liberty and the pursuit of Happiness.\n",
      "\n",
      "This has been called \"one of the best-known sentences in the English language\", containing \"the most potent\n",
      "and consequential words in American history\". The passage came to represent a moral standard to which\n",
      "the United States should strive. This view was notably promoted by Abraham Lincoln, who considered the\n",
      "Declaration to be the foundation of his political philosophy and argued that it is a statement of principles\n",
      "through which the United States Constitution should be interpreted.\n",
      "\n",
      "The U.S. Declaration of Independence inspired many other similar documents in other countries, the first\n",
      "being the 1789 Declaration of Flanders issued during the Brabant Revolution in the Austrian Netherlands\n",
      "(modern-day Belgium). It also served as the primary model for numerous declarations of independence across\n",
      "Europe and Latin America, as well as Africa (Liberia) and Oceania (New Zealand) during the first half of the\n",
      "19th century. \n",
      "\n",
      "List:\n",
      " ['United', 'States', 'Declaration', 'of', 'Independence', 'From', 'Wikipedia,', 'the', 'free', 'encyclopedia', '...', '(omitting', 'the', 'rest', 'for', 'brevity)', '...', '...', 'much', 'scholarly', 'inquiry.', 'The', 'Declaration', 'justified', 'the', 'independence', 'of', 'the', 'United', 'States', 'by', 'listing', 'colonial', 'grievances', 'against', 'King', 'George', 'III,', 'and', 'by', 'asserting', 'certain', 'natural', 'and', 'legal', 'rights,', 'including', 'a', 'right', 'of', 'revolution.', 'Having', 'served', 'its', 'original', 'purpose', 'in', 'announcing', 'independence,', 'references', 'to', 'the', 'text', 'of', 'the', 'Declaration', 'were', 'few', 'in', 'the', 'following', 'years.', 'Abraham', 'Lincoln', 'made', 'it', 'the', 'centerpiece', 'of', 'his', 'rhetoric', '(as', 'in', 'the', 'Gettysburg', 'Address', 'of', '1863)', 'and', 'his', 'policies.', 'Since', 'then,', 'it', 'has', 'become', 'a', 'well-known', 'statement', 'on', 'human', 'rights,', 'particularly', 'its', 'second', 'sentence:', 'We', 'hold', 'these', 'truths', 'to', 'be', 'self-evident,', 'that', 'all', 'men', 'are', 'created', 'equal,', 'that', 'they', 'are', 'endowed', 'by', 'their', 'Creator', 'with', 'certain', 'unalienable', 'Rights,', 'that', 'among', 'these', 'are', 'Life,', 'Liberty', 'and', 'the', 'pursuit', 'of', 'Happiness.', 'This', 'has', 'been', 'called', '\"one', 'of', 'the', 'best-known', 'sentences', 'in', 'the', 'English', 'language\",', 'containing', '\"the', 'most', 'potent', 'and', 'consequential', 'words', 'in', 'American', 'history\".', 'The', 'passage', 'came', 'to', 'represent', 'a', 'moral', 'standard', 'to', 'which', 'the', 'United', 'States', 'should', 'strive.', 'This', 'view', 'was', 'notably', 'promoted', 'by', 'Abraham', 'Lincoln,', 'who', 'considered', 'the', 'Declaration', 'to', 'be', 'the', 'foundation', 'of', 'his', 'political', 'philosophy', 'and', 'argued', 'that', 'it', 'is', 'a', 'statement', 'of', 'principles', 'through', 'which', 'the', 'United', 'States', 'Constitution', 'should', 'be', 'interpreted.', 'The', 'U.S.', 'Declaration', 'of', 'Independence', 'inspired', 'many', 'other', 'similar', 'documents', 'in', 'other', 'countries,', 'the', 'first', 'being', 'the', '1789', 'Declaration', 'of', 'Flanders', 'issued', 'during', 'the', 'Brabant', 'Revolution', 'in', 'the', 'Austrian', 'Netherlands', '(modern-day', 'Belgium).', 'It', 'also', 'served', 'as', 'the', 'primary', 'model', 'for', 'numerous', 'declarations', 'of', 'independence', 'across', 'Europe', 'and', 'Latin', 'America,', 'as', 'well', 'as', 'Africa', '(Liberia)', 'and', 'Oceania', '(New', 'Zealand)', 'during', 'the', 'first', 'half', 'of', 'the', '19th', 'century.'] \n",
      "\n",
      "Pairs (Words and Frequencies:\n",
      " [('United', 4), ('States', 4), ('Declaration', 6), ('of', 14), ('Independence', 2), ('From', 1), ('Wikipedia,', 1), ('the', 23), ('free', 1), ('encyclopedia', 1), ('...', 3), ('(omitting', 1), ('the', 23), ('rest', 1), ('for', 2), ('brevity)', 1), ('...', 3), ('...', 3), ('much', 1), ('scholarly', 1), ('inquiry.', 1), ('The', 3), ('Declaration', 6), ('justified', 1), ('the', 23), ('independence', 2), ('of', 14), ('the', 23), ('United', 4), ('States', 4), ('by', 4), ('listing', 1), ('colonial', 1), ('grievances', 1), ('against', 1), ('King', 1), ('George', 1), ('III,', 1), ('and', 8), ('by', 4), ('asserting', 1), ('certain', 2), ('natural', 1), ('and', 8), ('legal', 1), ('rights,', 2), ('including', 1), ('a', 4), ('right', 1), ('of', 14), ('revolution.', 1), ('Having', 1), ('served', 2), ('its', 2), ('original', 1), ('purpose', 1), ('in', 7), ('announcing', 1), ('independence,', 1), ('references', 1), ('to', 5), ('the', 23), ('text', 1), ('of', 14), ('the', 23), ('Declaration', 6), ('were', 1), ('few', 1), ('in', 7), ('the', 23), ('following', 1), ('years.', 1), ('Abraham', 2), ('Lincoln', 1), ('made', 1), ('it', 3), ('the', 23), ('centerpiece', 1), ('of', 14), ('his', 3), ('rhetoric', 1), ('(as', 1), ('in', 7), ('the', 23), ('Gettysburg', 1), ('Address', 1), ('of', 14), ('1863)', 1), ('and', 8), ('his', 3), ('policies.', 1), ('Since', 1), ('then,', 1), ('it', 3), ('has', 2), ('become', 1), ('a', 4), ('well-known', 1), ('statement', 2), ('on', 1), ('human', 1), ('rights,', 2), ('particularly', 1), ('its', 2), ('second', 1), ('sentence:', 1), ('We', 1), ('hold', 1), ('these', 2), ('truths', 1), ('to', 5), ('be', 3), ('self-evident,', 1), ('that', 4), ('all', 1), ('men', 1), ('are', 3), ('created', 1), ('equal,', 1), ('that', 4), ('they', 1), ('are', 3), ('endowed', 1), ('by', 4), ('their', 1), ('Creator', 1), ('with', 1), ('certain', 2), ('unalienable', 1), ('Rights,', 1), ('that', 4), ('among', 1), ('these', 2), ('are', 3), ('Life,', 1), ('Liberty', 1), ('and', 8), ('the', 23), ('pursuit', 1), ('of', 14), ('Happiness.', 1), ('This', 2), ('has', 2), ('been', 1), ('called', 1), ('\"one', 1), ('of', 14), ('the', 23), ('best-known', 1), ('sentences', 1), ('in', 7), ('the', 23), ('English', 1), ('language\",', 1), ('containing', 1), ('\"the', 1), ('most', 1), ('potent', 1), ('and', 8), ('consequential', 1), ('words', 1), ('in', 7), ('American', 1), ('history\".', 1), ('The', 3), ('passage', 1), ('came', 1), ('to', 5), ('represent', 1), ('a', 4), ('moral', 1), ('standard', 1), ('to', 5), ('which', 2), ('the', 23), ('United', 4), ('States', 4), ('should', 2), ('strive.', 1), ('This', 2), ('view', 1), ('was', 1), ('notably', 1), ('promoted', 1), ('by', 4), ('Abraham', 2), ('Lincoln,', 1), ('who', 1), ('considered', 1), ('the', 23), ('Declaration', 6), ('to', 5), ('be', 3), ('the', 23), ('foundation', 1), ('of', 14), ('his', 3), ('political', 1), ('philosophy', 1), ('and', 8), ('argued', 1), ('that', 4), ('it', 3), ('is', 1), ('a', 4), ('statement', 2), ('of', 14), ('principles', 1), ('through', 1), ('which', 2), ('the', 23), ('United', 4), ('States', 4), ('Constitution', 1), ('should', 2), ('be', 3), ('interpreted.', 1), ('The', 3), ('U.S.', 1), ('Declaration', 6), ('of', 14), ('Independence', 2), ('inspired', 1), ('many', 1), ('other', 2), ('similar', 1), ('documents', 1), ('in', 7), ('other', 2), ('countries,', 1), ('the', 23), ('first', 2), ('being', 1), ('the', 23), ('1789', 1), ('Declaration', 6), ('of', 14), ('Flanders', 1), ('issued', 1), ('during', 2), ('the', 23), ('Brabant', 1), ('Revolution', 1), ('in', 7), ('the', 23), ('Austrian', 1), ('Netherlands', 1), ('(modern-day', 1), ('Belgium).', 1), ('It', 1), ('also', 1), ('served', 2), ('as', 3), ('the', 23), ('primary', 1), ('model', 1), ('for', 2), ('numerous', 1), ('declarations', 1), ('of', 14), ('independence', 2), ('across', 1), ('Europe', 1), ('and', 8), ('Latin', 1), ('America,', 1), ('as', 3), ('well', 1), ('as', 3), ('Africa', 1), ('(Liberia)', 1), ('and', 8), ('Oceania', 1), ('(New', 1), ('Zealand)', 1), ('during', 2), ('the', 23), ('first', 2), ('half', 1), ('of', 14), ('the', 23), ('19th', 1), ('century.', 1)]\n"
     ]
    }
   ],
   "source": [
    "string_words = '''United States Declaration of Independence\n",
    "From Wikipedia, the free encyclopedia\n",
    "... (omitting the rest for brevity) ... \n",
    "... much scholarly inquiry.\n",
    "The Declaration justified the independence of the United States by listing colonial grievances against\n",
    "King George III, and by asserting certain natural and legal rights, including a right of revolution.\n",
    "Having served its original purpose in announcing independence, references to the text of the\n",
    "Declaration were few in the following years. Abraham Lincoln made it the centerpiece of his rhetoric\n",
    "(as in the Gettysburg Address of 1863) and his policies. Since then, it has become a well-known statement\n",
    "on human rights, particularly its second sentence:\n",
    "\n",
    "We hold these truths to be self-evident, that all men are created equal, that they are endowed by their\n",
    "Creator with certain unalienable Rights, that among these are Life, Liberty and the pursuit of Happiness.\n",
    "\n",
    "This has been called \"one of the best-known sentences in the English language\", containing \"the most potent\n",
    "and consequential words in American history\". The passage came to represent a moral standard to which\n",
    "the United States should strive. This view was notably promoted by Abraham Lincoln, who considered the\n",
    "Declaration to be the foundation of his political philosophy and argued that it is a statement of principles\n",
    "through which the United States Constitution should be interpreted.\n",
    "\n",
    "The U.S. Declaration of Independence inspired many other similar documents in other countries, the first\n",
    "being the 1789 Declaration of Flanders issued during the Brabant Revolution in the Austrian Netherlands\n",
    "(modern-day Belgium). It also served as the primary model for numerous declarations of independence across\n",
    "Europe and Latin America, as well as Africa (Liberia) and Oceania (New Zealand) during the first half of the\n",
    "19th century.'''\n",
    "word_list = string_words.split()\n",
    "word_freq = [word_list.count(n) for n in word_list]\n",
    "print(\"String:\\n {} \\n\".format(string_words))\n",
    "print(\"List:\\n {} \\n\".format(str(word_list)))\n",
    "print(\"Pairs (Words and Frequencies:\\n {}\".format(str(list(zip(word_list, word_freq)))))"
   ]
  },
  {
   "cell_type": "code",
   "execution_count": 21,
   "id": "696e3806-807c-4c75-847d-373cb36a1288",
   "metadata": {},
   "outputs": [
    {
     "name": "stdout",
     "output_type": "stream",
     "text": [
      "aiobotocore==2.7.0\n",
      "aiohttp==3.9.3\n",
      "aioitertools==0.7.1\n",
      "aiosignal==1.2.0\n",
      "alabaster==0.7.12\n",
      "altair==5.0.1\n",
      "anaconda-anon-usage==0.4.3\n",
      "anaconda-catalogs==0.2.0\n",
      "anaconda-client==1.12.3\n",
      "anaconda-cloud-auth==0.1.4\n",
      "anaconda-navigator==2.5.2\n",
      "anaconda-project==0.11.1\n",
      "anyio==4.2.0\n",
      "appdirs==1.4.4\n",
      "archspec==0.2.1\n",
      "argon2-cffi-bindings==21.2.0\n",
      "argon2-cffi==21.3.0\n",
      "arrow==1.2.3\n",
      "astroid==2.14.2\n",
      "astropy==5.3.4\n",
      "asttokens==2.0.5\n",
      "async-lru==2.0.4\n",
      "atomicwrites==1.4.0\n",
      "attrs==23.1.0\n",
      "automat==20.2.0\n",
      "autopep8==1.6.0\n",
      "babel==2.11.0\n",
      "backports.functools-lru-cache==1.6.4\n",
      "backports.tempfile==1.0\n",
      "backports.weakref==1.0.post1\n",
      "bcrypt==3.2.0\n",
      "beautifulsoup4==4.12.2\n",
      "binaryornot==0.4.4\n",
      "black==23.11.0\n",
      "bleach==4.1.0\n",
      "blinker==1.6.2\n",
      "bokeh==3.3.4\n",
      "boltons==23.0.0\n",
      "botocore==1.31.64\n",
      "bottleneck==1.3.7\n",
      "brotli==1.0.9\n",
      "cachetools==4.2.2\n",
      "certifi==2024.2.2\n",
      "cffi==1.16.0\n",
      "chardet==4.0.0\n",
      "charset-normalizer==2.0.4\n",
      "click==8.1.7\n",
      "cloudpickle==2.2.1\n",
      "clyent==1.2.2\n",
      "colorama==0.4.6\n",
      "colorcet==3.0.1\n",
      "comm==0.1.2\n",
      "conda-build==24.1.2\n",
      "conda-content-trust==0.2.0\n",
      "conda-index==0.4.0\n",
      "conda-libmamba-solver==24.1.0\n",
      "conda-pack==0.6.0\n",
      "conda-package-handling==2.2.0\n",
      "conda-package-streaming==0.9.0\n",
      "conda-repo-cli==1.0.75\n",
      "conda-token==0.4.0\n",
      "conda-verify==3.4.2\n",
      "conda==24.1.2\n",
      "constantly==23.10.4\n",
      "contourpy==1.2.0\n",
      "cookiecutter==2.5.0\n",
      "cryptography==42.0.2\n",
      "cssselect==1.2.0\n",
      "cycler==0.11.0\n",
      "cytoolz==0.12.2\n",
      "dask==2023.11.0\n",
      "datashader==0.16.0\n",
      "debugpy==1.6.7\n",
      "decorator==5.1.1\n",
      "defusedxml==0.7.1\n",
      "diff-match-patch==20200713\n",
      "dill==0.3.7\n",
      "distributed==2023.11.0\n",
      "distro==1.8.0\n",
      "docstring-to-markdown==0.11\n",
      "docutils==0.18.1\n",
      "entrypoints==0.4\n",
      "et-xmlfile==1.1.0\n",
      "executing==0.8.3\n",
      "fastjsonschema==2.16.2\n",
      "filelock==3.13.1\n",
      "flake8==6.0.0\n",
      "flask==2.2.5\n",
      "fonttools==4.25.0\n",
      "frozenlist==1.4.0\n",
      "fsspec==2023.10.0\n",
      "future==0.18.3\n",
      "gensim==4.3.0\n",
      "gitdb==4.0.7\n",
      "gitpython==3.1.37\n",
      "gmpy2==2.1.2\n",
      "greenlet==3.0.1\n",
      "h5py==3.9.0\n",
      "heapdict==1.0.1\n",
      "holoviews==1.18.3\n",
      "hvplot==0.9.2\n",
      "hyperlink==21.0.0\n",
      "idna==3.4\n",
      "imagecodecs==2023.1.23\n",
      "imageio==2.33.1\n",
      "imagesize==1.4.1\n",
      "imbalanced-learn==0.11.0\n",
      "importlib-metadata==7.0.1\n",
      "incremental==22.10.0\n",
      "inflection==0.5.1\n",
      "iniconfig==1.1.1\n",
      "intake==0.6.8\n",
      "intervaltree==3.1.0\n",
      "ipykernel==6.28.0\n",
      "ipython-genutils==0.2.0\n",
      "ipython==8.20.0\n",
      "ipywidgets==7.6.5\n",
      "isort==5.9.3\n",
      "itemadapter==0.3.0\n",
      "itemloaders==1.1.0\n",
      "itsdangerous==2.0.1\n",
      "jaraco.classes==3.2.1\n",
      "jedi==0.18.1\n",
      "jellyfish==1.0.1\n",
      "jinja2==3.1.3\n",
      "jmespath==1.0.1\n",
      "joblib==1.2.0\n",
      "json5==0.9.6\n",
      "jsonpatch==1.32\n",
      "jsonpointer==2.1\n",
      "jsonschema-specifications==2023.7.1\n",
      "jsonschema==4.19.2\n",
      "jupyter-client==8.6.0\n",
      "jupyter-console==6.6.3\n",
      "jupyter-core==5.5.0\n",
      "jupyter-events==0.8.0\n",
      "jupyter-lsp==2.2.0\n",
      "jupyter-server-terminals==0.4.4\n",
      "jupyter-server==2.10.0\n",
      "jupyter==1.0.0\n",
      "jupyterlab-pygments==0.1.2\n",
      "jupyterlab-server==2.25.1\n",
      "jupyterlab-widgets==3.0.9\n",
      "jupyterlab==4.0.11\n",
      "keyring==23.13.1\n",
      "kiwisolver==1.4.4\n",
      "lazy-loader==0.3\n",
      "lazy-object-proxy==1.6.0\n",
      "lckr-jupyterlab-variableinspector==3.1.0\n",
      "libarchive-c==2.9\n",
      "libmambapy==1.5.6\n",
      "linkify-it-py==2.0.0\n",
      "llvmlite==0.42.0\n",
      "lmdb==1.4.1\n",
      "locket==1.0.0\n",
      "lxml==4.9.3\n",
      "lz4==4.3.2\n",
      "markdown-it-py==2.2.0\n",
      "markdown==3.4.1\n",
      "markupsafe==2.1.3\n",
      "matplotlib-inline==0.1.6\n",
      "matplotlib==3.8.0\n",
      "mccabe==0.7.0\n",
      "mdit-py-plugins==0.3.0\n",
      "mdurl==0.1.0\n",
      "menuinst==2.0.2\n",
      "mistune==2.0.4\n",
      "mkl-fft==1.3.8\n",
      "mkl-random==1.2.4\n",
      "mkl-service==2.4.0\n",
      "more-itertools==10.1.0\n",
      "mpmath==1.3.0\n",
      "msgpack==1.0.3\n",
      "multidict==6.0.4\n",
      "multipledispatch==0.6.0\n",
      "munkres==1.1.4\n",
      "mypy-extensions==1.0.0\n",
      "mypy==1.8.0\n",
      "navigator-updater==0.4.0\n",
      "nbclient==0.8.0\n",
      "nbconvert==7.10.0\n",
      "nbformat==5.9.2\n",
      "nest-asyncio==1.6.0\n",
      "networkx==3.1\n",
      "nltk==3.8.1\n",
      "notebook-shim==0.2.3\n",
      "notebook==7.0.8\n",
      "numba==0.59.0\n",
      "numexpr==2.8.7\n",
      "numpy==1.26.4\n",
      "numpydoc==1.5.0\n",
      "openpyxl==3.0.10\n",
      "overrides==7.4.0\n",
      "packaging==23.1\n",
      "pandas==2.1.4\n",
      "pandocfilters==1.5.0\n",
      "panel==1.3.8\n",
      "param==2.0.2\n",
      "paramiko==2.8.1\n",
      "parsel==1.8.1\n",
      "parso==0.8.3\n",
      "partd==1.4.1\n",
      "pathlib==1.0.1\n",
      "pathspec==0.10.3\n",
      "patsy==0.5.3\n",
      "pexpect==4.8.0\n",
      "pickleshare==0.7.5\n",
      "pillow==10.2.0\n",
      "pip==23.3.1\n",
      "pkce==1.0.3\n",
      "pkginfo==1.9.6\n",
      "platformdirs==3.10.0\n",
      "plotly==5.9.0\n",
      "pluggy==1.0.0\n",
      "ply==3.11\n",
      "prometheus-client==0.14.1\n",
      "prompt-toolkit==3.0.43\n",
      "protego==0.1.16\n",
      "protobuf==3.20.3\n",
      "psutil==5.9.0\n",
      "ptyprocess==0.7.0\n",
      "pure-eval==0.2.2\n",
      "py-cpuinfo==9.0.0\n",
      "pyarrow==14.0.2\n",
      "pyasn1-modules==0.2.8\n",
      "pyasn1==0.4.8\n",
      "pycodestyle==2.10.0\n",
      "pycosat==0.6.6\n",
      "pycparser==2.21\n",
      "pyct==0.5.0\n",
      "pycurl==7.45.2\n",
      "pydantic==1.10.12\n",
      "pydeck==0.8.0\n",
      "pydispatcher==2.0.5\n",
      "pydocstyle==6.3.0\n",
      "pyerfa==2.0.0\n",
      "pyflakes==3.0.1\n",
      "pygments==2.15.1\n",
      "pyjwt==2.4.0\n",
      "pylint-venv==2.3.0\n",
      "pylint==2.16.2\n",
      "pyls-spyder==0.4.0\n",
      "pynacl==1.5.0\n",
      "pyodbc==5.0.1\n",
      "pyopenssl==24.0.0\n",
      "pyparsing==3.0.9\n",
      "pyqt5-sip==12.13.0\n",
      "pyqt5==5.15.10\n",
      "pyqtwebengine==5.15.6\n",
      "pysocks==1.7.1\n",
      "pytest==7.4.0\n",
      "python-dateutil==2.8.2\n",
      "python-dotenv==0.21.0\n",
      "python-json-logger==2.0.7\n",
      "python-lsp-black==1.2.1\n",
      "python-lsp-jsonrpc==1.0.0\n",
      "python-lsp-server==1.7.2\n",
      "python-slugify==5.0.2\n",
      "python-snappy==0.6.1\n",
      "pytoolconfig==1.2.6\n",
      "pytz==2023.3.post1\n",
      "pyviz-comms==3.0.0\n",
      "pywavelets==1.5.0\n",
      "pywin32-ctypes==0.2.0\n",
      "pywin32==305.1\n",
      "pywinpty==2.0.10\n",
      "pyyaml==6.0.1\n",
      "pyzmq==25.1.2\n",
      "qdarkstyle==3.0.2\n",
      "qstylizer==0.2.2\n",
      "qtawesome==1.2.2\n",
      "qtconsole==5.4.2\n",
      "qtpy==2.4.1\n",
      "queuelib==1.6.2\n",
      "referencing==0.30.2\n",
      "regex==2023.10.3\n",
      "requests-file==1.5.1\n",
      "requests-toolbelt==1.0.0\n",
      "requests==2.31.0\n",
      "rfc3339-validator==0.1.4\n",
      "rfc3986-validator==0.1.1\n",
      "rich==13.3.5\n",
      "rope==1.7.0\n",
      "rpds-py==0.10.6\n",
      "rtree==1.0.1\n",
      "ruamel-yaml-conda==0.17.21\n",
      "ruamel.yaml==0.17.21\n",
      "s3fs==2023.10.0\n",
      "scikit-image==0.22.0\n",
      "scikit-learn==1.2.2\n",
      "scipy==1.11.4\n",
      "scrapy==2.8.0\n",
      "seaborn==0.12.2\n",
      "semver==2.13.0\n",
      "send2trash==1.8.2\n",
      "service-identity==18.1.0\n",
      "setuptools==68.2.2\n",
      "sip==6.7.12\n",
      "six==1.16.0\n",
      "smart-open==5.2.1\n",
      "smmap==4.0.0\n",
      "sniffio==1.3.0\n",
      "snowballstemmer==2.2.0\n",
      "sortedcontainers==2.4.0\n",
      "soupsieve==2.5\n",
      "sphinx==5.0.2\n",
      "sphinxcontrib-applehelp==1.0.2\n",
      "sphinxcontrib-devhelp==1.0.2\n",
      "sphinxcontrib-htmlhelp==2.0.0\n",
      "sphinxcontrib-jsmath==1.0.1\n",
      "sphinxcontrib-qthelp==1.0.3\n",
      "sphinxcontrib-serializinghtml==1.1.5\n",
      "spyder-kernels==2.4.4\n",
      "spyder==5.4.3\n",
      "sqlalchemy==2.0.25\n",
      "stack-data==0.2.0\n",
      "statsmodels==0.14.0\n",
      "streamlit==1.30.0\n",
      "sympy==1.12\n",
      "tables==3.9.2\n",
      "tabulate==0.9.0\n",
      "tblib==1.7.0\n",
      "tenacity==8.2.2\n",
      "terminado==0.17.1\n",
      "text-unidecode==1.3\n",
      "textdistance==4.2.1\n",
      "threadpoolctl==2.2.0\n",
      "three-merge==0.1.1\n",
      "tifffile==2023.4.12\n",
      "tinycss2==1.2.1\n",
      "tldextract==3.2.0\n",
      "toml==0.10.2\n",
      "tomlkit==0.11.1\n",
      "toolz==0.12.0\n",
      "tornado==6.3.3\n",
      "tqdm==4.65.0\n",
      "traitlets==5.7.1\n",
      "truststore==0.8.0\n",
      "twisted-iocpsupport==1.0.2\n",
      "twisted==23.10.0\n",
      "typing-extensions==4.9.0\n",
      "tzdata==2023.3\n",
      "tzlocal==2.1\n",
      "uc-micro-py==1.0.1\n",
      "ujson==5.4.0\n",
      "unidecode==1.2.0\n",
      "urllib3==2.0.7\n",
      "validators==0.18.2\n",
      "w3lib==2.1.2\n",
      "watchdog==2.1.6\n",
      "wcwidth==0.2.5\n",
      "webencodings==0.5.1\n",
      "websocket-client==0.58.0\n",
      "werkzeug==2.2.3\n",
      "whatthepatch==1.0.2\n",
      "wheel==0.41.2\n",
      "widgetsnbextension==3.5.2\n",
      "win-inet-pton==1.1.0\n",
      "wrapt==1.14.1\n",
      "xarray==2023.6.0\n",
      "xlwings==0.29.1\n",
      "xyzservices==2022.9.0\n",
      "yapf==0.31.0\n",
      "yarl==1.9.3\n",
      "zict==3.0.0\n",
      "zipp==3.17.0\n",
      "zope.interface==5.4.0\n",
      "zstandard==0.19.0\n"
     ]
    }
   ],
   "source": [
    "# Import the 'pkg_resources' module for working with Python packages.\n",
    "import pkg_resources\n",
    "installed_packages = pkg_resources.working_set\n",
    "installed_packages_list = sorted([\"%s==%s\" % (i.key, i.version) for i in installed_packages])\n",
    "for m in installed_packages_list:\n",
    "    print(m)"
   ]
  },
  {
   "cell_type": "code",
   "execution_count": 22,
   "id": "6452465f-fa12-44db-8ee8-12c92355df79",
   "metadata": {},
   "outputs": [
    {
     "name": "stdout",
     "output_type": "stream",
     "text": [
      "architecture: ('64bit', 'WindowsPE')\n",
      "mac_ver: ('', ('', '', ''), '')\n",
      "machine: AMD64\n",
      "node: DESKTOP-9JUNA35\n",
      "platform: Windows-10-10.0.22631-SP0\n",
      "processor: Intel64 Family 6 Model 142 Stepping 12, GenuineIntel\n",
      "python_build: ('main', 'Dec 15 2023 18:05:47')\n",
      "python_compiler: MSC v.1916 64 bit (AMD64)\n",
      "python_version: 3.11.7\n",
      "release: 10\n",
      "system: Windows\n",
      "uname: uname_result(system='Windows', node='DESKTOP-9JUNA35', release='10', version='10.0.22631', machine='AMD64')\n",
      "version: 10.0.22631\n"
     ]
    }
   ],
   "source": [
    "import platform as pl\n",
    "os_profile = [\n",
    "    'architecture',\n",
    "    'linux_distribution',\n",
    "    'mac_ver',\n",
    "    'machine',\n",
    "    'node',\n",
    "    'platform',\n",
    "    'processor',\n",
    "    'python_build',\n",
    "    'python_compiler',\n",
    "    'python_version',\n",
    "    'release',\n",
    "    'system',\n",
    "    'uname',\n",
    "    'version',\n",
    "]\n",
    "for key in os_profile:\n",
    "    if hasattr(pl, key):\n",
    "        print(key + \": \" + str(getattr(pl, key)()))"
   ]
  },
  {
   "cell_type": "code",
   "execution_count": null,
   "id": "afe7676a-da3b-4605-99bd-1aab020efcdb",
   "metadata": {},
   "outputs": [],
   "source": [
    "def find_combinations(X, Y, Z, target):\n",
    "    result = []\n",
    "    for x in X:\n",
    "        for y in Y:\n",
    "            for z in Z:\n",
    "                if x + y + z == T:\n",
    "                    result.append((x, y, z))\n",
    "    return result\n",
    "if __name__ == \"__main__\":\n",
    "    X = list(map(int, input(\"Enter elements of array X : \").split()))\n",
    "    Y = list(map(int, input(\"Enter elements of array Y : \").split()))\n",
    "    Z = list(map(int, input(\"Enter elements of array Z : \").split()))\n",
    "    T = int(input(\"Enter the target sum: \"))\n",
    "    combinations = find_combinations(X, Y, Z, T)\n",
    "    if combinations:\n",
    "        print(f\"Combinations of elements from X, Y, Z that sum up to {T}:\")\n",
    "        for combination in combinations:\n",
    "            print(combination)\n",
    "    else:\n",
    "        print(f\"No combinations found that sum up to {T}.\")\n"
   ]
  },
  {
   "cell_type": "code",
   "execution_count": 3,
   "id": "7844ac04-3e79-4e89-a9e9-791549245a14",
   "metadata": {},
   "outputs": [
    {
     "name": "stdout",
     "output_type": "stream",
     "text": [
      "['jt', 'ju', 'jv', 'kt', 'ku', 'kv', 'lt', 'lu', 'lv']\n",
      "['dz', 'ez', 'fz']\n"
     ]
    }
   ],
   "source": [
    "def letter(digits):\n",
    "    if digits == \"\":\n",
    "        return []\n",
    "    string_maps = {\n",
    "        \"1\": \"abc\",\n",
    "        \"2\": \"def\",\n",
    "        \"3\": \"ghi\",\n",
    "        \"4\": \"jkl\",\n",
    "        \"5\": \"mno\",\n",
    "        \"6\": \"pqrs\",\n",
    "        \"7\": \"tuv\",\n",
    "        \"8\": \"wxy\",\n",
    "        \"9\": \"z\"\n",
    "    }\n",
    "    result = [\"\"]\n",
    "    for num in digits:\n",
    "        temp = []\n",
    "        for an in result:\n",
    "            for char in string_maps[num]:\n",
    "                temp.append(an + char)\n",
    "        result = temp\n",
    "    return result\n",
    "digit_string = \"47\"\n",
    "print(letter(digit_string))\n",
    "digit_string = \"29\"\n",
    "print(letter(digit_string))"
   ]
  },
  {
   "cell_type": "code",
   "execution_count": 7,
   "id": "0258e824-f826-4792-9034-d83814d14f98",
   "metadata": {},
   "outputs": [
    {
     "name": "stdin",
     "output_type": "stream",
     "text": [
      "Enter The a Number : -10\n",
      "Enter The b Number : -20\n"
     ]
    },
    {
     "name": "stdout",
     "output_type": "stream",
     "text": [
      "-30\n"
     ]
    }
   ],
   "source": [
    "a = int(input(\"Enter The a Number :\"))\n",
    "b = int(input(\"Enter The b Number :\"))\n",
    "def add_plus(a, b):\n",
    "    while b != 0:\n",
    "        data = a & b\n",
    "        a = a ^ b\n",
    "        b = data << 1\n",
    "    return a\n",
    "print(add_plus(a, b))"
   ]
  },
  {
   "cell_type": "code",
   "execution_count": 22,
   "id": "70f10b55-f170-4f92-82bb-03cfeaa31227",
   "metadata": {},
   "outputs": [
    {
     "name": "stdout",
     "output_type": "stream",
     "text": [
      "True\n",
      "True\n",
      "False\n",
      "False\n",
      "True\n"
     ]
    }
   ],
   "source": [
    "from collections import deque\n",
    "import re\n",
    "__operators__ = \"+-/*\"\n",
    "__parenthesis__ = \"()\"\n",
    "__priority__ = {\n",
    "    '+': 0,\n",
    "    '-': 0,\n",
    "    '*': 1,\n",
    "    '/': 1,\n",
    "}\n",
    "def student(x, y):\n",
    "    return __priority__[x] >= __priority__[y]\n",
    "print(student('*', '-'))\n",
    "print(test_higher_priority('+','-'))\n",
    "print(test_higher_priority('+','*'))\n",
    "print(test_higher_priority('+','/'))\n",
    "print(test_higher_priority('*','/'))"
   ]
  },
  {
   "cell_type": "code",
   "execution_count": 23,
   "id": "ea887953-abfb-4a40-958e-b5606dc32d3d",
   "metadata": {},
   "outputs": [
    {
     "name": "stdin",
     "output_type": "stream",
     "text": [
      "Enter the length of side a (first leg):  3\n",
      "Enter the length of side b (second leg):  4\n"
     ]
    },
    {
     "name": "stdout",
     "output_type": "stream",
     "text": [
      "The length of the third side (hypotenuse) is: 5.0\n"
     ]
    }
   ],
   "source": [
    "import math\n",
    "def find_third_side(a, b):\n",
    "    c = math.sqrt(a**2 + b**2)\n",
    "    return c\n",
    "a = float(input(\"Enter the length of side a (first leg): \"))\n",
    "b = float(input(\"Enter the length of side b (second leg): \"))\n",
    "c = find_third_side(a, b)\n",
    "print(f\"The length of the third side (hypotenuse) is: {c}\")"
   ]
  },
  {
   "cell_type": "code",
   "execution_count": 30,
   "id": "982d1b9a-193b-43a8-a714-3092775a31e1",
   "metadata": {},
   "outputs": [
    {
     "name": "stdout",
     "output_type": "stream",
     "text": [
      "n = 2: \n",
      " ['88', '11', '96', '69']\n",
      "n = 3: \n",
      " ['818', '111', '916', '619', '808', '101', '906', '609', '888', '181', '986', '689']\n",
      "n = 4: \n",
      " ['8008', '1001', '9006', '6009', '8888', '1881', '9886', '6889', '8118', '1111', '9116', '6119', '8968', '1961', '9966', '6969', '8698', '1691', '9696', '6699']\n"
     ]
    }
   ],
   "source": [
    "def gen_strobogrammatic(n):\n",
    "    \"\"\"\n",
    "    :type n: int\n",
    "    :rtype: List[str]\n",
    "    \"\"\"\n",
    "    # Call the helper function with the given length 'n'.\n",
    "    result = helper(n, n)\n",
    "    return result\n",
    "\n",
    "# Define a helper function 'helper' to recursively generate strobogrammatic numbers.\n",
    "def helper(n, length):\n",
    "    if n == 0:\n",
    "        return [\"\"]\n",
    "    if n == 1:\n",
    "        return [\"1\", \"0\", \"8\"]\n",
    "    middles = helper(n-2, length)\n",
    "    result = []\n",
    "    for middle in middles:\n",
    "        if n != length:\n",
    "            result.append(\"0\" + middle + \"0\")\n",
    "        # Add strobogrammatic numbers with \"8\" in the middle.\n",
    "        result.append(\"8\" + middle + \"8\")\n",
    "        # Add strobogrammatic numbers with \"1\" in the middle.\n",
    "        result.append(\"1\" + middle + \"1\")\n",
    "        # Add strobogrammatic numbers with \"9\" in the first half and \"6\" in the second half.\n",
    "        result.append(\"9\" + middle + \"6\")\n",
    "        # Add strobogrammatic numbers with \"6\" in the first half and \"9\" in the second half.\n",
    "        result.append(\"6\" + middle + \"9\")\n",
    "    return result\n",
    "\n",
    "# Test the function with different values of 'n' and print the results.\n",
    "print(\"n = 2: \\n\", gen_strobogrammatic(2))\n",
    "print(\"n = 3: \\n\", gen_strobogrammatic(3))\n",
    "print(\"n = 4: \\n\", gen_strobogrammatic(4))"
   ]
  },
  {
   "cell_type": "code",
   "execution_count": 41,
   "id": "966f66fa-ece5-4d2c-a0ce-4c76db8884b7",
   "metadata": {},
   "outputs": [
    {
     "name": "stdin",
     "output_type": "stream",
     "text": [
      "Input the first number:  25\n",
      "Input the second number:  15\n",
      "Input the third number:  35\n"
     ]
    },
    {
     "name": "stdout",
     "output_type": "stream",
     "text": [
      "The median :  25\n"
     ]
    }
   ],
   "source": [
    "x = input(\"Input the first number: \")\n",
    "y = input(\"Input the second number: \")\n",
    "z = input(\"Input the third number: \")\n",
    "def med(x, y, z):\n",
    "    num = [x, y, z]\n",
    "    num.sort()\n",
    "    median = num[1]\n",
    "    return median\n",
    "median = med(x, y, z)\n",
    "print(\"The median : \", median)    "
   ]
  },
  {
   "cell_type": "code",
   "execution_count": 26,
   "id": "7f8ebf1e-fd53-4149-951d-d030bcdd1f35",
   "metadata": {},
   "outputs": [
    {
     "name": "stdin",
     "output_type": "stream",
     "text": [
      "Input the first number:  2481632\n"
     ]
    },
    {
     "name": "stdout",
     "output_type": "stream",
     "text": [
      "5\n"
     ]
    }
   ],
   "source": [
    "num = str(input(\"Input the first number: \"))\n",
    "def ndegrees(num): \n",
    "    ans = True \n",
    "    n, tempn, i = 2, 2, 2 \n",
    "    while ans:       \n",
    "        if str(tempn) in num:\n",
    "            i += 1 \n",
    "            tempn = pow(n, i) \n",
    "        else:\n",
    "            ans = False \n",
    "    return i - 1 \n",
    "print(ndegrees(num))"
   ]
  },
  {
   "cell_type": "code",
   "execution_count": 22,
   "id": "e3af7fa9-e4cb-4ea6-b2b3-f0fd1ef21299",
   "metadata": {},
   "outputs": [
    {
     "name": "stdin",
     "output_type": "stream",
     "text": [
      "Input the first number:  5\n"
     ]
    },
    {
     "name": "stdout",
     "output_type": "stream",
     "text": [
      "1\n"
     ]
    }
   ],
   "source": [
    "n = int(input(\"Input the first number: \"))\n",
    "def student(n):\n",
    "    x = n // 5\n",
    "    y = x   \n",
    "    while x > 0:\n",
    "        x /= 5\n",
    "        y += int(x)\n",
    "    return y   \n",
    "    print(student(n))"
   ]
  },
  {
   "cell_type": "code",
   "execution_count": 35,
   "id": "7530ca39-58e8-457a-a6a8-ea919b658a56",
   "metadata": {},
   "outputs": [
    {
     "name": "stdin",
     "output_type": "stream",
     "text": [
      "Enter a Number 1000\n"
     ]
    },
    {
     "name": "stdout",
     "output_type": "stream",
     "text": [
      "2\n"
     ]
    }
   ],
   "source": [
    "a = int(input(\"Enter a Number\"))\n",
    "def no_notes(a):\n",
    "    Q = [500, 200, 100, 50, 20, 10]\n",
    "    x = 0\n",
    "    for i in range(6):\n",
    "        q = Q[i] \n",
    "        x += int(a / q)\n",
    "        a = int(a % q) \n",
    "    if a > 0:\n",
    "        x = -1 \n",
    "    return x \n",
    "print(no_notes(a))"
   ]
  },
  {
   "cell_type": "code",
   "execution_count": 36,
   "id": "6936e92d-b16e-42a4-bc01-e99b7469e446",
   "metadata": {},
   "outputs": [
    {
     "name": "stdin",
     "output_type": "stream",
     "text": [
      "Enter The n number 7\n"
     ]
    },
    {
     "name": "stdout",
     "output_type": "stream",
     "text": [
      "13\n"
     ]
    }
   ],
   "source": [
    "n = int(input(\"Enter The n number\"))\n",
    "def seq(n):\n",
    "    if n == 1 or n == 2 or n == 3 or n == 4:\n",
    "        return 1\n",
    "    return seq(n - 1) + seq(n - 2) + seq(n - 3) + seq(n - 4)\n",
    "print(seq(n))"
   ]
  },
  {
   "cell_type": "code",
   "execution_count": 38,
   "id": "cffd3b21-9921-4c6a-9f4c-8602f778522d",
   "metadata": {},
   "outputs": [
    {
     "name": "stdin",
     "output_type": "stream",
     "text": [
      "Enter The n number 100\n"
     ]
    },
    {
     "name": "stdout",
     "output_type": "stream",
     "text": [
      "0\n"
     ]
    }
   ],
   "source": [
    "n = int(input(\"Enter The n number\"))\n",
    "def repeat_times(n):\n",
    "    n_str = str(n)\n",
    "    while n > 0:\n",
    "        n -= sum([int(i) for i in list(n_str)])\n",
    "        n_str = list(str(n))\n",
    "    return n\n",
    "print(repeat_times(n))"
   ]
  },
  {
   "cell_type": "code",
   "execution_count": 39,
   "id": "2314e136-2940-41b1-9983-d5fa2dfcaf95",
   "metadata": {},
   "outputs": [
    {
     "name": "stdin",
     "output_type": "stream",
     "text": [
      "Enter The n number 15\n"
     ]
    },
    {
     "name": "stdout",
     "output_type": "stream",
     "text": [
      "4\n"
     ]
    }
   ],
   "source": [
    "n = int(input(\"Enter The n number\"))\n",
    "def divisor(n):\n",
    "    x = len([i for i in range(1, n + 1) if not n % i])\n",
    "    return x\n",
    "print(divisor(n))    "
   ]
  },
  {
   "cell_type": "code",
   "execution_count": 55,
   "id": "0a733232-ad19-44b3-9e2c-79e2cd33b0e7",
   "metadata": {},
   "outputs": [
    {
     "name": "stdout",
     "output_type": "stream",
     "text": [
      "[0, 1, 8, 9]\n"
     ]
    }
   ],
   "source": [
    "def absent_digits(n):\n",
    "    all_nums = set([0, 1, 2, 3, 4, 5, 6, 7, 8, 9])\n",
    "    n = set([int(i) for i in n])\n",
    "    n = n.symmetric_difference(all_nums)\n",
    "    n = sorted(n)\n",
    "    return n\n",
    "print(absent_digits([2, 3, 4, 5, 6, 7]))"
   ]
  },
  {
   "cell_type": "code",
   "execution_count": 75,
   "id": "585f0764-3315-471c-9093-aad3a89f699d",
   "metadata": {},
   "outputs": [
    {
     "name": "stdout",
     "output_type": "stream",
     "text": [
      "4\n"
     ]
    }
   ],
   "source": [
    "def pairs(arr):\n",
    "    result = 0\n",
    "    i = 0\n",
    "    while i < len(arr):\n",
    "        result += i * arr[i] - (len(arr) - i - 1) * arr[i]\n",
    "        i += 1\n",
    "    return result\n",
    "print(pairs([1, 2, 3]))"
   ]
  },
  {
   "cell_type": "code",
   "execution_count": 77,
   "id": "c45c7498-da25-41c2-bdfc-c01bd1e4b8c5",
   "metadata": {},
   "outputs": [
    {
     "name": "stdin",
     "output_type": "stream",
     "text": [
      "Input third term of the series: 3\n",
      "Input 3rd last term: 6\n",
      "Sum of the series: 36\n"
     ]
    },
    {
     "name": "stdout",
     "output_type": "stream",
     "text": [
      "Length of the series:  8\n",
      "Series:\n",
      "1 2 3 4 5 6 7 8 "
     ]
    }
   ],
   "source": [
    "x = int(input(\"Input third term of the series:\"))\n",
    "y = int(input(\"Input 3rd last term:\"))\n",
    "z = int(input(\"Sum of the series:\"))\n",
    "n = int(2 * z / (x + y))\n",
    "print(\"Length of the series: \", n)\n",
    "if n - 5 == 0:\n",
    "    d = (z- 3 * x) // 6\n",
    "else:\n",
    "    d = (y - x) / (n - 5)\n",
    "a = x - 2 * d\n",
    "j = 0\n",
    "print(\"Series:\")\n",
    "for j in range(n - 1):\n",
    "    print(int(a), end=\" \")\n",
    "    a += d\n",
    "print(int(a), end=\" \")"
   ]
  },
  {
   "cell_type": "code",
   "execution_count": 82,
   "id": "885df57c-6b94-4cf0-824d-5593acd5b983",
   "metadata": {},
   "outputs": [
    {
     "name": "stdin",
     "output_type": "stream",
     "text": [
      "WEnter The x Number : 12\n",
      "WEnter The y Number : 24\n"
     ]
    },
    {
     "name": "stdout",
     "output_type": "stream",
     "text": [
      "Number of common divisors:  6\n"
     ]
    }
   ],
   "source": [
    "x = int(input(\"WEnter The x Number :\"))\n",
    "y = int(input(\"WEnter The y Number :\"))\n",
    "def ngcd(x, y):\n",
    "    i = 1\n",
    "    while(i <= x and i <= y):\n",
    "        if(x % i == 0 and y % i == 0):\n",
    "            gcd = i  \n",
    "        i += 1\n",
    "    return gcd\n",
    "def num_comm_div(x, y):\n",
    "    n = ngcd(x, y)\n",
    "    result = 0\n",
    "    z = int(n ** 0.5) \n",
    "    i = 1\n",
    "    while(i <= z):\n",
    "        if(n % i == 0):\n",
    "            result += 2  \n",
    "            if(i == n/i):\n",
    "                result -= 1  \n",
    "        i += 1\n",
    "    return result\n",
    "print(\"Number of common divisors: \", num_comm_div(x, y))\n"
   ]
  },
  {
   "cell_type": "code",
   "execution_count": null,
   "id": "ad633dde-c549-4b19-beb1-eafa8b5e9bea",
   "metadata": {},
   "outputs": [],
   "source": []
  }
 ],
 "metadata": {
  "kernelspec": {
   "display_name": "Python 3 (ipykernel)",
   "language": "python",
   "name": "python3"
  },
  "language_info": {
   "codemirror_mode": {
    "name": "ipython",
    "version": 3
   },
   "file_extension": ".py",
   "mimetype": "text/x-python",
   "name": "python",
   "nbconvert_exporter": "python",
   "pygments_lexer": "ipython3",
   "version": "3.11.7"
  },
  "widgets": {
   "application/vnd.jupyter.widget-state+json": {
    "state": {},
    "version_major": 2,
    "version_minor": 0
   }
  }
 },
 "nbformat": 4,
 "nbformat_minor": 5
}

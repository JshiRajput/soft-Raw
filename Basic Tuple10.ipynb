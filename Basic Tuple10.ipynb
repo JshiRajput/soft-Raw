{
 "cells": [
  {
   "cell_type": "code",
   "execution_count": 1,
   "id": "8f3aa00e-eba1-42b0-b7e1-fa0a26e81784",
   "metadata": {},
   "outputs": [
    {
     "name": "stdout",
     "output_type": "stream",
     "text": [
      "\n",
      "Tuple with the use of String:  ('Geeks', 'For')\n",
      "\n",
      "Tuple using List:  [1, 2, 4, 5, 6]\n",
      "\n",
      "Tuple with the use of function:  ('G', 'e', 'e', 'k', 's')\n"
     ]
    }
   ],
   "source": [
    "# Creating an empty Tuple\n",
    "# Creating a Tuple\n",
    "# with the use of string\n",
    "x = ('Geeks', 'For')\n",
    "print(\"\\nTuple with the use of String: \", x)\n",
    "# Creating a Tuple with\n",
    "# the use of list\n",
    "y = [1, 2, 4, 5, 6]\n",
    "print(\"\\nTuple using List: \", y)\n",
    "\n",
    "# Creating a Tuple\n",
    "# with the use of built-in function\n",
    "z = tuple('Geeks')\n",
    "print(\"\\nTuple with the use of function: \", z)"
   ]
  },
  {
   "cell_type": "code",
   "execution_count": 2,
   "id": "e6f68893-657b-4b2f-a042-62f0796b7e04",
   "metadata": {},
   "outputs": [
    {
     "name": "stdout",
     "output_type": "stream",
     "text": [
      "\n",
      "Tuple with Mixed Datatypes:  (5, 'Welcome', 7, 'Geeks')\n",
      "\n",
      "Tuple with nested tuples:  ((0, 1, 2, 3), ('python', 'geek'))\n",
      "\n",
      "Tuple with repetition:  ('Geeks', 'Geeks', 'Geeks')\n",
      "\n",
      "Tuple with a loop\n",
      "('Geeks',)\n",
      "(('Geeks',),)\n",
      "((('Geeks',),),)\n",
      "(((('Geeks',),),),)\n",
      "((((('Geeks',),),),),)\n"
     ]
    }
   ],
   "source": [
    "# Creating a Tuple\n",
    "# with Mixed Datatype\n",
    "x = (5, 'Welcome', 7, 'Geeks')\n",
    "print(\"\\nTuple with Mixed Datatypes: \", x)\n",
    "# Creating a Tuple\n",
    "# with nested tuples\n",
    "x = (0, 1, 2, 3)\n",
    "y = ('python', 'geek')\n",
    "z = (x, y)\n",
    "print(\"\\nTuple with nested tuples: \", z)\n",
    "\n",
    "# Creating a Tuple\n",
    "# with repetition\n",
    "x = ('Geeks',) * 3\n",
    "print(\"\\nTuple with repetition: \", x)\n",
    "# Creating a Tuple\n",
    "# with the use of loop\n",
    "x = ('Geeks')\n",
    "n = 5\n",
    "print(\"\\nTuple with a loop\")\n",
    "for i in range(int(n)):\n",
    "    x = (x,)\n",
    "    print(x)"
   ]
  },
  {
   "cell_type": "code",
   "execution_count": 4,
   "id": "fd17a651-0548-44bd-80a5-de6b5cdf3fe5",
   "metadata": {},
   "outputs": [
    {
     "name": "stdout",
     "output_type": "stream",
     "text": [
      " first ele. of tuple:  R\n",
      "\n",
      "Values after unpacking: \n",
      "Ram\n",
      "jitu\n",
      "rahul\n",
      "Rakesh\n"
     ]
    }
   ],
   "source": [
    "x = tuple(\"Ram\")\n",
    "print(\" first ele. of tuple: \", x[0])\n",
    "# This line unpack\n",
    "# values of Tuple1\n",
    "x = (\"Ram\", \"jitu\", \"rahul\", \"Rakesh\")\n",
    "a, b, c, d = x \n",
    "print(\"\\nValues after unpacking: \")\n",
    "print(a)\n",
    "print(b)\n",
    "print(c)\n",
    "print(d)"
   ]
  },
  {
   "cell_type": "code",
   "execution_count": 11,
   "id": "7c7dd132-a9d4-4537-8d9f-27098ef2b484",
   "metadata": {},
   "outputs": [
    {
     "name": "stdout",
     "output_type": "stream",
     "text": [
      "Concatenation of tuples:  (1, 2, 3, 4, 5, 'Ram', 'Jitu', 'Rahul', 'Rakesh')\n"
     ]
    }
   ],
   "source": [
    "# Concatenation of tuples\n",
    "x = (1, 2, 3, 4, 5 )\n",
    "y = (\"Ram\", \"Jitu\", \"Rahul\", \"Rakesh\")\n",
    "z = x + y\n",
    "\n",
    "print(\"Concatenation of tuples: \", z)"
   ]
  },
  {
   "cell_type": "code",
   "execution_count": 2,
   "id": "b19792c4-463c-4f88-921b-e0e1e9092532",
   "metadata": {},
   "outputs": [
    {
     "name": "stdout",
     "output_type": "stream",
     "text": [
      "removal of First ele. : ('e', 'e', 'f', 'h', 'r', 'h', 'f', 'j', 'r', 'e', 'r', 'n', 'e')\n",
      "removal of after sequence of  ele. : ('e', 'n', 'r', 'e', 'r', 'j', 'f', 'h', 'r', 'h', 'f', 'e', 'e', 'u')\n",
      "removal of ele. Range : ('h', 'r', 'h', 'f', 'j')\n"
     ]
    }
   ],
   "source": [
    "# Slicing of a Tuple\n",
    "x = tuple(\"ueefhrhfjrerne\")\n",
    "print(\"removal of First ele. :\", x[1:])\n",
    "print(\"removal of after sequence of  ele. :\", x[::-1])\n",
    "print(\"removal of ele. Range :\", x[4:9])\n"
   ]
  },
  {
   "cell_type": "code",
   "execution_count": 3,
   "id": "c50b41a4-cea7-422d-80b8-531b481819e3",
   "metadata": {},
   "outputs": [
    {
     "ename": "NameError",
     "evalue": "name 'x' is not defined",
     "output_type": "error",
     "traceback": [
      "\u001b[1;31m---------------------------------------------------------------------------\u001b[0m",
      "\u001b[1;31mNameError\u001b[0m                                 Traceback (most recent call last)",
      "Cell \u001b[1;32mIn[3], line 3\u001b[0m\n\u001b[0;32m      1\u001b[0m x \u001b[38;5;241m=\u001b[39m \u001b[38;5;28mtuple\u001b[39m(\u001b[38;5;124m\"\u001b[39m\u001b[38;5;124mueefhrhfjrerne\u001b[39m\u001b[38;5;124m\"\u001b[39m)\n\u001b[0;32m      2\u001b[0m \u001b[38;5;28;01mdel\u001b[39;00m x\n\u001b[1;32m----> 3\u001b[0m \u001b[38;5;28mprint\u001b[39m(x)\n",
      "\u001b[1;31mNameError\u001b[0m: name 'x' is not defined"
     ]
    }
   ],
   "source": [
    "x = tuple(\"ueefhrhfjrerne\")\n",
    "del x\n",
    "print(x)"
   ]
  },
  {
   "cell_type": "code",
   "execution_count": 4,
   "id": "2cd9d1de-f383-46e9-acda-2df5758f6304",
   "metadata": {},
   "outputs": [
    {
     "name": "stdout",
     "output_type": "stream",
     "text": [
      "<class 'tuple'>\n",
      "<class 'str'>\n"
     ]
    }
   ],
   "source": [
    "'''Note: In case your generating a tuple with a single element, \n",
    "make sure to add a comma after the element.#Let us see an example of the same.'''\n",
    "x = (\"Ram\",)\n",
    "print(type(x))\n",
    "x = (\"Ram\")\n",
    "print(type(x))\n"
   ]
  },
  {
   "cell_type": "code",
   "execution_count": 5,
   "id": "b27fe24e-2782-4170-bb1f-6b36f4f3f911",
   "metadata": {},
   "outputs": [
    {
     "name": "stdout",
     "output_type": "stream",
     "text": [
      "2\n",
      "5\n",
      "(1, 2, 3, 4, 2, 3)\n"
     ]
    },
    {
     "ename": "TypeError",
     "evalue": "'tuple' object does not support item assignment",
     "output_type": "error",
     "traceback": [
      "\u001b[1;31m---------------------------------------------------------------------------\u001b[0m",
      "\u001b[1;31mTypeError\u001b[0m                                 Traceback (most recent call last)",
      "Cell \u001b[1;32mIn[5], line 11\u001b[0m\n\u001b[0;32m      8\u001b[0m \u001b[38;5;28mprint\u001b[39m(x)\n\u001b[0;32m     10\u001b[0m \u001b[38;5;66;03m# adding an element\u001b[39;00m\n\u001b[1;32m---> 11\u001b[0m x[\u001b[38;5;241m1\u001b[39m] \u001b[38;5;241m=\u001b[39m \u001b[38;5;241m100\u001b[39m\n\u001b[0;32m     12\u001b[0m \u001b[38;5;28mprint\u001b[39m(x)\n",
      "\u001b[1;31mTypeError\u001b[0m: 'tuple' object does not support item assignment"
     ]
    }
   ],
   "source": [
    "x = (1, 2, 3, 4, 5)\n",
    "# tuples are indexed\n",
    "print(x[1])\n",
    "print(x[4])\n",
    " \n",
    "# tuples contain duplicate elements\n",
    "x = (1, 2, 3, 4, 2, 3)\n",
    "print(x)\n",
    " \n",
    "# adding an element\n",
    "x[1] = 100\n",
    "print(x)"
   ]
  },
  {
   "cell_type": "code",
   "execution_count": 6,
   "id": "7775a60c-9938-4603-8853-d6bb2881d5fb",
   "metadata": {},
   "outputs": [
    {
     "name": "stdout",
     "output_type": "stream",
     "text": [
      "Ram\n",
      "jiru\n",
      "rakesh\n"
     ]
    }
   ],
   "source": [
    "x = (\"Ram\", \"jiru\", \"rakesh\")\n",
    "print(x[0])\n",
    "print(x[1])\n",
    "print(x[2])"
   ]
  },
  {
   "cell_type": "code",
   "execution_count": 7,
   "id": "7f03a38c-5b84-4dce-b086-fba69c22e729",
   "metadata": {},
   "outputs": [
    {
     "name": "stdout",
     "output_type": "stream",
     "text": [
      "5\n",
      "4\n",
      "3\n"
     ]
    }
   ],
   "source": [
    "x = (1, 2, 3, 4, 5)\n",
    "print(x[-1])\n",
    "print(x[-2])\n",
    "print(x[-3])"
   ]
  },
  {
   "cell_type": "code",
   "execution_count": 8,
   "id": "7031d283-097b-4bb0-8a89-5806e07a7513",
   "metadata": {},
   "outputs": [
    {
     "name": "stdout",
     "output_type": "stream",
     "text": [
      "(0, 1, 2, 3, 'python', 'geek')\n"
     ]
    }
   ],
   "source": [
    "# Code for concatenating 2 tuples\n",
    "tuple1 = (0, 1, 2, 3)\n",
    "tuple2 = ('python', 'geek')\n",
    " \n",
    "print(tuple1 + tuple2)"
   ]
  },
  {
   "cell_type": "code",
   "execution_count": 9,
   "id": "e56cdb62-b9a4-472e-8a7b-b8e4929520bd",
   "metadata": {},
   "outputs": [
    {
     "name": "stdout",
     "output_type": "stream",
     "text": [
      "((0, 1, 2, 3), ('python', 'geek'))\n"
     ]
    }
   ],
   "source": [
    "# Code for creating nested tuples\n",
    "tuple1 = (0, 1, 2, 3)\n",
    "tuple2 = ('python', 'geek')\n",
    " \n",
    "tuple3 = (tuple1, tuple2)\n",
    "print(tuple3)\n"
   ]
  },
  {
   "cell_type": "code",
   "execution_count": 12,
   "id": "1fb831c6-08cb-4d6c-a788-269113bdd456",
   "metadata": {},
   "outputs": [
    {
     "name": "stdout",
     "output_type": "stream",
     "text": [
      "('python', 'python', 'python')\n"
     ]
    }
   ],
   "source": [
    "# Code to create a tuple with repetition\n",
    "x = ('python',)*3\n",
    "print(x)"
   ]
  },
  {
   "cell_type": "code",
   "execution_count": 14,
   "id": "82d6cf84-62ee-414a-afe7-47b07a18fd68",
   "metadata": {},
   "outputs": [
    {
     "name": "stdout",
     "output_type": "stream",
     "text": [
      "(2, 3, 4, 5)\n",
      "(5, 4, 3, 2, 1)\n",
      "(3, 4)\n"
     ]
    }
   ],
   "source": [
    "x = (1, 2, 3, 4, 5)\n",
    "print(x[1:])\n",
    "print(x[::-1])\n",
    "print(x[2:4])"
   ]
  },
  {
   "cell_type": "code",
   "execution_count": 15,
   "id": "b3a25603-7e49-4b7d-a9d4-0e67be796300",
   "metadata": {},
   "outputs": [
    {
     "ename": "NameError",
     "evalue": "name 'x' is not defined",
     "output_type": "error",
     "traceback": [
      "\u001b[1;31m---------------------------------------------------------------------------\u001b[0m",
      "\u001b[1;31mNameError\u001b[0m                                 Traceback (most recent call last)",
      "Cell \u001b[1;32mIn[15], line 5\u001b[0m\n\u001b[0;32m      2\u001b[0m x \u001b[38;5;241m=\u001b[39m ( \u001b[38;5;241m0\u001b[39m, \u001b[38;5;241m1\u001b[39m)\n\u001b[0;32m      4\u001b[0m \u001b[38;5;28;01mdel\u001b[39;00m x\n\u001b[1;32m----> 5\u001b[0m \u001b[38;5;28mprint\u001b[39m(x)\n",
      "\u001b[1;31mNameError\u001b[0m: name 'x' is not defined"
     ]
    }
   ],
   "source": [
    "# Code for deleting a tuple\n",
    "x = ( 0, 1)\n",
    " \n",
    "del x\n",
    "print(x)"
   ]
  },
  {
   "cell_type": "code",
   "execution_count": 16,
   "id": "bc133f65-1a61-4432-881f-0137c484b035",
   "metadata": {},
   "outputs": [
    {
     "name": "stdout",
     "output_type": "stream",
     "text": [
      "2\n"
     ]
    }
   ],
   "source": [
    "# Code for printing the length of a tuple\n",
    "x = ('python', 'geek')\n",
    "print(len(x))"
   ]
  },
  {
   "cell_type": "code",
   "execution_count": 17,
   "id": "a8a50226-5676-402a-ab06-2c171b47e5c6",
   "metadata": {},
   "outputs": [
    {
     "name": "stdout",
     "output_type": "stream",
     "text": [
      "(0, 1, 2)\n",
      "('p', 'y', 't', 'h', 'o', 'n')\n"
     ]
    }
   ],
   "source": [
    "# Code for converting a list and a string into a tuple\n",
    "list1 = [0, 1, 2]\n",
    " \n",
    "print(tuple(list1))\n",
    " \n",
    "# string 'python'\n",
    "print(tuple('python'))"
   ]
  },
  {
   "cell_type": "code",
   "execution_count": 1,
   "id": "fb546ef3-61b1-431f-8846-d0407ca08124",
   "metadata": {},
   "outputs": [
    {
     "name": "stdout",
     "output_type": "stream",
     "text": [
      "The original tuple : (10, 4, 5, 6, 7)\n",
      "The front and rear element of tuple are : (10, 7)\n"
     ]
    }
   ],
   "source": [
    "# using Unpacking the tuple \n",
    "# initialize tuple\n",
    "x = (10, 4, 5, 6, 7)\n",
    " \n",
    "# printing original tuple\n",
    "print(\"The original tuple : \" + str(x))\n",
    " \n",
    "# Accessing front and rear element of tuple\n",
    "# Unpacking the tuple\n",
    "front, *_, rear = x \n",
    "# Storing the front and rear elements\n",
    "res = (front, rear)\n",
    "print(\"The front and rear element of tuple are : \" + str(res))"
   ]
  },
  {
   "cell_type": "code",
   "execution_count": 7,
   "id": "4162902d-e1dd-4403-9a47-78aa7b4c2f13",
   "metadata": {},
   "outputs": [
    {
     "name": "stdout",
     "output_type": "stream",
     "text": [
      "(2, 3, 4, 5, 6)\n",
      "(2, 6)\n"
     ]
    }
   ],
   "source": [
    "x = (2, 3, 4, 5, 6)\n",
    "print(str(x))\n",
    "a = x[0]\n",
    "b = x[-1]\n",
    "z = (a, b)\n",
    "print(str(z))"
   ]
  },
  {
   "cell_type": "code",
   "execution_count": 8,
   "id": "35fa8705-7768-47b4-851b-c30bac9b2b2a",
   "metadata": {},
   "outputs": [
    {
     "name": "stdout",
     "output_type": "stream",
     "text": [
      "(20, 6)\n"
     ]
    }
   ],
   "source": [
    "x = (20, 33, 45, 5, 6)\n",
    "a = x[0]\n",
    "b = x[-1]\n",
    "z = (tuple([a]) + tuple([b]))\n",
    "print(str(z))"
   ]
  },
  {
   "cell_type": "code",
   "execution_count": 13,
   "id": "abf03d8e-d9fb-4c39-bdd5-a0d9a21759f0",
   "metadata": {},
   "outputs": [
    {
     "name": "stdout",
     "output_type": "stream",
     "text": [
      "(22, 33, 45, 67, 88, 7, 4)\n",
      "(22, 4)\n"
     ]
    }
   ],
   "source": [
    "x = (22, 33, 45, 67, 88, 7, 4)\n",
    "print(str(x))\n",
    "a = tuple([x[i] for i in [0, -1]])\n",
    "print(str(a))\n",
    "          "
   ]
  },
  {
   "cell_type": "code",
   "execution_count": 14,
   "id": "7753f373-3f4a-4697-bccf-230fad4f5c67",
   "metadata": {},
   "outputs": [
    {
     "name": "stdout",
     "output_type": "stream",
     "text": [
      "[(0, 10), (11, 20), (21, 30), (31, 40), (41, 50)]\n",
      "3\n"
     ]
    }
   ],
   "source": [
    "# Element Index in Range Tuples\n",
    "x = [(0, 10), (11, 20), (21, 30), (31, 40), (41, 50)]\n",
    "print(str(x))\n",
    "k = 37\n",
    "res = (k // (x[0][1] - x[0][0]))\n",
    "print(str(res))\n",
    "       "
   ]
  },
  {
   "cell_type": "code",
   "execution_count": 15,
   "id": "1d33dece-cdf2-4753-981d-fcbce1f8f807",
   "metadata": {},
   "outputs": [
    {
     "name": "stdout",
     "output_type": "stream",
     "text": [
      "The original list is : [(0, 10), (11, 20), (21, 30), (31, 40), (41, 50)]\n",
      "The position of element:  3\n"
     ]
    }
   ],
   "source": [
    "import numpy as np\n",
    "x = [(0, 10), (11, 20), (21, 30), (31, 40), (41, 50)]\n",
    "# printing original list\n",
    "print(\"The original list is : \" + str(x))\n",
    "K = 37\n",
    "arr = np.array(x)\n",
    "idx = np.where((arr[:, 0] <= K) & (arr[:, 1] > K))[0][0]\n",
    "print(\"The position of element: \", idx)\n",
    "#This code is contributed by Jyothi Pinjala."
   ]
  },
  {
   "cell_type": "code",
   "execution_count": 16,
   "id": "2cf44b95-c0ef-428a-8aab-027fd17132a1",
   "metadata": {},
   "outputs": [
    {
     "name": "stdout",
     "output_type": "stream",
     "text": [
      "MNNIT Allahabad\n",
      "5000\n",
      "Engineering\n"
     ]
    }
   ],
   "source": [
    "# this lines PACKS values\n",
    "# into variable a\n",
    "a = (\"MNNIT Allahabad\", 5000, \"Engineering\")  \n",
    " \n",
    "# this lines UNPACKS values\n",
    "(college, student, type_ofcollege) = a  \n",
    "\n",
    "print(college)\n",
    "\n",
    "print(student)\n",
    "\n",
    "print(type_ofcollege)"
   ]
  },
  {
   "cell_type": "code",
   "execution_count": 17,
   "id": "799692c9-79d6-4135-b7df-52bde7628be4",
   "metadata": {},
   "outputs": [
    {
     "name": "stdout",
     "output_type": "stream",
     "text": [
      "10\n",
      "['Geeks ', ' for ', 'Geeks ']\n",
      "50\n",
      "10\n",
      "Geeks \n",
      "[' for ', 'Geeks ', 50]\n"
     ]
    }
   ],
   "source": [
    "# first and last will be assigned to x and z\n",
    "x, *y, z = (10, \"Geeks \", \" for \", \"Geeks \", 50)\n",
    "\n",
    "print(x)\n",
    "print(y)\n",
    "print(z)\n",
    " \n",
    "# first and second will be assigned to x and y\n",
    "# remaining will be assigned to z\n",
    "x, y, *z = (10, \"Geeks \", \" for \", \"Geeks \", 50)\n",
    "print(x)\n",
    "print(y)\n",
    "print(z)"
   ]
  },
  {
   "cell_type": "code",
   "execution_count": 18,
   "id": "71efe0e9-3317-43c7-b735-7accb14be362",
   "metadata": {},
   "outputs": [
    {
     "name": "stdout",
     "output_type": "stream",
     "text": [
      "1000\n",
      "1000\n"
     ]
    }
   ],
   "source": [
    "# function takes normal arguments\n",
    "# and multiply them\n",
    "def result(x, y):\n",
    "    return x * y\n",
    "# function with normal variables\n",
    "print (result(10, 100))\n",
    " \n",
    "# A tuple is created\n",
    "z = (10, 100)\n",
    " \n",
    "# Tuple is passed\n",
    "# function unpacked them\n",
    " \n",
    "print (result(*z))"
   ]
  },
  {
   "cell_type": "code",
   "execution_count": null,
   "id": "15a7d802-89c9-4a9a-8d1b-cfb950c13e63",
   "metadata": {},
   "outputs": [],
   "source": []
  }
 ],
 "metadata": {
  "kernelspec": {
   "display_name": "Python 3 (ipykernel)",
   "language": "python",
   "name": "python3"
  },
  "language_info": {
   "codemirror_mode": {
    "name": "ipython",
    "version": 3
   },
   "file_extension": ".py",
   "mimetype": "text/x-python",
   "name": "python",
   "nbconvert_exporter": "python",
   "pygments_lexer": "ipython3",
   "version": "3.11.7"
  },
  "widgets": {
   "application/vnd.jupyter.widget-state+json": {
    "state": {},
    "version_major": 2,
    "version_minor": 0
   }
  }
 },
 "nbformat": 4,
 "nbformat_minor": 5
}

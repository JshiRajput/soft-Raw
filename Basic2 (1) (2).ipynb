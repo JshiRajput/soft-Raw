{
 "cells": [
  {
   "cell_type": "code",
   "execution_count": 12,
   "id": "254da5b3-d2bd-4458-bda0-3d9856805563",
   "metadata": {},
   "outputs": [
    {
     "name": "stdout",
     "output_type": "stream",
     "text": [
      "Twinkle, twinkle, little star, \n",
      "\tHow I wonder what you are! \n",
      "\t\tUp above the world so high, \n",
      "\t\tLike a diamond in the sky.\n",
      "Twinkle, twinkle, little star, \n",
      "\tHow I wonder what you are!\n"
     ]
    }
   ],
   "source": [
    "print(\"Twinkle, twinkle, little star, \\n\\tHow I wonder what you are! \\n\\t\\tUp above the world so high, \\n\\t\\tLike a diamond in the sky.\\nTwinkle, twinkle, little star, \\n\\tHow I wonder what you are!\")"
   ]
  },
  {
   "cell_type": "code",
   "execution_count": 15,
   "id": "ce992a87-faa4-499a-9399-6dd249c49258",
   "metadata": {},
   "outputs": [
    {
     "name": "stdout",
     "output_type": "stream",
     "text": [
      "sys.version_info(major=3, minor=11, micro=7, releaselevel='final', serial=0)\n",
      "3.11.7 | packaged by Anaconda, Inc. | (main, Dec 15 2023, 18:05:47) [MSC v.1916 64 bit (AMD64)]\n"
     ]
    }
   ],
   "source": [
    "import sys\n",
    "print(sys.version_info)\n",
    "print(sys.version)\n",
    "\n"
   ]
  },
  {
   "cell_type": "code",
   "execution_count": 4,
   "id": "f1ae8b7b-a317-40df-9371-6f3e4f175c13",
   "metadata": {},
   "outputs": [
    {
     "name": "stdout",
     "output_type": "stream",
     "text": [
      "2024-06-25 20:22:36.865909\n"
     ]
    }
   ],
   "source": [
    "import datetime\n",
    "x = datetime.datetime.now()\n",
    "print(x)"
   ]
  },
  {
   "cell_type": "code",
   "execution_count": 19,
   "id": "51194eb6-66ea-4ab7-b80c-2e67f7b6d28a",
   "metadata": {},
   "outputs": [
    {
     "name": "stdin",
     "output_type": "stream",
     "text": [
      "enter the radius of circle 1.1\n"
     ]
    },
    {
     "name": "stdout",
     "output_type": "stream",
     "text": [
      "3.8013271108436504\n"
     ]
    }
   ],
   "source": [
    "import math\n",
    "r = float(input(\"enter the radius of circle\"))\n",
    "area = math.pi*r**2\n",
    "print(area)"
   ]
  },
  {
   "cell_type": "code",
   "execution_count": 29,
   "id": "d11dff99-de84-4a93-b634-fa6b5c414920",
   "metadata": {},
   "outputs": [
    {
     "name": "stdin",
     "output_type": "stream",
     "text": [
      "Enter The First Name: Jitendra \n",
      "Enter The Last Name: Singh\n"
     ]
    },
    {
     "name": "stdout",
     "output_type": "stream",
     "text": [
      "Jitendra  Singh\n"
     ]
    }
   ],
   "source": [
    "a = input(\"Enter The First Name:\")\n",
    "b =  input(\"Enter The Last Name:\")\n",
    "print(a + \" \" + b)"
   ]
  },
  {
   "cell_type": "code",
   "execution_count": 6,
   "id": "286c3be5-416e-4930-9fb0-cd40d3995572",
   "metadata": {},
   "outputs": [
    {
     "name": "stdin",
     "output_type": "stream",
     "text": [
      "enter the number 2 3 4 5\n"
     ]
    },
    {
     "name": "stdout",
     "output_type": "stream",
     "text": [
      "['2', ' ', '3', ' ', '4', ' ', '5']\n",
      "('2', ' ', '3', ' ', '4', ' ', '5')\n"
     ]
    }
   ],
   "source": [
    "a = input(\"enter the number\")\n",
    "print(list(a))\n",
    "print(tuple(a))"
   ]
  },
  {
   "cell_type": "code",
   "execution_count": 10,
   "id": "b956485c-faa7-4fc9-9324-667081406d20",
   "metadata": {},
   "outputs": [
    {
     "name": "stdin",
     "output_type": "stream",
     "text": [
      "enter the number re.re\n"
     ]
    },
    {
     "name": "stdout",
     "output_type": "stream",
     "text": [
      ":'re'\n"
     ]
    }
   ],
   "source": [
    "a = input(\"enter the number\")\n",
    "x = a.split(\".\")\n",
    "print(\":\"+ repr(x[-1]))"
   ]
  },
  {
   "cell_type": "code",
   "execution_count": 12,
   "id": "22778a21-5299-4b96-80e6-9aaed73f8886",
   "metadata": {},
   "outputs": [
    {
     "name": "stdout",
     "output_type": "stream",
     "text": [
      "Red Black\n"
     ]
    }
   ],
   "source": [
    "x = [\"Red\",\"Green\",\"White\" ,\"Black\"]\n",
    "print(x[0],x[3])"
   ]
  },
  {
   "cell_type": "code",
   "execution_count": 17,
   "id": "604bd40c-8bde-4499-94f1-9864c1d63e5f",
   "metadata": {},
   "outputs": [
    {
     "name": "stdout",
     "output_type": "stream",
     "text": [
      "Date : 11 / 12 / 2014\n"
     ]
    }
   ],
   "source": [
    "x = (11, 12, 2014)\n",
    "print(\"Date : %i / %i / %i\" % x)"
   ]
  },
  {
   "cell_type": "code",
   "execution_count": 1,
   "id": "0c2e1844-5a2f-499f-8e24-9ddafc3d5c38",
   "metadata": {},
   "outputs": [
    {
     "name": "stdin",
     "output_type": "stream",
     "text": [
      "Enter the n numbwe 5\n"
     ]
    },
    {
     "name": "stdout",
     "output_type": "stream",
     "text": [
      "615\n"
     ]
    }
   ],
   "source": [
    "a = int(input(\"Enter the n numbwe\"))\n",
    "x1 = int(\"%s\" % a)        \n",
    "x2 = int(\"%s%s\" % (a, a))   \n",
    "x3 = int(\"%s%s%s\" % (a, a, a)) \n",
    "print(x1 + x2 + x3)"
   ]
  },
  {
   "cell_type": "code",
   "execution_count": 2,
   "id": "f145ade7-ae3d-4b05-8d66-230219d14a0f",
   "metadata": {},
   "outputs": [
    {
     "name": "stdout",
     "output_type": "stream",
     "text": [
      "Return the absolute value of the argument.\n"
     ]
    }
   ],
   "source": [
    "print(abs.__doc__)\n"
   ]
  },
  {
   "cell_type": "code",
   "execution_count": 3,
   "id": "3df9a5ef-6751-4ff2-bfa7-85438d6dec6a",
   "metadata": {},
   "outputs": [
    {
     "name": "stdin",
     "output_type": "stream",
     "text": [
      "Enter The Year 2017\n",
      "Enter The Month  12\n"
     ]
    },
    {
     "name": "stdout",
     "output_type": "stream",
     "text": [
      "   December 2017\n",
      "Mo Tu We Th Fr Sa Su\n",
      "             1  2  3\n",
      " 4  5  6  7  8  9 10\n",
      "11 12 13 14 15 16 17\n",
      "18 19 20 21 22 23 24\n",
      "25 26 27 28 29 30 31\n",
      "\n"
     ]
    }
   ],
   "source": [
    "import calendar\n",
    "x = int(input(\"Enter The Year\"))\n",
    "y = int(input(\"Enter The Month \"))\n",
    "\n",
    "print(calendar.month(x, y))\n"
   ]
  },
  {
   "cell_type": "code",
   "execution_count": 5,
   "id": "ba56342a-442c-4f3c-ab49-2428be3a68fa",
   "metadata": {},
   "outputs": [
    {
     "name": "stdout",
     "output_type": "stream",
     "text": [
      "a string that you \"don't\" have to escape\n",
      "This\n",
      "is a  ....... multi-line\n",
      "heredoc string --------> example\n"
     ]
    }
   ],
   "source": [
    "print(\"\"\"a string that you \"don't\" have to escape\n",
    "This\n",
    "is a  ....... multi-line\n",
    "heredoc string --------> example\"\"\")"
   ]
  },
  {
   "cell_type": "code",
   "execution_count": 10,
   "id": "48ba713f-5729-4713-90bc-59a917c13e36",
   "metadata": {},
   "outputs": [
    {
     "name": "stdout",
     "output_type": "stream",
     "text": [
      "9\n"
     ]
    }
   ],
   "source": [
    "from datetime import date\n",
    "x = date(2014, 7, 2)\n",
    "y = date(2014, 7, 11)\n",
    "a = y - x\n",
    "print(a.days)"
   ]
  },
  {
   "cell_type": "code",
   "execution_count": 12,
   "id": "781b90d5-e391-4425-8c96-e12895458544",
   "metadata": {},
   "outputs": [
    {
     "name": "stdin",
     "output_type": "stream",
     "text": [
      "Enter The redius of the sphere 6\n"
     ]
    },
    {
     "name": "stdout",
     "output_type": "stream",
     "text": [
      "volume :  904.7786842338603\n"
     ]
    }
   ],
   "source": [
    "import math\n",
    "r = int(input(\"Enter The redius of the sphere\"))\n",
    "v = 4/3 * math.pi * r**3\n",
    "print(\"volume : \",v)"
   ]
  },
  {
   "cell_type": "code",
   "execution_count": 30,
   "id": "344870bf-803b-4a20-bf84-c5e30be9ccda",
   "metadata": {},
   "outputs": [
    {
     "name": "stdin",
     "output_type": "stream",
     "text": [
      "Enter The a Number 22\n"
     ]
    },
    {
     "name": "stdout",
     "output_type": "stream",
     "text": [
      "10\n"
     ]
    }
   ],
   "source": [
    "n = int(input(\"Enter The a Number\"))\n",
    "def ram(n):\n",
    "\n",
    "   if n <= 17: \n",
    "      return 17 - n\n",
    "   else:\n",
    "      return(n - 17)*2\n",
    "print(ram(n))    \n",
    "    "
   ]
  },
  {
   "cell_type": "code",
   "execution_count": null,
   "id": "cf1fa39d-2dfe-4b92-98de-0b6c9e6e637e",
   "metadata": {},
   "outputs": [],
   "source": [
    "17\n"
   ]
  },
  {
   "cell_type": "code",
   "execution_count": 23,
   "id": "19697a98-907e-40bd-afc8-cc43acda893c",
   "metadata": {},
   "outputs": [
    {
     "name": "stdin",
     "output_type": "stream",
     "text": [
      "Enter The a number 3\n",
      "Enter The b number  3\n",
      "Enter The c number 3\n"
     ]
    },
    {
     "name": "stdout",
     "output_type": "stream",
     "text": [
      "27\n"
     ]
    }
   ],
   "source": [
    "a = int(input(\"Enter The a number\"))\n",
    "b = int(input(\"Enter The b number \"))\n",
    "c = int(input(\"Enter The c number\"))\n",
    "def sum_class(a,b,c):\n",
    "    sum = a + b + c  \n",
    "    if a == b == c:\n",
    "       sum = sum * 3\n",
    "    return sum \n",
    "print(sum_class(a,b,c))"
   ]
  },
  {
   "cell_type": "code",
   "execution_count": 28,
   "id": "e51d966b-5b17-4370-8aac-831d6d13e9a7",
   "metadata": {},
   "outputs": [
    {
     "data": {
      "text/plain": [
       "19"
      ]
     },
     "execution_count": 28,
     "metadata": {},
     "output_type": "execute_result"
    }
   ],
   "source": [
    "19"
   ]
  },
  {
   "cell_type": "code",
   "execution_count": 29,
   "id": "f9ac4d4e-29e7-4129-987f-5049df29ca14",
   "metadata": {},
   "outputs": [
    {
     "name": "stdin",
     "output_type": "stream",
     "text": [
      "Enter The text  ram\n",
      "Enter The n number  4\n"
     ]
    },
    {
     "name": "stdout",
     "output_type": "stream",
     "text": [
      " ramramramram\n"
     ]
    }
   ],
   "source": [
    "a = input(\"Enter The text \")\n",
    "b = int(input(\"Enter The n number \"))\n",
    "def larger_string(text, n):\n",
    "    result = \" \"\n",
    "    for i in range(n):\n",
    "        result = result + text\n",
    "    return result\n",
    "print(larger_string(a, b))"
   ]
  },
  {
   "cell_type": "code",
   "execution_count": 55,
   "id": "824ee097-7bda-4c2b-9909-85d8093924f8",
   "metadata": {},
   "outputs": [
    {
     "name": "stdin",
     "output_type": "stream",
     "text": [
      "Enter The a number 121\n"
     ]
    },
    {
     "name": "stdout",
     "output_type": "stream",
     "text": [
      "odd Number\n"
     ]
    }
   ],
   "source": [
    "a = int(input(\"Enter The a number\"))\n",
    "if a%2 == 0:\n",
    "    print(\"Even Number\")\n",
    "else:\n",
    "    print(\"odd Number\")"
   ]
  },
  {
   "cell_type": "code",
   "execution_count": 12,
   "id": "9e6ed6e1-54d1-4dd9-9683-68472ba055ec",
   "metadata": {},
   "outputs": [
    {
     "name": "stdout",
     "output_type": "stream",
     "text": [
      "4\n"
     ]
    }
   ],
   "source": [
    "def list_count_4(x):\n",
    "    count = 0\n",
    "    for a in x:\n",
    "       if a == 4:\n",
    "          count = count + 1\n",
    "    return count\n",
    "print(list_count_4([2, 4, 3, 4, 5, 4, 5, 4]))"
   ]
  },
  {
   "cell_type": "code",
   "execution_count": 13,
   "id": "b9f03bb3-a816-4ef6-831d-0229be0a5048",
   "metadata": {},
   "outputs": [
    {
     "name": "stdin",
     "output_type": "stream",
     "text": [
      "Enter The text  ad\n",
      "Enter The n number  3\n"
     ]
    },
    {
     "name": "stdout",
     "output_type": "stream",
     "text": [
      " adadad\n"
     ]
    }
   ],
   "source": [
    "a = input(\"Enter The text \")\n",
    "b = int(input(\"Enter The n number \"))\n",
    "def clas(text, n):\n",
    "   flen = 2 \n",
    "   if flen > len(text):\n",
    "      flen > len(text)\n",
    "   y = text[:flen]\n",
    "   result = \" \"\n",
    "   for i in range(n):\n",
    "    result = result + y\n",
    "   return result\n",
    "print(clas(a, b))"
   ]
  },
  {
   "cell_type": "code",
   "execution_count": 17,
   "id": "2ab19617-06c3-4aa0-8c27-5c2fb54ad768",
   "metadata": {},
   "outputs": [
    {
     "name": "stdin",
     "output_type": "stream",
     "text": [
      "Enter The text  weded\n",
      "Enter The text  e\n"
     ]
    },
    {
     "name": "stdout",
     "output_type": "stream",
     "text": [
      "True\n"
     ]
    }
   ],
   "source": [
    "a = input(\"Enter The text \")\n",
    "y = input(\"Enter The text \")\n",
    "def Name(x):\n",
    "    b = a\n",
    "    return x in b\n",
    "print(Name(y))  \n",
    "   \n"
   ]
  },
  {
   "cell_type": "code",
   "execution_count": 22,
   "id": "b878ea38-b441-4f14-ae3b-42da7a3be7d4",
   "metadata": {},
   "outputs": [
    {
     "name": "stdin",
     "output_type": "stream",
     "text": [
      "Enter numbers separated by commas:  2, 3, 4, 5, 5\n"
     ]
    },
    {
     "name": "stdout",
     "output_type": "stream",
     "text": [
      "[2, 3, 4, 5, 5]\n"
     ]
    }
   ],
   "source": [
    "x = input(\"Enter numbers separated by commas: \")\n",
    "y = [int(x) for x in x.split(',')]\n",
    "print(y)\n"
   ]
  },
  {
   "cell_type": "code",
   "execution_count": 5,
   "id": "8e5dd20a-d02a-40af-be38-418ece3b30c3",
   "metadata": {},
   "outputs": [
    {
     "name": "stdout",
     "output_type": "stream",
     "text": [
      "*\n",
      "**\n",
      "***\n",
      "****\n",
      "*****\n",
      "******\n",
      "*******\n",
      "********\n"
     ]
    }
   ],
   "source": [
    "def ram(x):\n",
    "    for n in x:\n",
    "        output = ''   # Initialize an empty string called output.\n",
    "        y = n\n",
    "        while y > 0:\n",
    "            output += '*'\n",
    "            y = y - 1   # Decrement the times variable.\n",
    "\n",
    "        print(output)\n",
    "ram([1, 2, 3, 4, 5, 6, 7, 8])\n"
   ]
  },
  {
   "cell_type": "code",
   "execution_count": 29,
   "id": "31a1123e-a48e-4215-9af9-13926bc8f41b",
   "metadata": {},
   "outputs": [
    {
     "name": "stdout",
     "output_type": "stream",
     "text": [
      " 23456\n"
     ]
    }
   ],
   "source": [
    "\n",
    "def ram(a):\n",
    "    b = ' '\n",
    "    for element in a:\n",
    "        b += str(element)\n",
    "    return b\n",
    "print(ram([ 2, 3, 4, 5, 6]))"
   ]
  },
  {
   "cell_type": "code",
   "execution_count": 13,
   "id": "2234f85d-9017-4712-b78a-ddf0f6fe2b4f",
   "metadata": {},
   "outputs": [
    {
     "name": "stdin",
     "output_type": "stream",
     "text": [
      "Enter The n number  237\n"
     ]
    },
    {
     "name": "stdout",
     "output_type": "stream",
     "text": [
      "386\n",
      "462\n",
      "418\n",
      "344\n",
      "236\n",
      "566\n",
      "978\n",
      "328\n",
      "162\n",
      "758\n",
      "918\n",
      "237\n"
     ]
    }
   ],
   "source": [
    "number = [    \n",
    "    386, 462, 47, 418, 907, 344, 236, 375, 823, 566, 597, 978, 328, 615, 953, 345, \n",
    "    399, 162, 758, 219, 918, 237, 412, 566, 826, 248, 866, 950, 626, 949, 687, 217, \n",
    "    815, 67, 104, 58, 512, 24, 892, 894, 767, 553, 81, 379, 843, 831, 445, 742, 717, \n",
    "    958,743, 527\n",
    "    ]\n",
    "b = int(input(\"Enter The n number \"))\n",
    "for y in number:\n",
    "    if y == b:\n",
    "         print(y)\n",
    "         break\n",
    "    elif y% 2 == 0:\n",
    "         print(y)\n",
    "    "
   ]
  },
  {
   "cell_type": "code",
   "execution_count": 36,
   "id": "9d88a3b5-3a51-4872-ad4d-62e891484a95",
   "metadata": {},
   "outputs": [
    {
     "name": "stdin",
     "output_type": "stream",
     "text": [
      "Enter numbers separated by commas:  w, b, r\n",
      "Enter numbers separated by commas:  r, g\n"
     ]
    },
    {
     "name": "stdout",
     "output_type": "stream",
     "text": [
      "{'b', 'w'}\n",
      "{'g'}\n"
     ]
    }
   ],
   "source": [
    "x = set(input(\"Enter The Color : \").split(', '))\n",
    "y = set(input(\"Enter the Different color: \").split(', '))\n",
    "a = x - y\n",
    "b = y - x\n",
    "#print(y.difference(b))\n",
    "#print(b.difference(y))\n",
    "print(a) \n",
    "print(b) "
   ]
  },
  {
   "cell_type": "code",
   "execution_count": 37,
   "id": "497b12f1-e661-4a6d-86b7-1d34669e5bf6",
   "metadata": {},
   "outputs": [
    {
     "name": "stdin",
     "output_type": "stream",
     "text": [
      "Enter the base :  20\n",
      "Enter the height :  40\n"
     ]
    },
    {
     "name": "stdout",
     "output_type": "stream",
     "text": [
      "area =  400.0\n"
     ]
    }
   ],
   "source": [
    "b = int(input(\"Enter the base : \"))\n",
    "h = int(input(\"Enter the height : \"))\n",
    "area = b * h /  2\n",
    "print(\"area = \", area)\n"
   ]
  },
  {
   "cell_type": "code",
   "execution_count": 44,
   "id": "60d77629-29e0-40fe-a46c-d8efe6937369",
   "metadata": {},
   "outputs": [
    {
     "name": "stdin",
     "output_type": "stream",
     "text": [
      "Enter the a number :  336\n",
      "Enter the b number :  360\n"
     ]
    },
    {
     "name": "stdout",
     "output_type": "stream",
     "text": [
      "GCD  = 24\n"
     ]
    }
   ],
   "source": [
    "x = int(input(\"Enter the a number : \"))\n",
    "y = int(input(\"Enter the b number : \"))\n",
    "def GCD(x, y):\n",
    "    GCD = 1\n",
    "    if x % y == 0:\n",
    "        return y\n",
    "    for a in range(int(y / 2), 0, -1):\n",
    "        if x % a == 0 and y % a == 0:\n",
    "            GCD = a\n",
    "            break\n",
    "    return GCD\n",
    "print(\"GCD  =\", GCD(x, y))\n",
    "\n"
   ]
  },
  {
   "cell_type": "code",
   "execution_count": 7,
   "id": "3255421a-195d-4783-92cb-00c8e39d7cef",
   "metadata": {},
   "outputs": [
    {
     "name": "stdin",
     "output_type": "stream",
     "text": [
      "Enter The x numbeer :  2\n",
      "Enter The y number :  3\n",
      "Enter The z nummber :  4\n"
     ]
    },
    {
     "name": "stdout",
     "output_type": "stream",
     "text": [
      "9\n"
     ]
    }
   ],
   "source": [
    "x = int(input(\"Enter The x numbeer : \"))\n",
    "y = int(input(\"Enter The y number : \"))\n",
    "z = int(input(\"Enter The z nummber : \"))\n",
    "if x == y or y == z or x == z:\n",
    "    print(0)\n",
    "else:\n",
    "     sum =   x + y + z\n",
    "print(sum)"
   ]
  },
  {
   "cell_type": "code",
   "execution_count": 10,
   "id": "5ab54fdf-ec47-4f5f-a435-ce92ce6bcca5",
   "metadata": {},
   "outputs": [
    {
     "name": "stdin",
     "output_type": "stream",
     "text": [
      "Enter The x numbeer :  22\n",
      "Enter The y number :  3\n"
     ]
    },
    {
     "name": "stdout",
     "output_type": "stream",
     "text": [
      "25\n"
     ]
    }
   ],
   "source": [
    "x = int(input(\"Enter The x numbeer : \"))\n",
    "y = int(input(\"Enter The y number : \"))\n",
    "z = x + y\n",
    "if z in range(15, 20):\n",
    "    print(20)\n",
    "else:\n",
    "    print(z)\n"
   ]
  },
  {
   "cell_type": "code",
   "execution_count": 45,
   "id": "541f90c1-ee2b-4e8d-93ef-7b14427e3b88",
   "metadata": {},
   "outputs": [
    {
     "name": "stdin",
     "output_type": "stream",
     "text": [
      "Enter The x numbeer :  2\n",
      "Enter The y number :  3\n"
     ]
    },
    {
     "name": "stdout",
     "output_type": "stream",
     "text": [
      "True\n"
     ]
    }
   ],
   "source": [
    "x = float(input(\"Enter The x numbeer : \"))\n",
    "y = int(input(\"Enter The y number : \"))\n",
    "if x == y or (x - y) == 5 or (x + y) == 5:\n",
    "    print(True)\n",
    "else:\n",
    "    print(False)\n"
   ]
  },
  {
   "cell_type": "code",
   "execution_count": 50,
   "id": "4daae500-c745-4fc7-a02e-5c02fd2fdcb9",
   "metadata": {},
   "outputs": [
    {
     "name": "stdout",
     "output_type": "stream",
     "text": [
      "30\n",
      " no Integers\n",
      " no Integers\n"
     ]
    }
   ],
   "source": [
    "def sum(x, y):\n",
    "    \n",
    "    if not (isinstance(x, int) and isinstance(y, int)):\n",
    "        return \" no Integers\"\n",
    "    return x + y   \n",
    "print(sum(10, 20))    \n",
    "print(sum(10, 20.23)) \n",
    "print(sum('5', 6))   \n",
    "        \n",
    "        \n"
   ]
  },
  {
   "cell_type": "code",
   "execution_count": 59,
   "id": "9ecbe9e7-e7e4-49d5-a8b7-5c43be6cadf3",
   "metadata": {},
   "outputs": [
    {
     "name": "stdin",
     "output_type": "stream",
     "text": [
      "Enter Your Name :  Ram\n",
      "Enter your Age : 21\n",
      "Enter Address :  jaipur\n"
     ]
    },
    {
     "name": "stdout",
     "output_type": "stream",
     "text": [
      "Name: Ram\n",
      "Age: 21\n",
      "Address: jaipur\n"
     ]
    }
   ],
   "source": [
    "Name = input(\"Enter Your Name : \")\n",
    "Age = int(input(\"Enter your Age :\"))\n",
    "Add = input(\"Enter Address : \")\n",
    "print(\"Name: {}\\nAge: {}\\nAddress: {}\".format(Name, Age, Add))\n"
   ]
  },
  {
   "cell_type": "code",
   "execution_count": 63,
   "id": "67581749-ea90-4bf1-888f-71c7445521b0",
   "metadata": {},
   "outputs": [
    {
     "name": "stdin",
     "output_type": "stream",
     "text": [
      "Enter The x numbeer :  3\n",
      "Enter The y number :  4\n"
     ]
    },
    {
     "name": "stdout",
     "output_type": "stream",
     "text": [
      "(3 + 4)^2 = 49\n"
     ]
    }
   ],
   "source": [
    "x = int(input(\"Enter The x numbeer : \"))\n",
    "y = int(input(\"Enter The y number : \"))\n",
    "sum = (x + y) * (x + y)\n",
    "print(f\"({x} + {y})^2 = {sum}\")"
   ]
  },
  {
   "cell_type": "code",
   "execution_count": 66,
   "id": "aeb8a1b7-38fb-4ff3-b50a-84bff531929b",
   "metadata": {},
   "outputs": [
    {
     "name": "stdin",
     "output_type": "stream",
     "text": [
      "Enter The amt numbeer :  10000\n",
      "Enter The interest number :  3.5\n",
      "Enter The Year number :  7\n"
     ]
    },
    {
     "name": "stdout",
     "output_type": "stream",
     "text": [
      "12722.792627665729 2\n"
     ]
    }
   ],
   "source": [
    "amt = int(input(\"Enter The amt numbeer : \"))\n",
    "interest = float(input(\"Enter The interest number : \"))\n",
    "years = int(input(\"Enter The Year number : \"))\n",
    "Total_Amaunt = amt * ((1 + (0.01 * interest)) ** years)\n",
    "print(Total_Amaunt, 2)"
   ]
  },
  {
   "cell_type": "code",
   "execution_count": 70,
   "id": "87d2274a-e312-4aa6-af7e-d4f38c56e79b",
   "metadata": {},
   "outputs": [
    {
     "name": "stdin",
     "output_type": "stream",
     "text": [
      "Enter x1:  4\n",
      "Enter y1:  0\n",
      "Enter x2:  6\n",
      "Enter y2:  6\n"
     ]
    },
    {
     "name": "stdout",
     "output_type": "stream",
     "text": [
      "Dsstance  : 6.324555320336759\n"
     ]
    }
   ],
   "source": [
    "import math\n",
    "x1 = float(input(\"Enter x1: \"))\n",
    "y1 = float(input(\"Enter y1: \"))\n",
    "x2 = float(input(\"Enter x2: \"))\n",
    "y2 = float(input(\"Enter y2: \"))\n",
    "distance = math.sqrt((x2 - x1)**2 + (y2 - y1)**2)\n",
    "print(\"Dsstance  :\", distance)"
   ]
  },
  {
   "cell_type": "code",
   "execution_count": 73,
   "id": "255f217a-8685-48eb-a0b0-8563bb75b44d",
   "metadata": {},
   "outputs": [
    {
     "name": "stdout",
     "output_type": "stream",
     "text": [
      "False\n",
      "False\n"
     ]
    }
   ],
   "source": [
    "import os.path\n",
    "print(os.path.isfile('main.txt'))\n",
    "print(os.path.isfile('main.py'))"
   ]
  },
  {
   "cell_type": "code",
   "execution_count": 2,
   "id": "38a173bf-98fa-4bc8-9cab-3c78eb17c4c9",
   "metadata": {},
   "outputs": [
    {
     "name": "stdout",
     "output_type": "stream",
     "text": [
      "32\n"
     ]
    }
   ],
   "source": [
    "import struct\n",
    "print(struct.calcsize(\"P\") * 8)\n",
    "# The format string \"P\" is used to represent the C void pointer type, and multiplying it by 8 gives the size in bits."
   ]
  },
  {
   "cell_type": "code",
   "execution_count": 5,
   "id": "e2590296-ee8f-448b-8872-d876dfc9bc18",
   "metadata": {},
   "outputs": [
    {
     "name": "stdout",
     "output_type": "stream",
     "text": [
      "Name of the operating system: nt\n",
      "Name of the OS system: Windows\n",
      "Version of the operating system: 10\n"
     ]
    }
   ],
   "source": [
    "import platform\n",
    "import os\n",
    "print(\"Name of the operating system:\", os.name)\n",
    "print(\"Name of the OS system:\", platform.system())\n",
    "print(\"Version of the operating system:\", platform.release())"
   ]
  },
  {
   "cell_type": "code",
   "execution_count": 14,
   "id": "67400b91-d85a-42a4-9932-608516ac7cab",
   "metadata": {},
   "outputs": [
    {
     "name": "stdout",
     "output_type": "stream",
     "text": [
      "['C:\\\\Users\\\\vs\\\\anaconda3', 'C:\\\\Users\\\\vs\\\\anaconda3\\\\Lib\\\\site-packages']\n"
     ]
    }
   ],
   "source": [
    "import site\n",
    "print(site.getsitepackages())\n"
   ]
  },
  {
   "cell_type": "code",
   "execution_count": 15,
   "id": "cb18650e-e940-461d-9f06-1542c50cfaf8",
   "metadata": {},
   "outputs": [
    {
     "name": "stdout",
     "output_type": "stream",
     "text": [
      "1\n"
     ]
    }
   ],
   "source": [
    "import os\n",
    "print(os.system('ls -l'))"
   ]
  },
  {
   "cell_type": "code",
   "execution_count": 16,
   "id": "e4cf3580-34cc-4448-9e14-5ab9dbe53a24",
   "metadata": {},
   "outputs": [
    {
     "name": "stdout",
     "output_type": "stream",
     "text": [
      "8\n"
     ]
    }
   ],
   "source": [
    "import psutil\n",
    "print(psutil.cpu_count())"
   ]
  },
  {
   "cell_type": "code",
   "execution_count": 19,
   "id": "806049f7-1e06-4d56-b81d-36c6cc39f272",
   "metadata": {},
   "outputs": [
    {
     "name": "stdout",
     "output_type": "stream",
     "text": [
      "Current File Name:  C:\\Program Files\n"
     ]
    }
   ],
   "source": [
    "import os\n",
    "print(\"Current File Name: \", os.path.realpath('C:\\Program Files' ))"
   ]
  },
  {
   "cell_type": "code",
   "execution_count": 21,
   "id": "ff1cae2c-a720-4c84-bfef-7481c94375e2",
   "metadata": {},
   "outputs": [
    {
     "name": "stdout",
     "output_type": "stream",
     "text": [
      "8\n"
     ]
    }
   ],
   "source": [
    "import multiprocessing\n",
    "cpu_count = multiprocessing.cpu_count()\n",
    "print(cpu_count)"
   ]
  },
  {
   "cell_type": "code",
   "execution_count": 34,
   "id": "c9b1ebf8-732f-4491-b8ca-bd5d2a5f3be6",
   "metadata": {},
   "outputs": [
    {
     "name": "stdin",
     "output_type": "stream",
     "text": [
      "Enter The Number  656\n"
     ]
    },
    {
     "name": "stdout",
     "output_type": "stream",
     "text": [
      "656.0\n",
      "656\n"
     ]
    }
   ],
   "source": [
    "x = str(input(\"Enter The Number \"))\n",
    "print(float(x))\n",
    "print(int(x))"
   ]
  },
  {
   "cell_type": "code",
   "execution_count": 38,
   "id": "43b347cd-db66-4680-8b42-0acc3ddf5dbf",
   "metadata": {},
   "outputs": [
    {
     "name": "stdout",
     "output_type": "stream",
     "text": [
      "**********\n",
      "\n"
     ]
    }
   ],
   "source": [
    "for i in range(0, 10):\n",
    "    print('*', end=\"\")\n",
    "print(\"\\n\")    "
   ]
  },
  {
   "cell_type": "code",
   "execution_count": null,
   "id": "e38c4a30-8f03-43fc-9b84-d82e76bdf2eb",
   "metadata": {},
   "outputs": [],
   "source": []
  }
 ],
 "metadata": {
  "kernelspec": {
   "display_name": "Python 3 (ipykernel)",
   "language": "python",
   "name": "python3"
  },
  "language_info": {
   "codemirror_mode": {
    "name": "ipython",
    "version": 3
   },
   "file_extension": ".py",
   "mimetype": "text/x-python",
   "name": "python",
   "nbconvert_exporter": "python",
   "pygments_lexer": "ipython3",
   "version": "3.11.7"
  },
  "widgets": {
   "application/vnd.jupyter.widget-state+json": {
    "state": {},
    "version_major": 2,
    "version_minor": 0
   }
  }
 },
 "nbformat": 4,
 "nbformat_minor": 5
}

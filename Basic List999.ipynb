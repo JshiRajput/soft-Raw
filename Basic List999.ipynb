{
 "cells": [
  {
   "cell_type": "code",
   "execution_count": 10,
   "id": "363b7154-f26c-492e-84df-87f975ca00d1",
   "metadata": {},
   "outputs": [
    {
     "name": "stdin",
     "output_type": "stream",
     "text": [
      "Enter the Number of element 5\n",
      "Enter the Number 2\n",
      "Enter the Number 3\n",
      "Enter the Number 4\n",
      "Enter the Number 5\n",
      "Enter the Number 6\n"
     ]
    },
    {
     "name": "stdout",
     "output_type": "stream",
     "text": [
      "[2, 3, 4, 5, 6]\n"
     ]
    }
   ],
   "source": [
    "x = []\n",
    "a = int(input(\"Enter the Number of element\"))\n",
    "for i in range(0, a):\n",
    "    b = int(input(\"Enter the Number\"))\n",
    "    x.append(b)\n",
    "print(x)\n"
   ]
  },
  {
   "cell_type": "code",
   "execution_count": null,
   "id": "31f8484b-2b6b-4636-b51c-c152a8333d5a",
   "metadata": {},
   "outputs": [],
   "source": [
    "# try block to handle the exception\n",
    "try:\n",
    "    x = []\n",
    "    while True:\n",
    "        x.append(int(input()))\n",
    "\n",
    "except:\n",
    "    print(x)"
   ]
  },
  {
   "cell_type": "code",
   "execution_count": 3,
   "id": "d6039317-e0d4-4e22-bbc2-c15e25d530ee",
   "metadata": {},
   "outputs": [
    {
     "name": "stdin",
     "output_type": "stream",
     "text": [
      "Enter the element 3\n",
      " ram\n",
      " 3\n",
      " jitu\n",
      " 4\n",
      " rakesh\n",
      " 7\n"
     ]
    },
    {
     "name": "stdout",
     "output_type": "stream",
     "text": [
      "[['ram', 3], ['jitu', 4], ['rakesh', 7]]\n"
     ]
    }
   ],
   "source": [
    "#Get a list as input from user in Python List of lists as input \n",
    "x = []\n",
    "n = int(input(\"Enter the element\"))\n",
    "for i in range(0, n):\n",
    "    y = [input(), int(input())]\n",
    "    x.append(y)\n",
    "\n",
    "print(x)"
   ]
  },
  {
   "cell_type": "code",
   "execution_count": 6,
   "id": "0c32d5d0-2e3b-46d6-af50-c8699397c153",
   "metadata": {},
   "outputs": [
    {
     "name": "stdin",
     "output_type": "stream",
     "text": [
      "Enter \\ the list x items :  2, 3, 4, 5, 6, 7\n",
      "Enter \\ the list y items :  ram, jitu, dsdf, were, effre\n"
     ]
    },
    {
     "name": "stdout",
     "output_type": "stream",
     "text": [
      "[2, 3, 4, 5, 6, 7]\n",
      "['ram,', 'jitu,', 'dsdf,', 'were,', 'effre']\n"
     ]
    }
   ],
   "source": [
    "#Get a list as input from user in Python Using List \n",
    "#Comprehension and Typecasting \n",
    "x = []\n",
    "y = []\n",
    "x = [int(item) for item in input(\"Enter \\ the list x items : \").split(\",\")]\n",
    "y = [item for item in input(\"Enter \\ the list y items : \").split()]\n",
    "print(x)\n",
    "print(y)\n",
    "       "
   ]
  },
  {
   "cell_type": "code",
   "execution_count": 18,
   "id": "0ab0e4c5-bbad-47ab-80b6-e07507287ae6",
   "metadata": {},
   "outputs": [
    {
     "name": "stdout",
     "output_type": "stream",
     "text": [
      "[-1, 0, 1]\n"
     ]
    }
   ],
   "source": [
    "\n",
    "def createList(r1, r2):\n",
    " \n",
    " # Testing if range r1 and r2\n",
    " # are equal\n",
    " if (r1 == r2):\n",
    "  return r1\n",
    " \n",
    " else:\n",
    " \n",
    "  # Create empty list\n",
    "  res = []\n",
    " \n",
    "  # loop to append successors to\n",
    "  # list until r2 is reached.\n",
    "  while(r1 < r2+1 ):\n",
    "    \n",
    "   res.append(r1)\n",
    "   r1 += 1\n",
    "  return res\n",
    "  \n",
    "# Driver Code\n",
    "r1, r2 = -1, 1\n",
    "print(createList(r1, r2))\n"
   ]
  },
  {
   "cell_type": "code",
   "execution_count": 19,
   "id": "6a2b3fbd-49a5-44aa-8e69-f9e57ff86cb9",
   "metadata": {},
   "outputs": [
    {
     "name": "stdout",
     "output_type": "stream",
     "text": [
      "[-1, 0, 1]\n"
     ]
    }
   ],
   "source": [
    "# with integers within given range \n",
    "def createList(r1, r2):\n",
    "    return [item for item in range(r1, r2+1)]\n",
    "     \n",
    "# Driver Code\n",
    "r1, r2 = -1, 1\n",
    "print(createList(r1, r2))"
   ]
  },
  {
   "cell_type": "code",
   "execution_count": 21,
   "id": "4048deeb-76af-46d4-8e10-23099ddcdb4e",
   "metadata": {},
   "outputs": [
    {
     "name": "stdout",
     "output_type": "stream",
     "text": [
      "[-1, 0, 1]\n"
     ]
    }
   ],
   "source": [
    "def num(r1, r2):# with integers within given range \n",
    "    return list(range(r1, r2+1))\n",
    "r1, r2 = -1, 1\n",
    "print(num(r1, r2))"
   ]
  },
  {
   "cell_type": "code",
   "execution_count": 22,
   "id": "0f8a3d22-0848-4bfd-81d9-d69348d6bec8",
   "metadata": {},
   "outputs": [
    {
     "name": "stdout",
     "output_type": "stream",
     "text": [
      "[-5, -4, -3, -2, -1, 0, 1, 2, 3, 4, 5]\n"
     ]
    }
   ],
   "source": [
    "# with integers within given range \n",
    "import itertools\n",
    "r1=-5\n",
    "r2=5\n",
    "#using the chain function from the itertools module\n",
    "numbers = list(itertools.chain(range(r1, r2+1)))\n",
    "print(numbers)"
   ]
  },
  {
   "cell_type": "code",
   "execution_count": 23,
   "id": "282f66e9-e5c1-47cb-a663-f0814194a436",
   "metadata": {},
   "outputs": [
    {
     "name": "stdout",
     "output_type": "stream",
     "text": [
      "[1.0, 1.5, 2.0, 2.5, 3.0, 3.5, 4.0, 4.5, 5.0]\n"
     ]
    }
   ],
   "source": [
    "#Using numpy to create list of numbers with given range\n",
    "import numpy as np\n",
    " \n",
    "def fun(start, end, step):\n",
    "    num = np.linspace(start, end,(end-start)\n",
    "                      *int(1/step)+1).tolist()\n",
    "    return [round(i, 2) for i in num]\n",
    "     \n",
    " \n",
    "print(fun(1,5,0.5))"
   ]
  },
  {
   "cell_type": "code",
   "execution_count": 32,
   "id": "85e644cc-2dbc-4991-87db-0d968f460888",
   "metadata": {},
   "outputs": [
    {
     "name": "stdout",
     "output_type": "stream",
     "text": [
      "[1, 2, 3, 4]\n"
     ]
    }
   ],
   "source": [
    "#Insert Element to List Using insert() Method\n",
    "my_list = [2, 3, 4]\n",
    "my_list.insert(0, 1)  \n",
    "print(my_list)"
   ]
  },
  {
   "cell_type": "code",
   "execution_count": 34,
   "id": "6f6d6618-5eac-409f-aa78-18adc079fa0c",
   "metadata": {},
   "outputs": [
    {
     "name": "stdout",
     "output_type": "stream",
     "text": [
      "[1, 2, 3, 4]\n"
     ]
    }
   ],
   "source": [
    "#Add Element to List using append() Method\n",
    "my_list = [1, 2, 3]\n",
    "#using append() to add elements\n",
    "my_list.append(4)\n",
    "#printing new list\n",
    "print(my_list)"
   ]
  },
  {
   "cell_type": "code",
   "execution_count": 35,
   "id": "0044c3c3-dd57-4beb-98be-95953aac7b9e",
   "metadata": {},
   "outputs": [
    {
     "name": "stdout",
     "output_type": "stream",
     "text": [
      "[1, 2, 3, 4]\n"
     ]
    }
   ],
   "source": [
    "#Add Element to a List Using Concatenation\n",
    "my_list = [2, 3, 4]\n",
    "new_element = [1]\n",
    "my_list = new_element + my_list\n",
    "print(my_list)"
   ]
  },
  {
   "cell_type": "code",
   "execution_count": 36,
   "id": "d183b0e8-8004-4586-9354-a3fdd442962e",
   "metadata": {},
   "outputs": [
    {
     "name": "stdout",
     "output_type": "stream",
     "text": [
      "[1, 2, 3, 4, 5]\n"
     ]
    }
   ],
   "source": [
    "#Add Element to a List Using extend() Method\n",
    "my_list = [1, 2, 3]\n",
    "new_elements = [4, 5]\n",
    "my_list.extend(new_elements)\n",
    "print(my_list)"
   ]
  },
  {
   "cell_type": "code",
   "execution_count": 37,
   "id": "7230929c-e015-455f-a4a1-485cecc17377",
   "metadata": {},
   "outputs": [
    {
     "name": "stdout",
     "output_type": "stream",
     "text": [
      "['a', 'b', 'c', 4, 5]\n"
     ]
    }
   ],
   "source": [
    "#Add Element to a List using List Unpacking\n",
    "my_list = ['a','b','c']\n",
    "new_elements = [4, 5]\n",
    "my_list += new_elements  \n",
    "print(my_list)"
   ]
  },
  {
   "cell_type": "code",
   "execution_count": 38,
   "id": "d22ab8bf-60a7-4d84-8a68-68fb122600dd",
   "metadata": {},
   "outputs": [
    {
     "name": "stdout",
     "output_type": "stream",
     "text": [
      "New list after inserting 'c' at index 2 is\n",
      "['a', 'b', 'c', 'd', 'e']\n"
     ]
    }
   ],
   "source": [
    "#Add Elements at specific index in a list\n",
    "\n",
    "my_list = ['a', 'b', 'd', 'e']\n",
    "new_elements ='c'\n",
    "index = 2\n",
    "my_list = [*my_list[:index], *new_elements, *my_list[index:]]\n",
    "print(\"New list after inserting 'c' at index 2 is\")\n",
    "print(my_list)"
   ]
  },
  {
   "cell_type": "code",
   "execution_count": 39,
   "id": "3e529ef3-a2db-4b9d-b418-2e6889471ca5",
   "metadata": {},
   "outputs": [
    {
     "name": "stdout",
     "output_type": "stream",
     "text": [
      "New list after inserting 3 at index 2 is\n",
      "[1, 2, 3, 4, 5]\n"
     ]
    }
   ],
   "source": [
    "#Add Element to a List Using Slicing and Concatenation\n",
    "my_list = [1, 2, 4, 5]\n",
    "new_element = 3\n",
    "index = 2\n",
    "my_list = my_list[:index] + [new_element] + my_list[index:]\n",
    "print(\"New list after inserting 3 at index 2 is\")\n",
    "print(my_list)"
   ]
  },
  {
   "cell_type": "code",
   "execution_count": 40,
   "id": "2578095d-581f-4664-864c-d8ae0b5284eb",
   "metadata": {},
   "outputs": [
    {
     "name": "stdout",
     "output_type": "stream",
     "text": [
      "New list after inserting 'd' at index 3 is\n",
      "['a', 'b', 'c', 'd', 'e']\n"
     ]
    }
   ],
   "source": [
    "#We can use the slice method to add the elements in the middle of the list\n",
    "my_list = ['a', 'b', 'c', 'e']\n",
    "new_element ='d'\n",
    "index = 3\n",
    "my_list[index:index] = new_element\n",
    "print(\"New list after inserting 'd' at index 3 is\")\n",
    "print(my_list)"
   ]
  },
  {
   "cell_type": "code",
   "execution_count": null,
   "id": "aacf3ec8-fe08-44b0-8611-ae952ce2a1ba",
   "metadata": {},
   "outputs": [],
   "source": []
  }
 ],
 "metadata": {
  "kernelspec": {
   "display_name": "Python 3 (ipykernel)",
   "language": "python",
   "name": "python3"
  },
  "language_info": {
   "codemirror_mode": {
    "name": "ipython",
    "version": 3
   },
   "file_extension": ".py",
   "mimetype": "text/x-python",
   "name": "python",
   "nbconvert_exporter": "python",
   "pygments_lexer": "ipython3",
   "version": "3.11.7"
  },
  "widgets": {
   "application/vnd.jupyter.widget-state+json": {
    "state": {},
    "version_major": 2,
    "version_minor": 0
   }
  }
 },
 "nbformat": 4,
 "nbformat_minor": 5
}

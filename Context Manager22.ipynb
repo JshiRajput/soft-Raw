{
 "cells": [
  {
   "cell_type": "code",
   "execution_count": 1,
   "id": "bc6a51d5-c090-4a85-b630-b5f23104129d",
   "metadata": {},
   "outputs": [
    {
     "name": "stdout",
     "output_type": "stream",
     "text": [
      "You are a teenager.\n"
     ]
    }
   ],
   "source": [
    "age = 16\n",
    "if age < 13:\n",
    "    print(\"You are a child.\")\n",
    "elif age < 18:\n",
    "    print(\"You are a teenager.\")\n",
    "else:\n",
    "    print(\"You are an adult.\")\n",
    "    "
   ]
  },
  {
   "cell_type": "code",
   "execution_count": 3,
   "id": "76e279a2-4730-45d4-8947-b20f3af92ca5",
   "metadata": {},
   "outputs": [
    {
     "name": "stdin",
     "output_type": "stream",
     "text": [
      "Enter the Number 9\n"
     ]
    },
    {
     "name": "stdout",
     "output_type": "stream",
     "text": [
      "The number is 10 or less.\n"
     ]
    }
   ],
   "source": [
    "#Nested If Statements:\n",
    "x = int(input(\"Enter the Number\"))\n",
    "if x > 10:\n",
    "    if x % 2 == 0:\n",
    "        print(\"The number is greater than 10 and even.\")\n",
    "    else:\n",
    "        print(\"The number is greater than 10 and odd.\")\n",
    "else:\n",
    "    print(\"The number is 10 or less.\")"
   ]
  },
  {
   "cell_type": "code",
   "execution_count": 4,
   "id": "cb69ded2-62f8-4e26-ba1b-90f3e2c381cd",
   "metadata": {},
   "outputs": [
    {
     "name": "stdout",
     "output_type": "stream",
     "text": [
      "apple\n",
      "banana\n",
      "cherry\n"
     ]
    }
   ],
   "source": [
    "fruits = [\"apple\", \"banana\", \"cherry\"]\n",
    "for fruit in fruits:\n",
    "    print(fruit)"
   ]
  },
  {
   "cell_type": "code",
   "execution_count": 5,
   "id": "29f408d6-1d52-4ff2-a106-4ff4a4c70faf",
   "metadata": {},
   "outputs": [
    {
     "name": "stdout",
     "output_type": "stream",
     "text": [
      "Hello, World!\n",
      "Hello, World!\n",
      "Hello, World!\n"
     ]
    }
   ],
   "source": [
    "for i in range(3):\n",
    "    print(\"Hello, World!\")"
   ]
  },
  {
   "cell_type": "code",
   "execution_count": 8,
   "id": "5f0b65ee-d071-4271-a441-b93805cea648",
   "metadata": {},
   "outputs": [
    {
     "name": "stdout",
     "output_type": "stream",
     "text": [
      "1\n",
      "2\n",
      "3\n"
     ]
    }
   ],
   "source": [
    "codecount = 1\n",
    "while codecount <= 3:\n",
    "    print(codecount)\n",
    "    codecount += 1\n"
   ]
  },
  {
   "cell_type": "code",
   "execution_count": 10,
   "id": "e7ce570c-f0e5-433b-bd42-a171a937817c",
   "metadata": {},
   "outputs": [
    {
     "name": "stdin",
     "output_type": "stream",
     "text": [
      "Enter the password:  1234\n"
     ]
    },
    {
     "name": "stdout",
     "output_type": "stream",
     "text": [
      "Access granted.\n"
     ]
    }
   ],
   "source": [
    "password = \"\"\n",
    "while password != \"1234\":\n",
    "    password = input(\"Enter the password: \")\n",
    "print(\"Access granted.\")"
   ]
  },
  {
   "cell_type": "code",
   "execution_count": 11,
   "id": "bd772b30-6199-4450-8656-964beaaff41a",
   "metadata": {},
   "outputs": [
    {
     "name": "stdout",
     "output_type": "stream",
     "text": [
      "0\n",
      "1\n",
      "2\n",
      "3\n",
      "4\n"
     ]
    }
   ],
   "source": [
    "#Explanation:\n",
    "for i in range(10):\n",
    "    if i == 5:\n",
    "        break\n",
    "    print(i)"
   ]
  },
  {
   "cell_type": "code",
   "execution_count": 13,
   "id": "9ffe2c3d-02f0-4803-a267-ff4ca9463dd5",
   "metadata": {},
   "outputs": [
    {
     "name": "stdin",
     "output_type": "stream",
     "text": [
      "Enter the Range  10\n"
     ]
    },
    {
     "name": "stdout",
     "output_type": "stream",
     "text": [
      "1\n",
      "3\n",
      "5\n",
      "7\n",
      "9\n"
     ]
    }
   ],
   "source": [
    "x = int(input(\"Enter the Range \"))\n",
    "for i in range(x):\n",
    "    if i % 2 == 0:\n",
    "        continue\n",
    "    print(i)"
   ]
  },
  {
   "cell_type": "code",
   "execution_count": 2,
   "id": "6e4be626-88e6-455b-b5c0-4e2eef855fe0",
   "metadata": {},
   "outputs": [
    {
     "name": "stdin",
     "output_type": "stream",
     "text": [
      "Enter the password 12345\n"
     ]
    },
    {
     "name": "stdout",
     "output_type": "stream",
     "text": [
      "Access granted\n"
     ]
    }
   ],
   "source": [
    "password = \"\"\n",
    "while password != \"12345\":\n",
    "    password = input(\"Enter the password\")\n",
    "\n",
    "print(\"Access granted\")"
   ]
  },
  {
   "cell_type": "code",
   "execution_count": 4,
   "id": "7fa0da9e-4b90-48b9-9bad-445727fe3fbb",
   "metadata": {},
   "outputs": [
    {
     "name": "stdout",
     "output_type": "stream",
     "text": [
      "0\n",
      "1\n",
      "2\n",
      "3\n",
      "4\n"
     ]
    }
   ],
   "source": [
    "for i in range(9):\n",
    "    if i == 5:\n",
    "        break\n",
    "    print(i)    "
   ]
  },
  {
   "cell_type": "code",
   "execution_count": 7,
   "id": "d7b29eed-2602-45d1-93be-7302a74eb18e",
   "metadata": {},
   "outputs": [
    {
     "name": "stdout",
     "output_type": "stream",
     "text": [
      "1\n",
      "3\n",
      "5\n",
      "7\n",
      "9\n"
     ]
    }
   ],
   "source": [
    "for i in range(1, 10):\n",
    "    if i % 2 == 0:\n",
    "        continue\n",
    "    print(i)\n"
   ]
  },
  {
   "cell_type": "code",
   "execution_count": 11,
   "id": "5aa416d2-4f26-4c2f-a8c4-d520b5d44903",
   "metadata": {},
   "outputs": [
    {
     "name": "stdin",
     "output_type": "stream",
     "text": [
      "Enter the range A number 1\n",
      "Enter the range  B number 6\n"
     ]
    },
    {
     "name": "stdout",
     "output_type": "stream",
     "text": [
      "[1, 4, 9, 16, 25]\n"
     ]
    }
   ],
   "source": [
    "a = int(input(\"Enter the range A number\"))\n",
    "b = int(input(\"Enter the range  B number\"))\n",
    "x = [a**2 for a in range(a, b)]\n",
    "print(x)"
   ]
  },
  {
   "cell_type": "code",
   "execution_count": 12,
   "id": "d2fe22b5-7571-4dc6-981f-fc8d9330b869",
   "metadata": {},
   "outputs": [
    {
     "name": "stdin",
     "output_type": "stream",
     "text": [
      "Enter the number 10\n"
     ]
    },
    {
     "name": "stdout",
     "output_type": "stream",
     "text": [
      "[0, 2, 4, 6, 8]\n"
     ]
    }
   ],
   "source": [
    "a = int(input(\"Enter the number\"))\n",
    "evens = [x for x in range(a) if x % 2 == 0]\n",
    "print(evens)"
   ]
  },
  {
   "cell_type": "code",
   "execution_count": 21,
   "id": "02d256d4-312c-4732-95db-f2a18d2bc204",
   "metadata": {},
   "outputs": [
    {
     "name": "stdin",
     "output_type": "stream",
     "text": [
      "Enter the range A number 1\n",
      "Enter the range  B number 9\n"
     ]
    },
    {
     "name": "stdout",
     "output_type": "stream",
     "text": [
      "{1: 1, 2: 4, 3: 9, 4: 16, 5: 25, 6: 36, 7: 49, 8: 64}\n"
     ]
    }
   ],
   "source": [
    "a = int(input(\"Enter the range A number\"))\n",
    "b = int(input(\"Enter the range  B number\"))\n",
    "x = {a: a**2 for a in range(a, b)}\n",
    "print(x)"
   ]
  },
  {
   "cell_type": "code",
   "execution_count": 22,
   "id": "12aa0e73-5784-4553-b4f9-ed7e8bc7e23c",
   "metadata": {},
   "outputs": [
    {
     "name": "stdin",
     "output_type": "stream",
     "text": [
      "Enter the word hfjrfhwejfkjd;qwldd\n"
     ]
    },
    {
     "name": "stdout",
     "output_type": "stream",
     "text": [
      "{'Python': 6, 'is': 2, 'awesome': 7}\n"
     ]
    }
   ],
   "source": [
    "a = str(input(\"Enter the word\"))\n",
    "word_lengths = {a: len(a) for a in [\"Python\", \"is\", \"awesome\"]}\n",
    "print(word_lengths)"
   ]
  },
  {
   "cell_type": "code",
   "execution_count": 23,
   "id": "47570106-9705-461c-8f09-f731535a53f5",
   "metadata": {},
   "outputs": [
    {
     "name": "stdout",
     "output_type": "stream",
     "text": [
      "Cannot divide by zero.\n"
     ]
    }
   ],
   "source": [
    "try:\n",
    "    result = 10 / 0\n",
    "except ZeroDivisionError:\n",
    "    print(\"Cannot divide by zero.\")"
   ]
  },
  {
   "cell_type": "code",
   "execution_count": 24,
   "id": "af1d422d-c8b5-430f-a538-7ce7e6a9d9bf",
   "metadata": {},
   "outputs": [
    {
     "name": "stdout",
     "output_type": "stream",
     "text": [
      "1\n",
      "a\n",
      "[1, 10, 3, 'a', 'b', 'c']\n",
      "[1, 10, 3, 'a', 'b', 'c', 'd']\n",
      "[1, 10, 'a', 'b', 'c', 'd']\n",
      "3\n",
      "1\n",
      "10\n",
      "a\n",
      "b\n",
      "c\n",
      "d\n",
      "[10, 'a', 'b']\n"
     ]
    }
   ],
   "source": [
    "# Creating a list\n",
    "my_list = [1, 2, 3, 'a', 'b', 'c']\n",
    "\n",
    "# Accessing elements\n",
    "print(my_list[0])  # Output: 1\n",
    "print(my_list[3])  # Output: 'a'\n",
    "\n",
    "# Modifying elements\n",
    "my_list[1] = 10\n",
    "print(my_list)  # Output: [1, 10, 3, 'a', 'b', 'c']\n",
    "\n",
    "# Adding elements\n",
    "my_list.append('d')\n",
    "print(my_list)  # Output: [1, 10, 3, 'a', 'b', 'c', 'd']\n",
    "\n",
    "# Removing elements\n",
    "removed_item = my_list.pop(2)\n",
    "print(my_list)      # Output: [1, 10, 'a', 'b', 'c', 'd']\n",
    "print(removed_item) # Output: 3\n",
    "\n",
    "# Iterating over a list\n",
    "for item in my_list:\n",
    "    print(item)\n",
    "\n",
    "# List slicing\n",
    "print(my_list[1:4])  \n"
   ]
  },
  {
   "cell_type": "code",
   "execution_count": 25,
   "id": "2a61ebf2-bdec-40d6-a8ed-1abdf2d6d3cc",
   "metadata": {},
   "outputs": [
    {
     "name": "stdout",
     "output_type": "stream",
     "text": [
      "Hello, World!\n",
      "  hello, world!  \n",
      "  HELLO, WORLD!  \n",
      "  Hi, World!  \n",
      "['  Hello', ' World!  ']\n"
     ]
    }
   ],
   "source": [
    "my_string = \"  Hello, World!  \"\n",
    "print(my_string.strip())  # Remove leading and trailing whitespace\n",
    "\n",
    "print(my_string.lower())  # Convert to lowercase\n",
    "\n",
    "print(my_string.upper())  # Convert to uppercase\n",
    "\n",
    "print(my_string.replace(\"Hello\", \"Hi\")) # Replace substring\n",
    "\n",
    "print(my_string.split(\",\"))  "
   ]
  },
  {
   "cell_type": "code",
   "execution_count": 26,
   "id": "ac9a7849-b283-4163-8d17-293533dfd90b",
   "metadata": {},
   "outputs": [
    {
     "name": "stdout",
     "output_type": "stream",
     "text": [
      "My name is Alice and I am 30 years old.\n"
     ]
    }
   ],
   "source": [
    "name = \"Alice\"\n",
    "age = 30\n",
    "formatted_string = f\"My name is {name} and I am {age} years old.\"\n",
    "print(formatted_string)"
   ]
  },
  {
   "cell_type": "code",
   "execution_count": 27,
   "id": "a2c5f610-db0f-45d0-9f01-4e577293f00b",
   "metadata": {},
   "outputs": [
    {
     "name": "stdout",
     "output_type": "stream",
     "text": [
      "こんにちは\n"
     ]
    }
   ],
   "source": [
    "unicode_string = \"こんにちは\"\n",
    "print(unicode_string)"
   ]
  },
  {
   "cell_type": "code",
   "execution_count": 28,
   "id": "0225daa7-ed72-4477-ae27-2c1b9ff6c490",
   "metadata": {},
   "outputs": [
    {
     "name": "stdout",
     "output_type": "stream",
     "text": [
      "Done!\n"
     ]
    }
   ],
   "source": [
    "from multiprocessing import Process\n",
    "import os\n",
    "\n",
    "def print_square(number):\n",
    "    print(f\"Square: {number * number}\")\n",
    "\n",
    "def print_cube(number):\n",
    "    print(f\"Cube: {number * number * number}\")\n",
    "\n",
    "if __name__ == \"__main__\":\n",
    "    # Create Process objects\n",
    "    p1 = Process(target=print_square, args=(10,))\n",
    "    p2 = Process(target=print_cube, args=(10,))\n",
    "\n",
    "    # Start the processes\n",
    "    p1.start()\n",
    "    p2.start()\n",
    "\n",
    "    # Wait for the processes to complete\n",
    "    p1.join()\n",
    "    p2.join()\n",
    "\n",
    "    print(\"Done!\")"
   ]
  },
  {
   "cell_type": "code",
   "execution_count": null,
   "id": "efe5e1f0-3760-4cfc-8aa1-53dffecd27b8",
   "metadata": {},
   "outputs": [],
   "source": [
    "from multiprocessing import Process, Pool, Lock\n",
    "import os\n",
    "\n",
    "def worker_function(arg1, arg2):\n",
    "    # Your code here\n",
    "    pass\n",
    "\n",
    "def pool_worker(arg):\n",
    "    # Your pool worker code here\n",
    "    return result\n",
    "\n",
    "def main():\n",
    "    # Using Process\n",
    "    process1 = Process(target=worker_function, args=(arg1, arg2))\n",
    "    process2 = Process(target=worker_function, args=(arg1, arg2))\n",
    "    \n",
    "    process1.start()\n",
    "    process2.start()\n",
    "    \n",
    "    process1.join()\n",
    "    process2.join()\n",
    "    \n",
    "    # Using Pool\n",
    "    with Pool(processes=4) as pool:\n",
    "        results = pool.map(pool_worker, iterable)\n",
    "\n",
    "    print(\"Main process done.\")\n",
    "\n",
    "if __name__ == \"__main__\":\n",
    "    main()"
   ]
  },
  {
   "cell_type": "code",
   "execution_count": null,
   "id": "0834b169-3683-4ff8-b969-81c098a100e7",
   "metadata": {},
   "outputs": [],
   "source": []
  }
 ],
 "metadata": {
  "kernelspec": {
   "display_name": "Python 3 (ipykernel)",
   "language": "python",
   "name": "python3"
  },
  "language_info": {
   "codemirror_mode": {
    "name": "ipython",
    "version": 3
   },
   "file_extension": ".py",
   "mimetype": "text/x-python",
   "name": "python",
   "nbconvert_exporter": "python",
   "pygments_lexer": "ipython3",
   "version": "3.11.7"
  },
  "widgets": {
   "application/vnd.jupyter.widget-state+json": {
    "state": {},
    "version_major": 2,
    "version_minor": 0
   }
  }
 },
 "nbformat": 4,
 "nbformat_minor": 5
}

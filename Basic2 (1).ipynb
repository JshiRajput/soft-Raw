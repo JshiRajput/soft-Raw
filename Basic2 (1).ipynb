{
 "cells": [
  {
   "cell_type": "code",
   "execution_count": 12,
   "id": "254da5b3-d2bd-4458-bda0-3d9856805563",
   "metadata": {},
   "outputs": [
    {
     "name": "stdout",
     "output_type": "stream",
     "text": [
      "Twinkle, twinkle, little star, \n",
      "\tHow I wonder what you are! \n",
      "\t\tUp above the world so high, \n",
      "\t\tLike a diamond in the sky.\n",
      "Twinkle, twinkle, little star, \n",
      "\tHow I wonder what you are!\n"
     ]
    }
   ],
   "source": [
    "print(\"Twinkle, twinkle, little star, \\n\\tHow I wonder what you are! \\n\\t\\tUp above the world so high, \\n\\t\\tLike a diamond in the sky.\\nTwinkle, twinkle, little star, \\n\\tHow I wonder what you are!\")"
   ]
  },
  {
   "cell_type": "code",
   "execution_count": 15,
   "id": "ce992a87-faa4-499a-9399-6dd249c49258",
   "metadata": {},
   "outputs": [
    {
     "name": "stdout",
     "output_type": "stream",
     "text": [
      "sys.version_info(major=3, minor=11, micro=7, releaselevel='final', serial=0)\n",
      "3.11.7 | packaged by Anaconda, Inc. | (main, Dec 15 2023, 18:05:47) [MSC v.1916 64 bit (AMD64)]\n"
     ]
    }
   ],
   "source": [
    "import sys\n",
    "print(sys.version_info)\n",
    "print(sys.version)\n",
    "\n"
   ]
  },
  {
   "cell_type": "code",
   "execution_count": 16,
   "id": "f1ae8b7b-a317-40df-9371-6f3e4f175c13",
   "metadata": {},
   "outputs": [
    {
     "name": "stdout",
     "output_type": "stream",
     "text": [
      "2024-06-25 11:27:20.163031\n"
     ]
    }
   ],
   "source": [
    "import datetime\n",
    "x = datetime.datetime.now()\n",
    "print(x)"
   ]
  },
  {
   "cell_type": "code",
   "execution_count": 19,
   "id": "51194eb6-66ea-4ab7-b80c-2e67f7b6d28a",
   "metadata": {},
   "outputs": [
    {
     "name": "stdin",
     "output_type": "stream",
     "text": [
      "enter the radius of circle 1.1\n"
     ]
    },
    {
     "name": "stdout",
     "output_type": "stream",
     "text": [
      "3.8013271108436504\n"
     ]
    }
   ],
   "source": [
    "import math\n",
    "r = float(input(\"enter the radius of circle\"))\n",
    "area = math.pi*r**2\n",
    "print(area)"
   ]
  },
  {
   "cell_type": "code",
   "execution_count": 29,
   "id": "d11dff99-de84-4a93-b634-fa6b5c414920",
   "metadata": {},
   "outputs": [
    {
     "name": "stdin",
     "output_type": "stream",
     "text": [
      "Enter The First Name: Jitendra \n",
      "Enter The Last Name: Singh\n"
     ]
    },
    {
     "name": "stdout",
     "output_type": "stream",
     "text": [
      "Jitendra  Singh\n"
     ]
    }
   ],
   "source": [
    "a = input(\"Enter The First Name:\")\n",
    "b =  input(\"Enter The Last Name:\")\n",
    "print(a + \" \" + b)"
   ]
  },
  {
   "cell_type": "code",
   "execution_count": 6,
   "id": "286c3be5-416e-4930-9fb0-cd40d3995572",
   "metadata": {},
   "outputs": [
    {
     "name": "stdin",
     "output_type": "stream",
     "text": [
      "enter the number 2 3 4 5\n"
     ]
    },
    {
     "name": "stdout",
     "output_type": "stream",
     "text": [
      "['2', ' ', '3', ' ', '4', ' ', '5']\n",
      "('2', ' ', '3', ' ', '4', ' ', '5')\n"
     ]
    }
   ],
   "source": [
    "a = input(\"enter the number\")\n",
    "print(list(a))\n",
    "print(tuple(a))"
   ]
  },
  {
   "cell_type": "code",
   "execution_count": 10,
   "id": "b956485c-faa7-4fc9-9324-667081406d20",
   "metadata": {},
   "outputs": [
    {
     "name": "stdin",
     "output_type": "stream",
     "text": [
      "enter the number re.re\n"
     ]
    },
    {
     "name": "stdout",
     "output_type": "stream",
     "text": [
      ":'re'\n"
     ]
    }
   ],
   "source": [
    "a = input(\"enter the number\")\n",
    "x = a.split(\".\")\n",
    "print(\":\"+ repr(x[-1]))"
   ]
  },
  {
   "cell_type": "code",
   "execution_count": 12,
   "id": "22778a21-5299-4b96-80e6-9aaed73f8886",
   "metadata": {},
   "outputs": [
    {
     "name": "stdout",
     "output_type": "stream",
     "text": [
      "Red Black\n"
     ]
    }
   ],
   "source": [
    "x = [\"Red\",\"Green\",\"White\" ,\"Black\"]\n",
    "print(x[0],x[3])"
   ]
  },
  {
   "cell_type": "code",
   "execution_count": 17,
   "id": "604bd40c-8bde-4499-94f1-9864c1d63e5f",
   "metadata": {},
   "outputs": [
    {
     "name": "stdout",
     "output_type": "stream",
     "text": [
      "Date : 11 / 12 / 2014\n"
     ]
    }
   ],
   "source": [
    "x = (11, 12, 2014)\n",
    "print(\"Date : %i / %i / %i\" % x)"
   ]
  },
  {
   "cell_type": "code",
   "execution_count": 1,
   "id": "0c2e1844-5a2f-499f-8e24-9ddafc3d5c38",
   "metadata": {},
   "outputs": [
    {
     "name": "stdin",
     "output_type": "stream",
     "text": [
      "Enter the n numbwe 5\n"
     ]
    },
    {
     "name": "stdout",
     "output_type": "stream",
     "text": [
      "615\n"
     ]
    }
   ],
   "source": [
    "a = int(input(\"Enter the n numbwe\"))\n",
    "x1 = int(\"%s\" % a)        \n",
    "x2 = int(\"%s%s\" % (a, a))   \n",
    "x3 = int(\"%s%s%s\" % (a, a, a)) \n",
    "print(x1 + x2 + x3)"
   ]
  },
  {
   "cell_type": "code",
   "execution_count": 2,
   "id": "f145ade7-ae3d-4b05-8d66-230219d14a0f",
   "metadata": {},
   "outputs": [
    {
     "name": "stdout",
     "output_type": "stream",
     "text": [
      "Return the absolute value of the argument.\n"
     ]
    }
   ],
   "source": [
    "print(abs.__doc__)\n"
   ]
  },
  {
   "cell_type": "code",
   "execution_count": 4,
   "id": "3df9a5ef-6751-4ff2-bfa7-85438d6dec6a",
   "metadata": {},
   "outputs": [
    {
     "name": "stdin",
     "output_type": "stream",
     "text": [
      "Enter The Year 2024\n",
      "Enter The Month  06\n"
     ]
    },
    {
     "name": "stdout",
     "output_type": "stream",
     "text": [
      "     June 2024\n",
      "Mo Tu We Th Fr Sa Su\n",
      "                1  2\n",
      " 3  4  5  6  7  8  9\n",
      "10 11 12 13 14 15 16\n",
      "17 18 19 20 21 22 23\n",
      "24 25 26 27 28 29 30\n",
      "\n"
     ]
    }
   ],
   "source": [
    "\n",
    "x = int(input(\"Enter The Year\"))\n",
    "y = int(input(\"Enter The Month \"))\n",
    "\n",
    "print(calendar.month(x, y))\n"
   ]
  },
  {
   "cell_type": "code",
   "execution_count": 5,
   "id": "ba56342a-442c-4f3c-ab49-2428be3a68fa",
   "metadata": {},
   "outputs": [
    {
     "name": "stdout",
     "output_type": "stream",
     "text": [
      "a string that you \"don't\" have to escape\n",
      "This\n",
      "is a  ....... multi-line\n",
      "heredoc string --------> example\n"
     ]
    }
   ],
   "source": [
    "print(\"\"\"a string that you \"don't\" have to escape\n",
    "This\n",
    "is a  ....... multi-line\n",
    "heredoc string --------> example\"\"\")"
   ]
  },
  {
   "cell_type": "code",
   "execution_count": 10,
   "id": "48ba713f-5729-4713-90bc-59a917c13e36",
   "metadata": {},
   "outputs": [
    {
     "name": "stdout",
     "output_type": "stream",
     "text": [
      "9\n"
     ]
    }
   ],
   "source": [
    "from datetime import date\n",
    "x = date(2014, 7, 2)\n",
    "y = date(2014, 7, 11)\n",
    "a = y - x\n",
    "print(a.days)"
   ]
  },
  {
   "cell_type": "code",
   "execution_count": 12,
   "id": "781b90d5-e391-4425-8c96-e12895458544",
   "metadata": {},
   "outputs": [
    {
     "name": "stdin",
     "output_type": "stream",
     "text": [
      "Enter The redius of the sphere 6\n"
     ]
    },
    {
     "name": "stdout",
     "output_type": "stream",
     "text": [
      "volume :  904.7786842338603\n"
     ]
    }
   ],
   "source": [
    "import math\n",
    "r = int(input(\"Enter The redius of the sphere\"))\n",
    "v = 4/3 * math.pi * r**3\n",
    "print(\"volume : \",v)"
   ]
  },
  {
   "cell_type": "code",
   "execution_count": 30,
   "id": "344870bf-803b-4a20-bf84-c5e30be9ccda",
   "metadata": {},
   "outputs": [
    {
     "name": "stdin",
     "output_type": "stream",
     "text": [
      "Enter The a Number 22\n"
     ]
    },
    {
     "name": "stdout",
     "output_type": "stream",
     "text": [
      "10\n"
     ]
    }
   ],
   "source": [
    "n = int(input(\"Enter The a Number\"))\n",
    "def ram(n):\n",
    "\n",
    "   if n <= 17: \n",
    "      return 17 - n\n",
    "   else:\n",
    "      return(n - 17)*2\n",
    "print(ram(n))    \n",
    "    "
   ]
  },
  {
   "cell_type": "code",
   "execution_count": null,
   "id": "cf1fa39d-2dfe-4b92-98de-0b6c9e6e637e",
   "metadata": {},
   "outputs": [],
   "source": [
    "17\n"
   ]
  },
  {
   "cell_type": "code",
   "execution_count": null,
   "id": "19697a98-907e-40bd-afc8-cc43acda893c",
   "metadata": {},
   "outputs": [],
   "source": [
    "a = int(input(\"Enter The a Number\"))\n",
    "b = int(input(\"Enter The b Number\"))\n",
    "c = int(input(\"Enter The c Number\"))\n",
    "\n",
    "sum = a + b + c  "
   ]
  }
 ],
 "metadata": {
  "kernelspec": {
   "display_name": "Python 3 (ipykernel)",
   "language": "python",
   "name": "python3"
  },
  "language_info": {
   "codemirror_mode": {
    "name": "ipython",
    "version": 3
   },
   "file_extension": ".py",
   "mimetype": "text/x-python",
   "name": "python",
   "nbconvert_exporter": "python",
   "pygments_lexer": "ipython3",
   "version": "3.11.7"
  },
  "widgets": {
   "application/vnd.jupyter.widget-state+json": {
    "state": {},
    "version_major": 2,
    "version_minor": 0
   }
  }
 },
 "nbformat": 4,
 "nbformat_minor": 5
}

{
 "cells": [
  {
   "cell_type": "code",
   "execution_count": 3,
   "id": "a5f77dc8-0af6-44e8-80cd-6c80c668979c",
   "metadata": {},
   "outputs": [
    {
     "name": "stdout",
     "output_type": "stream",
     "text": [
      "Variable as string = 15\n",
      "Variable as raw data = '15'\n"
     ]
    }
   ],
   "source": [
    "# Python program to demonstrate the use of formatting using % \n",
    "  \n",
    "# Initialize variable as a string \n",
    "variable = '15'\n",
    "string = \"Variable as string = %s\" %(variable) \n",
    "print (string ) \n",
    "print (\"Variable as raw data = %r\" %(variable))   "
   ]
  },
  {
   "cell_type": "code",
   "execution_count": 2,
   "id": "56c05c2b-93e9-4944-967c-5636fd2b0ba3",
   "metadata": {},
   "outputs": [
    {
     "name": "stdout",
     "output_type": "stream",
     "text": [
      "Variable as integer = 15\n",
      "Variable as float = 15.000000\n"
     ]
    }
   ],
   "source": [
    "# Convert the variable to integer \n",
    "# And perform check other formatting options \n",
    "  \n",
    "variable = int(variable) # Without this the below statement \n",
    "                       \n",
    "string = \"Variable as integer = %d\" %(variable) \n",
    "print (string) \n",
    "print (\"Variable as float = %f\" %(variable)) \n",
    "  "
   ]
  },
  {
   "cell_type": "code",
   "execution_count": 6,
   "id": "70650fea-79b2-47b4-bea8-074717d0b12b",
   "metadata": {},
   "outputs": [
    {
     "name": "stdout",
     "output_type": "stream",
     "text": [
      "Variable as printing with special char = \u000f\n",
      "Variable as hexadecimal = f\n",
      "Variable as octal = 17\n"
     ]
    }
   ],
   "source": [
    "# printing as any string or char after a mark \n",
    "# here i use mayank as a string\n",
    "variable = 15\n",
    "print (\"Variable as printing with special char = %c\" %(variable)) \n",
    "  \n",
    "print (\"Variable as hexadecimal = %x\" %(variable)) \n",
    "print (\"Variable as octal = %o\" %(variable))"
   ]
  },
  {
   "cell_type": "code",
   "execution_count": 7,
   "id": "209d88ff-5ac0-4b79-9905-1b2f3140f9e1",
   "metadata": {},
   "outputs": [
    {
     "name": "stdout",
     "output_type": "stream",
     "text": [
      "Creating string with single quotes : Hello Geek\n",
      "Creating String with double quotes : yes, I am Geek\n",
      "Creating String with triple quotes : yes, I am Geek\n"
     ]
    }
   ],
   "source": [
    "# creating string \n",
    "# with single Quotes \n",
    "String = 'Hello Geek'\n",
    "print(\"Creating string with single quotes :\", String) \n",
    "  \n",
    "# Creating String \n",
    "# with double Quotes \n",
    "String = \"yes, I am Geek\"\n",
    "print(\"Creating String with double quotes :\", String) \n",
    "  \n",
    "# Creating String \n",
    "# with triple Quotes \n",
    "String = '''yes, I am Geek'''\n",
    "print(\"Creating String with triple quotes :\", String)"
   ]
  },
  {
   "cell_type": "code",
   "execution_count": 8,
   "id": "f67d82d8-fcfd-4df1-b919-94a14b55933d",
   "metadata": {},
   "outputs": [
    {
     "name": "stdout",
     "output_type": "stream",
     "text": [
      "'Jai shree Ram'\n",
      "Hello 'Python'\n",
      "\"jai shree Ram\"\n",
      "Hello \"Python\"\n"
     ]
    }
   ],
   "source": [
    "# this code prints the output within quotes.  \n",
    "# print WithQuotes within single quotes  \n",
    "print(\"'Jai shree Ram'\")  \n",
    "print(\"Hello 'Python'\")  \n",
    "    \n",
    "# print WithQuotes within single quotes  \n",
    "print('\"jai shree Ram\"')  \n",
    "print('Hello \"Python\"')"
   ]
  },
  {
   "cell_type": "code",
   "execution_count": 9,
   "id": "17f71f17-9d86-49ed-9dcf-5ca5380b4df0",
   "metadata": {},
   "outputs": [
    {
     "name": "stdout",
     "output_type": "stream",
     "text": [
      "The 1st element is :  G\n",
      "The 2nd element is :  E\n",
      "The 3rd element is :  E\n",
      "The 4th element is :  K\n"
     ]
    }
   ],
   "source": [
    "# creating a string \n",
    "String = \"GEEK\"\n",
    "  \n",
    "# Show first element in string \n",
    "print(\"The 1st element is : \", String[0]) \n",
    "  \n",
    "# Show 2nd element in string \n",
    "print(\"The 2nd element is : \", String[1]) \n",
    "  \n",
    "print(\"The 3rd element is : \", String[2]) \n",
    "print(\"The 4th element is : \", String[3]) "
   ]
  },
  {
   "cell_type": "code",
   "execution_count": 10,
   "id": "864661b1-a78c-40c9-b158-7b9429f14450",
   "metadata": {},
   "outputs": [
    {
     "ename": "TypeError",
     "evalue": "'str' object does not support item assignment",
     "output_type": "error",
     "traceback": [
      "\u001b[1;31m---------------------------------------------------------------------------\u001b[0m",
      "\u001b[1;31mTypeError\u001b[0m                                 Traceback (most recent call last)",
      "Cell \u001b[1;32mIn[10], line 5\u001b[0m\n\u001b[0;32m      2\u001b[0m x  \u001b[38;5;241m=\u001b[39m \u001b[38;5;124m\"\u001b[39m\u001b[38;5;124mGeeks\u001b[39m\u001b[38;5;124m\"\u001b[39m\n\u001b[0;32m      4\u001b[0m \u001b[38;5;66;03m# assign new character \u001b[39;00m\n\u001b[1;32m----> 5\u001b[0m x[\u001b[38;5;241m0\u001b[39m] \u001b[38;5;241m=\u001b[39m \u001b[38;5;124m\"\u001b[39m\u001b[38;5;124mHi!, Geeks\u001b[39m\u001b[38;5;124m\"\u001b[39m\n",
      "\u001b[1;31mTypeError\u001b[0m: 'str' object does not support item assignment"
     ]
    }
   ],
   "source": [
    "#update String\n",
    "x  = \"Geeks\"\n",
    "  \n",
    "# assign new character \n",
    "x[0] = \"Hi!, Geeks\""
   ]
  },
  {
   "cell_type": "code",
   "execution_count": 12,
   "id": "b0854f76-43d2-4aff-9a9c-0bdcdb719fe8",
   "metadata": {},
   "outputs": [
    {
     "name": "stdout",
     "output_type": "stream",
     "text": [
      "Before updating :  Hello Geeks\n",
      "After updating :  Geeksforgeeks\n",
      "Updated String :-  Hello Python\n"
     ]
    }
   ],
   "source": [
    "# Creating string \n",
    "String = \"Hello Geeks\"\n",
    "print(\"Before updating : \", String) \n",
    "  \n",
    "# updating entire string \n",
    "String = \"Geeksforgeeks\"\n",
    "print(\"After updating : \", String) \n",
    "  \n",
    "# Update with indexing \n",
    "String = 'Hello World!'\n",
    "print(\"Updated String :- \", String[:6] + 'Python') "
   ]
  },
  {
   "cell_type": "code",
   "execution_count": null,
   "id": "786e5145-7c3e-46a0-9a22-6eb50bf3767e",
   "metadata": {},
   "outputs": [],
   "source": [
    "List"
   ]
  },
  {
   "cell_type": "code",
   "execution_count": 1,
   "id": "61479f68-8f0e-497f-95bd-854ddbd3307b",
   "metadata": {},
   "outputs": [
    {
     "name": "stdout",
     "output_type": "stream",
     "text": [
      "['Geeks', 'for', 'Geeks']\n"
     ]
    }
   ],
   "source": [
    "x = [\"Geeks\", \"for\", \"Geeks\"]\n",
    "print(x)"
   ]
  },
  {
   "cell_type": "code",
   "execution_count": 2,
   "id": "c116126a-87cb-41fa-87df-9702a8375ffe",
   "metadata": {},
   "outputs": [
    {
     "name": "stdout",
     "output_type": "stream",
     "text": [
      "\n",
      "List Items: \n",
      "Geeks\n",
      "Geeks\n"
     ]
    }
   ],
   "source": [
    "# using index\n",
    "List = [\"Geeks\", \"For\", \"Geeks\"]\n",
    "print(\"\\nList Items: \")\n",
    "print(List[0])\n",
    "print(List[2])"
   ]
  },
  {
   "cell_type": "code",
   "execution_count": 3,
   "id": "3bfb4b9b-d48d-4028-8b3f-1de806d301d0",
   "metadata": {},
   "outputs": [
    {
     "name": "stdout",
     "output_type": "stream",
     "text": [
      "[1, 2, 3, 4, 5, 6, 7, 8, 4]\n",
      "[3, 5, 'Ram', 4, ' jitu']\n"
     ]
    }
   ],
   "source": [
    "x = [1, 2, 3, 4, 5, 6, 7, 8, 4]\n",
    "print(x)\n",
    "y = [ 3, 5, \"Ram\", 4, \" jitu\"]\n",
    "print(y)"
   ]
  },
  {
   "cell_type": "code",
   "execution_count": 6,
   "id": "b411effa-4d28-4423-ba73-164d2914b5d3",
   "metadata": {},
   "outputs": [
    {
     "name": "stdout",
     "output_type": "stream",
     "text": [
      "jitu\n",
      "kavar\n"
     ]
    }
   ],
   "source": [
    "x = [\"ram\", \"jitu\", \"kavar\"]\n",
    "print(x[1])\n",
    "print(x[2])"
   ]
  },
  {
   "cell_type": "code",
   "execution_count": 19,
   "id": "ca99ec3d-a401-4a69-8c4c-980178f2dce6",
   "metadata": {},
   "outputs": [
    {
     "name": "stdout",
     "output_type": "stream",
     "text": [
      "Accessing a element from a Multi-Dimensional list\n",
      "r\n",
      "e\n"
     ]
    }
   ],
   "source": [
    "# Creating a Multi-Dimensional List\n",
    "# (By Nesting a list inside a List)\n",
    "x = [['Geeks', 'For', 'jitu'], ['Geeks', 'Ram']]\n",
    "\n",
    "# accessing an element from the\n",
    "# Multi-Dimensional List using\n",
    "# index number\n",
    "print(\"Accessing a element from a Multi-Dimensional list\")\n",
    "print(List[1][2])\n",
    "print(List[2][2])"
   ]
  },
  {
   "cell_type": "code",
   "execution_count": 21,
   "id": "53f14dd9-64eb-4246-a8c4-396eeb3edad3",
   "metadata": {},
   "outputs": [
    {
     "name": "stdout",
     "output_type": "stream",
     "text": [
      "6\n",
      "5\n"
     ]
    }
   ],
   "source": [
    "x = [2, 3, 4, 5, 6, 7, 4]\n",
    "print(x[-3])\n",
    "print(x[-4])"
   ]
  },
  {
   "cell_type": "code",
   "execution_count": 22,
   "id": "649b0088-7240-49da-b200-3b2431121e8d",
   "metadata": {},
   "outputs": [
    {
     "name": "stdout",
     "output_type": "stream",
     "text": [
      "7\n"
     ]
    }
   ],
   "source": [
    "x = [2, 3, 4, 5, 6, 7, 4]\n",
    "print(len(x))"
   ]
  },
  {
   "cell_type": "code",
   "execution_count": 24,
   "id": "b7907bd9-77de-4569-b1fd-2ac0fe506af3",
   "metadata": {},
   "outputs": [
    {
     "name": "stdin",
     "output_type": "stream",
     "text": [
      "['Enter', 'elements', '(Space-Separated):'] rurj ram jitu kavar\n"
     ]
    },
    {
     "name": "stdout",
     "output_type": "stream",
     "text": [
      "rurj ram jitu kavar <class 'list'>\n"
     ]
    }
   ],
   "source": [
    "x = input(\"Enter elements (Space-Separated): \".split())\n",
    "print(x, list)"
   ]
  },
  {
   "cell_type": "code",
   "execution_count": 25,
   "id": "63f3505b-18ed-4732-9d83-2d627211cf12",
   "metadata": {},
   "outputs": [
    {
     "name": "stdout",
     "output_type": "stream",
     "text": [
      "\n",
      "List after Addition of Three elements: \n",
      "['Geeks', 'For', 'Geeks', 1, 2, 4]\n",
      "\n",
      "List after Addition of elements from 1-3: \n",
      "['Geeks', 'For', 'Geeks', 1, 2, 4, 1, 2, 3]\n",
      "\n",
      "List after Addition of a Tuple: \n",
      "['Geeks', 'For', 'Geeks', 1, 2, 4, 1, 2, 3, (5, 6)]\n"
     ]
    }
   ],
   "source": [
    "List.append(1)\n",
    "List.append(2)\n",
    "List.append(4)\n",
    "print(\"\\nList after Addition of Three elements: \")\n",
    "print(List)\n",
    "\n",
    "# Adding elements to the List\n",
    "# using Iterator\n",
    "for i in range(1, 4):\n",
    "    List.append(i)\n",
    "print(\"\\nList after Addition of elements from 1-3: \")\n",
    "print(List)\n",
    "\n",
    "# Adding Tuples to the List\n",
    "List.append((5, 6))\n",
    "print(\"\\nList after Addition of a Tuple: \")\n",
    "print(List)\n"
   ]
  },
  {
   "cell_type": "code",
   "execution_count": 26,
   "id": "6308e43d-9495-4c97-88f3-0f0fc0885b0a",
   "metadata": {},
   "outputs": [
    {
     "name": "stdout",
     "output_type": "stream",
     "text": [
      "Initial List: \n",
      "[1, 2, 3, 4]\n",
      "\n",
      "List after performing Insert Operation: \n",
      "['Geeks', 1, 2, 3, 12, 4]\n"
     ]
    }
   ],
   "source": [
    "List = [1,2,3,4]\n",
    "print(\"Initial List: \")\n",
    "print(List)\n",
    "\n",
    "# Addition of Element at \n",
    "# specific Position\n",
    "# (using Insert Method)\n",
    "List.insert(3, 12)\n",
    "List.insert(0, 'Geeks')\n",
    "print(\"\\nList after performing Insert Operation: \")\n",
    "print(List)"
   ]
  },
  {
   "cell_type": "code",
   "execution_count": 28,
   "id": "f8270bb1-26c0-4b3b-ad01-f8d8ad6b613d",
   "metadata": {},
   "outputs": [
    {
     "name": "stdout",
     "output_type": "stream",
     "text": [
      "['Python', 'Geek', 5, 4, 3, 2, 1]\n"
     ]
    }
   ],
   "source": [
    "# Reversing a list\n",
    "x = [1, 2, 3, 4, 5, 'Geek', 'Python']\n",
    "x.reverse()\n",
    "print(x)"
   ]
  },
  {
   "cell_type": "code",
   "execution_count": 29,
   "id": "eae217fb-f877-41ce-891b-6080d7b77fc6",
   "metadata": {},
   "outputs": [
    {
     "name": "stdout",
     "output_type": "stream",
     "text": [
      "[5, 4, 3, 2, 1]\n"
     ]
    }
   ],
   "source": [
    "my_list = [1, 2, 3, 4, 5]\n",
    "reversed_list = list(reversed(my_list))\n",
    "print(reversed_list)"
   ]
  },
  {
   "cell_type": "code",
   "execution_count": 34,
   "id": "e7c0dda2-c435-4443-bc3b-8f3563f71a94",
   "metadata": {},
   "outputs": [
    {
     "name": "stdout",
     "output_type": "stream",
     "text": [
      "None\n",
      "[1, 2, 3, 4, 5, 7, 8, 9, 10, 11, 12]\n"
     ]
    }
   ],
   "source": [
    "x = [1, 2, 3, 4, 5, 6, 7, 8, 9, 10, 11, 12]\n",
    "x.remove(6)\n",
    "print(x)"
   ]
  },
  {
   "cell_type": "code",
   "execution_count": 35,
   "id": "edc227f2-baef-46ef-9bef-185b9c11b657",
   "metadata": {},
   "outputs": [
    {
     "name": "stdout",
     "output_type": "stream",
     "text": [
      "[5, 6, 7, 8, 9, 10, 11, 12]\n"
     ]
    }
   ],
   "source": [
    "x = [1, 2, 3, 4, 5, 6, 7, 8, 9, 10, 11, 12]\n",
    "for i in range(1, 5):   # Removing elements from List\n",
    "  x.remove(i)                       # using iterator method\n",
    "print(x)"
   ]
  },
  {
   "cell_type": "code",
   "execution_count": 37,
   "id": "9838a3b8-6364-4735-9a06-82759f8548dc",
   "metadata": {},
   "outputs": [
    {
     "name": "stdout",
     "output_type": "stream",
     "text": [
      "[1, 2, 3, 4, 6, 7, 8, 9, 10, 11, 12]\n"
     ]
    }
   ],
   "source": [
    "x = [1, 2, 3, 4, 5, 6, 7, 8, 9, 10, 11, 12]\n",
    "x.pop(4)\n",
    "print(x)"
   ]
  },
  {
   "cell_type": "code",
   "execution_count": 41,
   "id": "ff7d330c-5a3c-4978-9996-31b0a576c58d",
   "metadata": {},
   "outputs": [
    {
     "name": "stdout",
     "output_type": "stream",
     "text": [
      "['K', 'S', 'F', 'O', 'R']\n",
      "['F', 'O', 'R', 'G', 'E', 'E', 'K', 'S']\n",
      "['G', 'E', 'E', 'K', 'S', 'F', 'O', 'R', 'G', 'E', 'E', 'K', 'S']\n"
     ]
    }
   ],
   "source": [
    "x = ['G', 'E', 'E', 'K', 'S', 'F', 'O', 'R', 'G', 'E', 'E', 'K', 'S']\n",
    "print(x[3:8])\n",
    "print(x[5:])\n",
    "print(x[:])"
   ]
  },
  {
   "cell_type": "code",
   "execution_count": 43,
   "id": "2efa15db-1050-44e0-a29f-45f2a3f71856",
   "metadata": {},
   "outputs": [
    {
     "name": "stdout",
     "output_type": "stream",
     "text": [
      "['G', 'E', 'E', 'K', 'S']\n",
      "['G', 'E', 'E', 'K', 'S', 'F', 'O', 'R', 'G', 'E', 'E', 'K']\n"
     ]
    }
   ],
   "source": [
    "x = ['G', 'E', 'E', 'K', 'S', 'F', 'O', 'R', 'G', 'E', 'E', 'K', 'S']\n",
    "print(x[:-8])\n",
    "print(x[:-1])"
   ]
  },
  {
   "cell_type": "code",
   "execution_count": null,
   "id": "ea441d32-c389-4863-8bf9-1442e78fe06a",
   "metadata": {},
   "outputs": [],
   "source": []
  }
 ],
 "metadata": {
  "kernelspec": {
   "display_name": "Python 3 (ipykernel)",
   "language": "python",
   "name": "python3"
  },
  "language_info": {
   "codemirror_mode": {
    "name": "ipython",
    "version": 3
   },
   "file_extension": ".py",
   "mimetype": "text/x-python",
   "name": "python",
   "nbconvert_exporter": "python",
   "pygments_lexer": "ipython3",
   "version": "3.11.7"
  },
  "widgets": {
   "application/vnd.jupyter.widget-state+json": {
    "state": {},
    "version_major": 2,
    "version_minor": 0
   }
  }
 },
 "nbformat": 4,
 "nbformat_minor": 5
}

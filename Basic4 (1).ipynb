{
 "cells": [
  {
   "cell_type": "code",
   "execution_count": 3,
   "id": "9c7b1845-4e8c-4795-b7c8-07faa80a88ae",
   "metadata": {},
   "outputs": [
    {
     "name": "stdout",
     "output_type": "stream",
     "text": [
      "Input the heights of eight buildings:\n"
     ]
    },
    {
     "name": "stdin",
     "output_type": "stream",
     "text": [
      " 12\n",
      " 23\n",
      " 43\n",
      " 56\n",
      " 76\n",
      " 87\n",
      " 98\n",
      " 55\n"
     ]
    },
    {
     "name": "stdout",
     "output_type": "stream",
     "text": [
      "Heights of the top three buildings:\n",
      "98\n",
      "87\n",
      "76\n"
     ]
    }
   ],
   "source": [
    "print(\"Input the heights of eight buildings:\")\n",
    "l = [int(input()) for i in range(8)]\n",
    "print(\"Heights of the top three buildings:\")\n",
    "l = sorted(l)\n",
    "print(*l[:4:-1],sep='\\n')"
   ]
  },
  {
   "cell_type": "code",
   "execution_count": 20,
   "id": "a21d7efa-d55b-412e-85d9-4d7fcfc2f779",
   "metadata": {},
   "outputs": [
    {
     "name": "stdin",
     "output_type": "stream",
     "text": [
      "Enter The two  a, b Number 112 99\n"
     ]
    },
    {
     "name": "stdout",
     "output_type": "stream",
     "text": [
      "3\n"
     ]
    }
   ],
   "source": [
    "a, b = map(int, input(\"Enter The two  a, b Number\").split(\" \"))\n",
    "print(len(str(a + b)))"
   ]
  },
  {
   "cell_type": "code",
   "execution_count": 23,
   "id": "b139957e-dd58-4327-9147-8f1ff1caf05d",
   "metadata": {},
   "outputs": [
    {
     "name": "stdin",
     "output_type": "stream",
     "text": [
      "Enter The Three integer Number 3 4 5\n"
     ]
    },
    {
     "name": "stdout",
     "output_type": "stream",
     "text": [
      "Yes\n"
     ]
    }
   ],
   "source": [
    "int_num = list(map(int, input(\"Enter The Three integer Number\").split()))\n",
    "x, y, z = sorted(int_num)\n",
    "if x**2 + y**2 == z**2:\n",
    "    print('Yes')  \n",
    "else:\n",
    "    print('No')"
   ]
  },
  {
   "cell_type": "code",
   "execution_count": 25,
   "id": "4ce7a7a5-2386-44fe-af6c-bff8b8dbe70c",
   "metadata": {},
   "outputs": [
    {
     "name": "stdin",
     "output_type": "stream",
     "text": [
      "Enter the a, b, c, d, e, f Number : 5, 8, 6, 7, 9, 4\n"
     ]
    },
    {
     "name": "stdout",
     "output_type": "stream",
     "text": [
      "Values of x and y:\n",
      "-2.000 2.000\n"
     ]
    }
   ],
   "source": [
    "a, b, c, d, e, f = map(float, input(\"Enter the a, b, c, d, e, f Number :\").split(','))\n",
    "n = a * e - b * d\n",
    "print(\"Values of x and y:\")\n",
    "if n != 0:\n",
    "    x = (c * e - b * f) / n\n",
    "    y = (a * f - c * d) / n\n",
    "    print('{:.3f} {:.3f}'.format(x + 0, y + 0))"
   ]
  },
  {
   "cell_type": "code",
   "execution_count": 37,
   "id": "1aa8fe62-3c4c-4ca4-b3b0-0839a7aad883",
   "metadata": {},
   "outputs": [
    {
     "name": "stdin",
     "output_type": "stream",
     "text": [
      "Enter the number of months: 2\n"
     ]
    },
    {
     "name": "stdout",
     "output_type": "stream",
     "text": [
      "Amount of debt:  $111000\n"
     ]
    }
   ],
   "source": [
    "n = int(input(\"Enter the number of months:\"))\n",
    "def round_n(n):\n",
    "    if n % 1000:\n",
    "        return (1 + n // 1000) * 1000\n",
    "    else:\n",
    "        return n\n",
    "def compute_debt(n):\n",
    "    if n == 0:\n",
    "        return 100000\n",
    "    return int(round_n(compute_debt(n - 1) * 1.05))\n",
    "result = compute_debt(n)\n",
    "print(\"Amount of debt: \", \"$\" + str(result).strip())"
   ]
  },
  {
   "cell_type": "code",
   "execution_count": 39,
   "id": "7a1db9a9-d1f4-4991-a260-9c512ced6228",
   "metadata": {},
   "outputs": [
    {
     "name": "stdin",
     "output_type": "stream",
     "text": [
      "Enter the number of months: 2\n"
     ]
    },
    {
     "name": "stdout",
     "output_type": "stream",
     "text": [
      "Number of combinations: 10\n"
     ]
    }
   ],
   "source": [
    "n = int(input(\"Enter the number of months:\"))\n",
    "result = 0\n",
    "for (i, j, k) in itertools.product(range(10), range(10), range(10)):\n",
    "    result += (0 <= n - (i + j + k) <= 9)\n",
    "print(\"Number of combinations:\", result)"
   ]
  },
  {
   "cell_type": "code",
   "execution_count": 43,
   "id": "58b8c146-12ac-4ec8-a39d-4a327979ed0e",
   "metadata": {},
   "outputs": [
    {
     "name": "stdout",
     "output_type": "stream",
     "text": [
      "Input the number(n):\n"
     ]
    },
    {
     "name": "stdin",
     "output_type": "stream",
     "text": [
      " 5\n"
     ]
    },
    {
     "name": "stdout",
     "output_type": "stream",
     "text": [
      "Number of prime numbers which are less than or equal to n.: 3\n"
     ]
    }
   ],
   "source": [
    "primes = [1] * 500000\n",
    "primes[0] = 0 \n",
    "for i in range(3, 1000, 2):\n",
    "    if primes[i // 2]:\n",
    "        primes[(i * i) // 2::i] = [0] * len(primes[(i * i) // 2::i])\n",
    "print(\"Input the number(n):\")\n",
    "n = int(input())\n",
    "if n < 4:\n",
    "    print(\"Number of prime numbers which are less than or equal to n.:\", n - 1)\n",
    "else:\n",
    "    print(\"Number of prime numbers which are less than or equal to n.:\", sum(primes[:(n + 1) // 2]) + 1)"
   ]
  },
  {
   "cell_type": "code",
   "execution_count": 46,
   "id": "82e65317-8e06-4668-8e08-c608c3ffcc17",
   "metadata": {},
   "outputs": [
    {
     "name": "stdin",
     "output_type": "stream",
     "text": [
      "Input three coordinates of the circle: 9, 3, 6, 8, 3, 6\n"
     ]
    },
    {
     "name": "stdout",
     "output_type": "stream",
     "text": [
      "Radius of the said circle:\n",
      "3.358\n",
      "Central coordinate (x, y) of the circle:\n",
      "6.071 4.643\n"
     ]
    }
   ],
   "source": [
    "x1, y1, x2, y2, x3, y3 = map(float, input(\"Input three coordinates of the circle:\").split(','))\n",
    "c = (x1 - x2)**2 + (y1 - y2)**2\n",
    "a = (x2 - x3)**2 + (y2 - y3)**2\n",
    "b = (x3 - x1)**2 + (y3 - y1)**2\n",
    "s = 2 * (a * b + b * c + c * a) - (a**2 + b**2 + c**2)\n",
    "px = (a * (b + c - a) * x1 + b * (c + a - b) * x2 + c * (a + b - c) * x3) / s\n",
    "py = (a * (b + c - a) * y1 + b * (c + a - b) * y2 + c * (a + b - c) * y3) / s\n",
    "ar = a**0.5\n",
    "br = b**0.5\n",
    "cr = c**0.5\n",
    "r = ar * br * cr / ((ar + br + cr) * (-ar + br + cr) * (ar - br + cr) * (ar + br - cr))**0.5\n",
    "print(\"Radius of the said circle:\")\n",
    "print(\"{:>.3f}\".format(r))\n",
    "print(\"Central coordinate (x, y) of the circle:\")\n",
    "print(\"{:>.3f}\".format(px), \"{:>.3f}\".format(py))"
   ]
  },
  {
   "cell_type": "code",
   "execution_count": 52,
   "id": "ddfdc68d-7e74-4f05-b7dd-75b157e0bfae",
   "metadata": {},
   "outputs": [
    {
     "name": "stdin",
     "output_type": "stream",
     "text": [
      "Enter the x1, y1, x2, y2, x3, y3, xp, yp Number: 2, 3, 4, 5, 6, 7, 8, 5\n"
     ]
    },
    {
     "name": "stdout",
     "output_type": "stream",
     "text": [
      "The point is outside the triangle.\n"
     ]
    }
   ],
   "source": [
    "x1, y1, x2, y2, x3, y3, xp, yp = map(float, input(\"Enter the x1, y1, x2, y2, x3, y3, xp, yp Number:\" ).split(','))\n",
    "c1 = (x2 - x1) * (yp - y1) - (y2 - y1) * (xp - x1)\n",
    "c2 = (x3 - x2) * (yp - y2) - (y3 - y2) * (xp - x2)\n",
    "c3 = (x1 - x3) * (yp - y3) - (y1 - y3) * (xp - x3)\n",
    "if (c1 < 0 and c2 < 0 and c3 < 0) or (c1 > 0 and c2 > 0 and c3 > 0):\n",
    "    print(\"The point is in the triangle.\")\n",
    "else:\n",
    "    print(\"The point is outside the triangle.\")"
   ]
  },
  {
   "cell_type": "code",
   "execution_count": 57,
   "id": "0f11bdb4-6373-4c77-b8d2-46fc25f8d753",
   "metadata": {},
   "outputs": [
    {
     "name": "stdin",
     "output_type": "stream",
     "text": [
      "Enter the x Number 233\n",
      "Enter the y Number 23\n"
     ]
    },
    {
     "name": "stdout",
     "output_type": "stream",
     "text": [
      "Sum of the two integers:  256\n"
     ]
    }
   ],
   "source": [
    "x = int(input(\"Enter the x Number\"))\n",
    "y = int(input(\"Enter the y Number\"))\n",
    "if x >= 10 ** 80 or y >= 10 ** 80 or x + y >= 10 ** 80:\n",
    "    print(\"Overflow!\")  \n",
    "else:\n",
    "    print(\"Sum of the two integers: \", x + y)  "
   ]
  },
  {
   "cell_type": "code",
   "execution_count": 60,
   "id": "e46a21b3-215b-46be-88d5-043ffa4e7d34",
   "metadata": {},
   "outputs": [
    {
     "name": "stdin",
     "output_type": "stream",
     "text": [
      "Enter the six integers Number : 23, 43, 54, 65, 67, 445, 76, 44\n"
     ]
    },
    {
     "name": "stdout",
     "output_type": "stream",
     "text": [
      "After sorting the said integers:\n",
      "445 76 67 65 54 44 43 23\n"
     ]
    }
   ],
   "source": [
    "nums = list(map(int, input(\"Enter the six integers Number :\").split(',')))\n",
    "nums.sort()\n",
    "nums.reverse()\n",
    "print(\"After sorting the said integers:\")\n",
    "print(*nums)"
   ]
  },
  {
   "cell_type": "code",
   "execution_count": 62,
   "id": "f3d16536-7bcd-4278-8484-df1fd39d57bc",
   "metadata": {},
   "outputs": [
    {
     "name": "stdin",
     "output_type": "stream",
     "text": [
      "Enter the x1, y1, x2, y2, x3, y3, x4, y4 number: 2, 4, 2, 4, 3, 5, 3, 5 \n"
     ]
    },
    {
     "name": "stdout",
     "output_type": "stream",
     "text": [
      "PQ and RS are parallel.\n"
     ]
    }
   ],
   "source": [
    "x1, y1, x2, y2, x3, y3, x4, y4 = map(float, input(\"Enter the x1, y1, x2, y2, x3, y3, x4, y4 number:\" ).split(','))\n",
    "print('PQ and RS are parallel.' if abs((x2 - x1)*(y4 - y3) - (x4 - x3)*(y2 - y1)) < 1e-10 else 'PQ and RS are not parallel')"
   ]
  },
  {
   "cell_type": "code",
   "execution_count": 63,
   "id": "b0bf1f3d-e6ef-46d2-83ce-047ce070b8b6",
   "metadata": {},
   "outputs": [
    {
     "name": "stdin",
     "output_type": "stream",
     "text": [
      "Enter The number of sequence of numbers you want to input (0 to exit): 3\n",
      "Input numbers: 2\n",
      "Input numbers: 4\n",
      "Input numbers: 6\n"
     ]
    },
    {
     "name": "stdout",
     "output_type": "stream",
     "text": [
      "Maximum sum of the said contiguous subsequence:\n",
      "12\n"
     ]
    },
    {
     "name": "stdin",
     "output_type": "stream",
     "text": [
      "Enter The number of sequence of numbers you want to input (0 to exit): 0\n"
     ]
    }
   ],
   "source": [
    "while True:\n",
    "    n = int(input(\"Enter The number of sequence of numbers you want to input (0 to exit):\"))\n",
    "    if n == 0:\n",
    "        break\n",
    "    else:\n",
    "        # Initialize empty lists A and Sum to store input numbers and cumulative sums\n",
    "        A = []\n",
    "        Sum = []\n",
    "        for i in range(n):\n",
    "            A.append(int(input(\"Input numbers:\")))\n",
    "           # Calculate the cumulative sum of the sequence\n",
    "        Wa = 0\n",
    "        for i in range(0, n):\n",
    "            Wa += A[i]\n",
    "            Sum.append(Wa)\n",
    "        \n",
    "        # Generate all possible contiguous subsequences and add them to the Sum list\n",
    "        for i in range(0, n):\n",
    "            for j in range(0, i):\n",
    "                Num = Sum[i] - Sum[j]\n",
    "                Sum.append(Num)\n",
    "        print(\"Maximum sum of the said contiguous subsequence:\")\n",
    "        print(max(Sum))"
   ]
  },
  {
   "cell_type": "code",
   "execution_count": 64,
   "id": "03077868-400d-4a04-b08f-46587f9f3775",
   "metadata": {},
   "outputs": [
    {
     "name": "stdin",
     "output_type": "stream",
     "text": [
      "Enter the  x1, y1, r1, x2, y2, r2 Number: 5 4 2 3 9 2\n"
     ]
    },
    {
     "name": "stdout",
     "output_type": "stream",
     "text": [
      "C1 and C2 do not overlap\n"
     ]
    }
   ],
   "source": [
    "import math\n",
    "x1, y1, r1, x2, y2, r2 = [float(i) for i in input(\"Enter the  x1, y1, r1, x2, y2, r2 Number:\").split(',')]\n",
    "d = math.sqrt((x1 - x2)**2 + (y1 - y2)**2)\n",
    "# Check and print the relationship between the two circles based on their radii and distance\n",
    "if d <= r1 - r2:\n",
    "    print(\"C2 is in C1\")\n",
    "elif d <= r2 - r1:\n",
    "    print(\"C1 is in C2\")\n",
    "elif d < r1 + r2:\n",
    "    print(\"Circumference of C1 and C2 intersect\")\n",
    "elif d == r1 + r2:\n",
    "    print(\"Circumference of C1 and C2 will touch\")\n",
    "else:\n",
    "    print(\"C1 and C2 do not overlap\")"
   ]
  },
  {
   "cell_type": "code",
   "execution_count": 6,
   "id": "0c90028a-1f52-4783-9ef8-f3d802312231",
   "metadata": {},
   "outputs": [
    {
     "name": "stdin",
     "output_type": "stream",
     "text": [
      "Enter the Month: 12\n",
      "Enter the days: 8\n"
     ]
    },
    {
     "name": "stdout",
     "output_type": "stream",
     "text": [
      "Name of the date:  Thursday\n"
     ]
    }
   ],
   "source": [
    "from datetime import date\n",
    "m = int(input(\"Enter the Month:\"))\n",
    "d = int(input(\"Enter the days:\"))\n",
    "weeks = {1: 'Monday', 2: 'Tuesday', 3: 'Wednesday', 4: 'Thursday', 5: 'Friday', 6: 'Saturday', 7: 'Sunday'}\n",
    "\n",
    "# Calculate the ISO weekday for the given date using 'date.isoweekday' method\n",
    "w = date.isoweekday(date(2016, m, d))\n",
    "print(\"Name of the date: \", weeks[w])\n"
   ]
  },
  {
   "cell_type": "code",
   "execution_count": 13,
   "id": "2f3651d2-45bb-488f-833d-2b4f22b5dd40",
   "metadata": {},
   "outputs": [
    {
     "name": "stdin",
     "output_type": "stream",
     "text": [
      "Enter the text in a line. Most frequent text and the word which has the maximum number of letters. your participation.\n"
     ]
    },
    {
     "name": "stdout",
     "output_type": "stream",
     "text": [
      "\n",
      "Most frequent text and the word which has the maximum number of letters.:\n",
      "the participation.\n"
     ]
    }
   ],
   "source": [
    "import collections\n",
    "text_list = list(map(str, input(\"Enter the text in a line.\").split()))\n",
    "sc = collections.Counter(text_list)\n",
    "common_word = sc.most_common()[0][0]\n",
    "max_char = \"\"\n",
    "for s in text_list:\n",
    "    if len(max_char) < len(s):\n",
    "        max_char = s \n",
    "print(\"\\nMost frequent text and the word which has the maximum number of letters.:\")\n",
    "print(common_word, max_char)"
   ]
  },
  {
   "cell_type": "code",
   "execution_count": 14,
   "id": "99f44e04-c56d-4581-b313-c9038cfd1241",
   "metadata": {},
   "outputs": [
    {
     "name": "stdin",
     "output_type": "stream",
     "text": [
      "Input number of combinations and sum, input 0 0 to exit: 5 6\n",
      "Input number of combinations and sum, input 0 0 to exit: 2 4\n",
      "Input number of combinations and sum, input 0 0 to exit: 0 0\n"
     ]
    },
    {
     "name": "stdout",
     "output_type": "stream",
     "text": [
      "2\n"
     ]
    }
   ],
   "source": [
    "import itertools\n",
    "while True:\n",
    "    x, y = map(int, input(\"Input number of combinations and sum, input 0 0 to exit:\").split())\n",
    "    if x == 0 and y == 0:\n",
    "        break\n",
    "    # Generate all combinations of 'x' elements from the range 0 to 9\n",
    "    s = list(itertools.combinations(range(10), x))\n",
    "    # Initialize a counter variable to count the valid combinations\n",
    "    ctr = 0\n",
    "    for i in s:\n",
    "        # Check if the sum of the current combination is equal to the target sum 'y'\n",
    "        if sum(i) == y:\n",
    "            ctr += 1\n",
    "print(ctr)"
   ]
  },
  {
   "cell_type": "code",
   "execution_count": 17,
   "id": "802efc9c-951f-4fdf-94ac-de2d4530549c",
   "metadata": {},
   "outputs": [
    {
     "name": "stdin",
     "output_type": "stream",
     "text": [
      "Enter the three adjoined sides and the diagonal of a parallelogram: 3, 4, 5\n"
     ]
    },
    {
     "name": "stdout",
     "output_type": "stream",
     "text": [
      "This is a rectangle.\n"
     ]
    }
   ],
   "source": [
    "a, b, c = map(int, input(\"Enter the three adjoined sides and the diagonal of a parallelogram:\").split(\",\"))\n",
    "if c**2 == a**2 + b**2:\n",
    "    print(\"This is a rectangle.\")\n",
    "if a == b:\n",
    "    print(\"This is a rhombus.\")"
   ]
  },
  {
   "cell_type": "code",
   "execution_count": 20,
   "id": "04b8a9d3-2c4c-4407-82e7-780b2c304211",
   "metadata": {},
   "outputs": [
    {
     "name": "stdin",
     "output_type": "stream",
     "text": [
      "Enter the a text with two words 'Python' and 'Java' : Java is popular than Python\n"
     ]
    },
    {
     "name": "stdout",
     "output_type": "stream",
     "text": [
      "Java is popular than Java\n"
     ]
    }
   ],
   "source": [
    "text = input(\"Enter the a text with two words 'Python' and 'Java' :\").split(\",\")\n",
    "for i in range(len(text)):\n",
    "    # Check if 'Python' is present in the current word\n",
    "    if \"Python\" in text[i]:\n",
    "        # Find the index of 'Python' in the current word\n",
    "        n = text[i].index(\"Python\")\n",
    "        # Replace 'Python' with 'Java' in the current word\n",
    "        text[i] = text[i][:n] + \"Java\" + text[i][n + 6:]\n",
    "    # Check if 'Java' is present in the current word\n",
    "    elif \"Java\" in text[i]:\n",
    "        # Find the index of 'Java' in the current word\n",
    "        n = text[i].index(\"Java\")\n",
    "        # Replace 'Java' with 'Python' in the current word\n",
    "        text[i] = text[i][:n] + \"Python\" + text[i][n + 4:]\n",
    "print(*text)"
   ]
  },
  {
   "cell_type": "code",
   "execution_count": 22,
   "id": "2396127a-2ed2-4ecf-a2ac-ac1a21924b7e",
   "metadata": {},
   "outputs": [
    {
     "name": "stdin",
     "output_type": "stream",
     "text": [
      "Enter the 8 numbers from 0 to 9.: 34568729\n"
     ]
    },
    {
     "name": "stdout",
     "output_type": "stream",
     "text": [
      "Difference between the largest and the smallest integer from the given integer:\n",
      "75308643\n"
     ]
    }
   ],
   "source": [
    "num = list(input(\"Enter the 8 numbers from 0 to 9.:\"))\n",
    "print(\"Difference between the largest and the smallest integer from the given integer:\")\n",
    "print(int(\"\".join(sorted(num, reverse=True))) - int(\"\".join(sorted(num))))"
   ]
  },
  {
   "cell_type": "code",
   "execution_count": 23,
   "id": "e3923162-4549-4811-90c6-e39385aa124e",
   "metadata": {},
   "outputs": [
    {
     "name": "stdout",
     "output_type": "stream",
     "text": [
      "Input a number (n≤10000) to compute the sum:(0 to exit)\n"
     ]
    },
    {
     "name": "stdin",
     "output_type": "stream",
     "text": [
      " 25\n"
     ]
    },
    {
     "name": "stdout",
     "output_type": "stream",
     "text": [
      "Sum of first 25 prime numbers:\n",
      "1060\n"
     ]
    },
    {
     "name": "stdin",
     "output_type": "stream",
     "text": [
      " 26\n"
     ]
    },
    {
     "name": "stdout",
     "output_type": "stream",
     "text": [
      "Sum of first 26 prime numbers:\n",
      "1161\n"
     ]
    },
    {
     "name": "stdin",
     "output_type": "stream",
     "text": [
      " 0\n"
     ]
    }
   ],
   "source": [
    "MAX = 105000\n",
    "print(\"Input a number (n≤10000) to compute the sum:(0 to exit)\")\n",
    "is_prime = [True for _ in range(MAX)]\n",
    "is_prime[0] = is_prime[1] = False\n",
    "\n",
    "# Iterate through the range to mark non-prime numbers\n",
    "for i in range(2, int(MAX ** (1 / 2)) + 1):\n",
    "  if is_prime[i]:\n",
    "    for j in range(i ** 2, MAX, i):\n",
    "      is_prime[j] = False \n",
    "\n",
    "# Create a list of prime numbers within the given range\n",
    "primes = [i for i in range(MAX) if is_prime[i]] \n",
    "\n",
    "# Infinite loop to continuously accept user input until 0 is entered\n",
    "while True:\n",
    "  # Prompt the user to input a number\n",
    "  n = int(input())\n",
    "  \n",
    "  # Check if the entered number is 0, and exit the loop if true\n",
    "  if not n:\n",
    "    break\n",
    "  \n",
    "  # Print statement to display the sum of the first n prime numbers\n",
    "  print(\"Sum of first\", n, \"prime numbers:\")\n",
    "  \n",
    "  # Calculate and print the sum of the first n prime numbers using list slicing\n",
    "  print(sum(primes[:n]))"
   ]
  },
  {
   "cell_type": "code",
   "execution_count": 26,
   "id": "d6af4130-71e5-433c-affb-10940ed35511",
   "metadata": {},
   "outputs": [
    {
     "name": "stdout",
     "output_type": "stream",
     "text": [
      "Input an even number (0 to exit):\n"
     ]
    }
   ],
   "source": [
    "import sys\n",
    "from bisect import bisect_right\n",
    "from itertools import chain\n",
    "print(\"Input an even number (0 to exit):\") \n",
    "\n",
    "ub = 50000\n",
    "# Initialize a boolean list to track prime numbers using the Sieve of Eratosthenes algorithm\n",
    "is_prime = [0, 0, 1, 1] + [0]*(ub-3)\n",
    "is_prime[5::6] = is_prime[7::6] = [1]*int(ub/6)\n",
    "primes = [2, 3]\n",
    "append = primes.append\n",
    "# Sieve of Eratosthenes algorithm to find prime numbers\n",
    "for n in chain(range(5, ub, 6), range(7, ub, 6)):\n",
    "    if is_prime[n]:\n",
    "        append(n)\n",
    "        is_prime[n*3::n*2] = [0]*((ub-n)//(n*2))\n",
    "primes.sort()\n",
    "\n",
    "# Infinite loop to continuously accept user input until 0 is entered\n",
    "for n in map(int, sys.stdin):\n",
    "    # Check if the entered number is 0, and break the loop if true\n",
    "    if not n:\n",
    "        break\n",
    "    \n",
    "    # Check if the number is odd\n",
    "    if n % 2:\n",
    "        # Print statement to display the number of combinations\n",
    "        print(\"Number of combinations:\")\n",
    "        # Print the number of combinations using the count of is_prime[n-2]\n",
    "        print(is_prime[n-2])\n",
    "    else:\n",
    "        # Print statement to display the number of combinations\n",
    "        print(\"Number of combinations:\")\n",
    "        # Print the number of combinations using the count of prime pairs that sum to n\n",
    "        print(len([1 for p in primes[:bisect_right(primes, n/2)] if is_prime[n-p]]))"
   ]
  },
  {
   "cell_type": "code",
   "execution_count": 27,
   "id": "f6bc8cfb-d1d5-4873-bc19-d5f1680da46c",
   "metadata": {},
   "outputs": [
    {
     "name": "stdout",
     "output_type": "stream",
     "text": [
      "Input an even number (0 to exit):\n"
     ]
    }
   ],
   "source": [
    "import sys\n",
    "from bisect import bisect_right\n",
    "from itertools import chain\n",
    "\n",
    "# Print statement to prompt the user to input an even number (0 to exit)\n",
    "print(\"Input an even number (0 to exit):\") \n",
    "\n",
    "# Set the upper bound for prime number computation\n",
    "ub = 50000\n",
    "\n",
    "# Initialize a boolean list to track prime numbers using the Sieve of Eratosthenes algorithm\n",
    "is_prime = [0, 0, 1, 1] + [0]*(ub-3)\n",
    "is_prime[5::6] = is_prime[7::6] = [1]*int(ub/6)\n",
    "\n",
    "# Initialize a list to store prime numbers\n",
    "primes = [2, 3]\n",
    "append = primes.append\n",
    "\n",
    "# Sieve of Eratosthenes algorithm to find prime numbers\n",
    "for n in chain(range(5, ub, 6), range(7, ub, 6)):\n",
    "    if is_prime[n]:\n",
    "        append(n)\n",
    "        is_prime[n*3::n*2] = [0]*((ub-n)//(n*2))\n",
    "primes.sort()\n",
    "\n",
    "# Infinite loop to continuously accept user input until 0 is entered\n",
    "for n in map(int, sys.stdin):\n",
    "    # Check if the entered number is 0, and break the loop if true\n",
    "    if not n:\n",
    "        break\n",
    "    \n",
    "    # Check if the number is odd\n",
    "    if n % 2:\n",
    "        # Print statement to display the number of combinations\n",
    "        print(\"Number of combinations:\")\n",
    "        # Print the number of combinations using the count of is_prime[n-2]\n",
    "        print(is_prime[n-2])\n",
    "    else:\n",
    "        # Print statement to display the number of combinations\n",
    "        print(\"Number of combinations:\")\n",
    "        # Print the number of combinations using the count of prime pairs that sum to n\n",
    "        print(len([1 for p in primes[:bisect_right(primes, n/2)] if is_prime[n-p]]))"
   ]
  },
  {
   "cell_type": "code",
   "execution_count": 28,
   "id": "3e4d6a17-de24-4199-be5a-f4d2bc794428",
   "metadata": {},
   "outputs": [
    {
     "name": "stdin",
     "output_type": "stream",
     "text": [
      "Enter an even number >= 4 to find Goldbach partitions (enter 0 to exit):  100\n"
     ]
    },
    {
     "name": "stdout",
     "output_type": "stream",
     "text": [
      "Number of Goldbach partitions for 100: 6\n",
      "Goldbach partitions:\n",
      "3 + 97\n",
      "11 + 89\n",
      "17 + 83\n",
      "29 + 71\n",
      "41 + 59\n",
      "47 + 53\n"
     ]
    },
    {
     "name": "stdin",
     "output_type": "stream",
     "text": [
      "Enter an even number >= 4 to find Goldbach partitions (enter 0 to exit):  0\n"
     ]
    }
   ],
   "source": [
    "def generate_primes_up_to(limit):\n",
    "    \"\"\" Generate a list of prime numbers up to a given limit using Sieve of Eratosthenes \"\"\"\n",
    "    is_prime = [True] * (limit + 1)\n",
    "    p = 2\n",
    "    while (p * p <= limit):\n",
    "        if (is_prime[p] == True):\n",
    "            for i in range(p * p, limit + 1, p):\n",
    "                is_prime[i] = False\n",
    "        p += 1\n",
    "    prime_numbers = [p for p in range(2, limit + 1) if is_prime[p]]\n",
    "    return prime_numbers\n",
    "\n",
    "def find_goldbach_partitions(n):\n",
    "    \"\"\" Find and print all combinations of prime numbers that sum up to n \"\"\"\n",
    "    prime_numbers = generate_primes_up_to(n)\n",
    "    partitions = []\n",
    "    \n",
    "    for i in range(len(prime_numbers)):\n",
    "        for j in range(i, len(prime_numbers)):\n",
    "            if prime_numbers[i] + prime_numbers[j] == n:\n",
    "                partitions.append((prime_numbers[i], prime_numbers[j]))\n",
    "    \n",
    "    return partitions\n",
    "\n",
    "# Main program\n",
    "while True:\n",
    "    try:\n",
    "        n = int(input(\"Enter an even number >= 4 to find Goldbach partitions (enter 0 to exit): \"))\n",
    "        if n == 0:\n",
    "            break\n",
    "        if n < 4 or n % 2 != 0:\n",
    "            raise ValueError\n",
    "        \n",
    "        partitions = find_goldbach_partitions(n)\n",
    "        \n",
    "        print(f\"Number of Goldbach partitions for {n}: {len(partitions)}\")\n",
    "        print(\"Goldbach partitions:\")\n",
    "        for partition in partitions:\n",
    "            print(f\"{partition[0]} + {partition[1]}\")\n",
    "    \n",
    "    except ValueError:\n",
    "        print(\"Invalid input. Please enter an even number >= 4.\")\n"
   ]
  },
  {
   "cell_type": "code",
   "execution_count": 29,
   "id": "b05e097b-c774-4561-ac58-7d2d2ad0b735",
   "metadata": {},
   "outputs": [
    {
     "name": "stdin",
     "output_type": "stream",
     "text": [
      "Enter the straight lines (0 to exit):  5\n"
     ]
    },
    {
     "name": "stdout",
     "output_type": "stream",
     "text": [
      "Number of regions:\n",
      "16\n"
     ]
    },
    {
     "name": "stdin",
     "output_type": "stream",
     "text": [
      "Enter the straight lines (0 to exit):  0\n"
     ]
    }
   ],
   "source": [
    "while True:\n",
    "    n = int(input(\"Enter the straight lines (0 to exit): \"))\n",
    "    # Check if the entered number is less than or equal to 0, and break the loop if true\n",
    "    if n <= 0:\n",
    "        break\n",
    "    print(\"Number of regions:\")\n",
    "    print((n*n + n + 2)//2)"
   ]
  },
  {
   "cell_type": "code",
   "execution_count": 30,
   "id": "79ccb42c-592f-40d9-b9a2-27fe6870a3dd",
   "metadata": {},
   "outputs": [
    {
     "name": "stdin",
     "output_type": "stream",
     "text": [
      "Enter the  xp, yp, xq, yq, xr, yr, xs, ys Number: 2.5 2.4 3.4 5.2 -6.5 -4.3 5.5 -3.4\n"
     ]
    },
    {
     "name": "stdout",
     "output_type": "stream",
     "text": [
      "AB and CD are not orthogonal!\n"
     ]
    },
    {
     "name": "stdin",
     "output_type": "stream",
     "text": [
      "Enter the  xp, yp, xq, yq, xr, yr, xs, ys Number: 0\n"
     ]
    }
   ],
   "source": [
    "while True:\n",
    "    try:\n",
    "        x_p, y_p, x_q, y_q, x_r, y_r, x_s, y_s = map(float, input(\"Enter the  xp, yp, xq, yq, xr, yr, xs, ys Number:\").split())\n",
    "        pq_x, pq_y = x_q - x_p, y_q - y_p\n",
    "        rs_x, rs_y = x_s - x_r, y_s - y_r\n",
    "        \n",
    "        # Calculate the dot product of pq and rs\n",
    "        rs = pq_x * rs_x + pq_y * rs_y\n",
    "        \n",
    "        # Check if the dot product is close to zero, and print the result accordingly\n",
    "        if abs(rs) > 1e-10:\n",
    "            print(\"AB and CD are not orthogonal!\")\n",
    "        else:\n",
    "            print(\"AB and CD are orthogonal!\")\n",
    "    except:\n",
    "        break"
   ]
  },
  {
   "cell_type": "code",
   "execution_count": 33,
   "id": "6966957d-97fb-432c-b94c-4e804d06e8d5",
   "metadata": {},
   "outputs": [
    {
     "name": "stdin",
     "output_type": "stream",
     "text": [
      "enter the text and numeric values ( to exit): \"15apple2banana\"\n"
     ]
    },
    {
     "name": "stdout",
     "output_type": "stream",
     "text": [
      "Input some text and numeric values ( to exit):\n",
      "Sum of the numeric values:  17\n",
      "None\n"
     ]
    }
   ],
   "source": [
    "import sys\n",
    "import re\n",
    "n = str(input(\"enter the text and numeric values ( to exit):\"))\n",
    "def test(stri):\n",
    "    print(\"Input some text and numeric values ( to exit):\")\n",
    "    numeric_sum = sum(map(int, re.findall(r\"[0-9]{1,5}\", n)))\n",
    "    print(\"Sum of the numeric values: \", numeric_sum)\n",
    "print(test(n))    "
   ]
  },
  {
   "cell_type": "code",
   "execution_count": null,
   "id": "70aced05-1463-44c4-afee-3aac3faae57d",
   "metadata": {},
   "outputs": [
    {
     "name": "stdout",
     "output_type": "stream",
     "text": [
      "Input 10 rows of 10 numbers representing green squares (island) as 1 and blue squares (sea) as zeros\n"
     ]
    },
    {
     "name": "stdin",
     "output_type": "stream",
     "text": [
      " 1100000111\n",
      " 100000111\n",
      " 111100000\n",
      " 1111000110\n",
      " 1101010101\n",
      " 1100110011\n",
      " 0011001100\n",
      " 1010101010\n",
      " 0101010101\n"
     ]
    }
   ],
   "source": [
    "c = 0\n",
    "\n",
    "# Define a recursive function 'f' with parameters x, y, and z\n",
    "def f(x, y, z):\n",
    "    if 0 <= y < 10 and 0 <= z < 10 and x[z][y] == '1':\n",
    "        # Change the square to '0' to mark it as visited\n",
    "        x[z][y] = '0'\n",
    "        # Recursively call 'f' for neighboring squares\n",
    "        for dy, dz in [[-1, 0], [1, 0], [0, -1], [0, 1]]:\n",
    "            f(x, y + dy, z + dz)\n",
    "\n",
    "# Print a statement instructing the user to input 10 rows of 10 numbers representing the island and sea\n",
    "print(\"Input 10 rows of 10 numbers representing green squares (island) as 1 and blue squares (sea) as zeros\") \n",
    "\n",
    "# Run an infinite loop\n",
    "while 1:\n",
    "    try:\n",
    "        # If 'c' is not 0, prompt the user to input (used for multiple test cases)\n",
    "        if c:\n",
    "            input()\n",
    "    except:\n",
    "        # Break the loop if an exception occurs (typically EOF)\n",
    "        break\n",
    "\n",
    "    # Read 10 rows of 10 characters each to represent the island and sea\n",
    "    x = [list(input()) for _ in [0] * 10]\n",
    "    # Set 'c' to 1 to indicate subsequent iterations\n",
    "    c = 1\n",
    "    # Initialize counter 'b' to 0 to count the number of islands\n",
    "    b = 0\n",
    "\n",
    "    # Nested loops to iterate through each square in the grid\n",
    "    for i in range(10):\n",
    "        for j in range(10):\n",
    "            # Check if the square is part of an island ('1')\n",
    "            if x[j][i] == '1':\n",
    "                # Increment the island counter 'b'\n",
    "                b += 1\n",
    "                # Call the recursive function 'f' to mark the connected island squares\n",
    "                f(x, i, j)\n",
    "\n",
    "    # Print the number of islands in the input grid\n",
    "    print(\"Number of islands:\")     \n",
    "    print(b)\n"
   ]
  },
  {
   "cell_type": "code",
   "execution_count": null,
   "id": "aff4e188-0d76-47be-99ab-9604fd6da529",
   "metadata": {},
   "outputs": [],
   "source": []
  }
 ],
 "metadata": {
  "kernelspec": {
   "display_name": "Python 3 (ipykernel)",
   "language": "python",
   "name": "python3"
  },
  "language_info": {
   "codemirror_mode": {
    "name": "ipython",
    "version": 3
   },
   "file_extension": ".py",
   "mimetype": "text/x-python",
   "name": "python",
   "nbconvert_exporter": "python",
   "pygments_lexer": "ipython3",
   "version": "3.11.7"
  },
  "widgets": {
   "application/vnd.jupyter.widget-state+json": {
    "state": {},
    "version_major": 2,
    "version_minor": 0
   }
  }
 },
 "nbformat": 4,
 "nbformat_minor": 5
}

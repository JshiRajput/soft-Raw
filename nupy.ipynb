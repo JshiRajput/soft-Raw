{
 "cells": [
  {
   "cell_type": "code",
   "execution_count": 1,
   "id": "84f73619-a919-4a3b-9228-035a62a649d7",
   "metadata": {},
   "outputs": [
    {
     "name": "stdout",
     "output_type": "stream",
     "text": [
      "0\n",
      "1\n",
      "2\n",
      "3\n"
     ]
    }
   ],
   "source": [
    "import numpy as np\n",
    "\n",
    "a = np.array(42)\n",
    "b = np.array([1, 2, 3, 4, 5])\n",
    "c = np.array([[1, 2, 3], [4, 5, 6]])\n",
    "d = np.array([[[1, 2, 3], [4, 5, 6]], [[1, 2, 3], [4, 5, 6]]])\n",
    "\n",
    "print(a.ndim)\n",
    "print(b.ndim)\n",
    "print(c.ndim)\n",
    "print(d.ndim)"
   ]
  },
  {
   "cell_type": "code",
   "execution_count": 2,
   "id": "c4ac32d9-fa24-4d19-8f12-766ade79c514",
   "metadata": {},
   "outputs": [
    {
     "name": "stdout",
     "output_type": "stream",
     "text": [
      "[[[[[1 2 3 4]]]]]\n",
      "number of dimensions : 5\n"
     ]
    }
   ],
   "source": [
    "import numpy as np\n",
    "arr = np.array([1, 2, 3, 4], ndmin=5)\n",
    "print(arr)\n",
    "print('number of dimensions :', arr.ndim)\n"
   ]
  },
  {
   "cell_type": "code",
   "execution_count": 3,
   "id": "142ab1fa-1964-44af-8d6a-159e311aff5e",
   "metadata": {},
   "outputs": [
    {
     "name": "stdout",
     "output_type": "stream",
     "text": [
      "7\n"
     ]
    }
   ],
   "source": [
    "import numpy as np\n",
    "arr = np.array([1, 2, 3, 4])\n",
    "print(arr[2] + arr[3])"
   ]
  },
  {
   "cell_type": "code",
   "execution_count": 5,
   "id": "df36641e-19dd-4859-b220-42fb842b23fe",
   "metadata": {},
   "outputs": [
    {
     "name": "stdout",
     "output_type": "stream",
     "text": [
      "2nd element on 1st row:  7\n"
     ]
    }
   ],
   "source": [
    "import numpy as np\n",
    "arr = np.array([[1,2,3,4,5], [6,7,8,9,10]])\n",
    "print('2nd element on 1st row: ', arr[1, 1])"
   ]
  },
  {
   "cell_type": "code",
   "execution_count": 12,
   "id": "b20d0651-f4a3-44bb-83ed-96dedc7257ad",
   "metadata": {},
   "outputs": [
    {
     "name": "stdout",
     "output_type": "stream",
     "text": [
      "9\n"
     ]
    }
   ],
   "source": [
    "import numpy as np\n",
    "arr = np.array([[[1, 2, 3], [4, 5, 6]], [[7, 8, 9], [10, 11, 12]]])\n",
    "print(arr[1, 0, 2])"
   ]
  },
  {
   "cell_type": "code",
   "execution_count": 13,
   "id": "f80a65d7-1a0e-495a-b12f-cef79120a371",
   "metadata": {},
   "outputs": [
    {
     "name": "stdout",
     "output_type": "stream",
     "text": [
      "Last element from 2nd dim:  10\n"
     ]
    }
   ],
   "source": [
    "import numpy as np\n",
    "arr = np.array([[1,2,3,4,5], [6,7,8,9,10]])\n",
    "print('Last element from 2nd dim: ', arr[1, -1])"
   ]
  },
  {
   "cell_type": "code",
   "execution_count": 17,
   "id": "e0f4f2a2-9166-4182-b491-0c1058b5bd22",
   "metadata": {},
   "outputs": [
    {
     "name": "stdout",
     "output_type": "stream",
     "text": [
      "[2 3 4 5]\n"
     ]
    }
   ],
   "source": [
    "import numpy as np\n",
    "arr = np.array([1, 2, 3, 4, 5, 6, 7])\n",
    "print(arr[1:5])\n"
   ]
  },
  {
   "cell_type": "code",
   "execution_count": 15,
   "id": "54aa4651-71b3-4c4c-b296-4f806235f5b9",
   "metadata": {},
   "outputs": [
    {
     "name": "stdout",
     "output_type": "stream",
     "text": [
      "[5 6 7]\n"
     ]
    }
   ],
   "source": [
    "import numpy as np\n",
    "arr = np.array([1, 2, 3, 4, 5, 6, 7])\n",
    "print(arr[4:])"
   ]
  },
  {
   "cell_type": "code",
   "execution_count": 16,
   "id": "6f751dd1-8c9c-471b-bac6-1852faf9b51a",
   "metadata": {},
   "outputs": [
    {
     "name": "stdout",
     "output_type": "stream",
     "text": [
      "[5 6]\n"
     ]
    }
   ],
   "source": [
    "import numpy as np\n",
    "arr = np.array([1, 2, 3, 4, 5, 6, 7])\n",
    "print(arr[-3:-1])\n"
   ]
  },
  {
   "cell_type": "code",
   "execution_count": 19,
   "id": "d2c41b33-7082-4346-bd77-0fc030e0fa81",
   "metadata": {},
   "outputs": [
    {
     "name": "stdout",
     "output_type": "stream",
     "text": [
      "[ 2  4  6  9 11 13]\n"
     ]
    }
   ],
   "source": [
    "import numpy as np\n",
    "arr = np.array([1, 2, 3, 4, 5, 6, 7, 9, 10, 11, 12, 13, 14])\n",
    "print(arr[1:14:2])"
   ]
  },
  {
   "cell_type": "code",
   "execution_count": 20,
   "id": "b6aa0574-44d9-463c-b4cc-7fff137a295f",
   "metadata": {},
   "outputs": [
    {
     "name": "stdout",
     "output_type": "stream",
     "text": [
      "[ 1  3  5  7 10 12 14]\n"
     ]
    }
   ],
   "source": [
    "import numpy as np\n",
    "arr = np.array([1, 2, 3, 4, 5, 6, 7, 9, 10, 11, 12, 13, 14])\n",
    "print(arr[::2])"
   ]
  },
  {
   "cell_type": "code",
   "execution_count": 21,
   "id": "162bef06-e66a-46db-8f4e-4496a6918099",
   "metadata": {},
   "outputs": [
    {
     "name": "stdout",
     "output_type": "stream",
     "text": [
      "[7 8 9]\n"
     ]
    }
   ],
   "source": [
    "import numpy as np\n",
    "arr = np.array([[1, 2, 3, 4, 5], [6, 7, 8, 9, 10]])\n",
    "print(arr[1, 1:4])"
   ]
  },
  {
   "cell_type": "code",
   "execution_count": 22,
   "id": "ba8118d2-d1e3-4595-b9cf-98c0ef80162b",
   "metadata": {},
   "outputs": [
    {
     "name": "stdout",
     "output_type": "stream",
     "text": [
      "[ 3 13]\n"
     ]
    }
   ],
   "source": [
    "import numpy as np\n",
    "x = np.array([[1, 2, 3, 4], [11, 12, 13, 14]])\n",
    "print(x[0:2, 2])"
   ]
  },
  {
   "cell_type": "code",
   "execution_count": 23,
   "id": "9df3a618-dba7-4be5-9e00-424ac8401613",
   "metadata": {},
   "outputs": [
    {
     "name": "stdout",
     "output_type": "stream",
     "text": [
      "[[2 3 4]\n",
      " [7 8 9]]\n"
     ]
    }
   ],
   "source": [
    "import numpy as np\n",
    "arr = np.array([[1, 2, 3, 4, 5], [6, 7, 8, 9, 10]])\n",
    "print(arr[0:2, 1:4])"
   ]
  },
  {
   "cell_type": "code",
   "execution_count": 1,
   "id": "b20f13bf-3d09-4a27-afe4-1b261f1479c8",
   "metadata": {},
   "outputs": [
    {
     "name": "stdout",
     "output_type": "stream",
     "text": [
      "[b'1' b'2' b'3' b'4']\n",
      "|S1\n"
     ]
    }
   ],
   "source": [
    "import numpy as np\n",
    "arr = np.array([1, 2, 3, 4], dtype='S')\n",
    "print(arr)\n",
    "print(arr.dtype)\n"
   ]
  },
  {
   "cell_type": "code",
   "execution_count": 2,
   "id": "986c902b-fa6e-4268-a9e6-b4359134db42",
   "metadata": {},
   "outputs": [
    {
     "name": "stdout",
     "output_type": "stream",
     "text": [
      "[1 2 3]\n",
      "int32\n"
     ]
    }
   ],
   "source": [
    "import numpy as np\n",
    "arr = np.array([1.1, 2.1, 3.1])\n",
    "newarr = arr.astype('i')\n",
    "print(newarr)\n",
    "print(newarr.dtype)"
   ]
  },
  {
   "cell_type": "code",
   "execution_count": 3,
   "id": "a0b7dc62-ed5c-4f1f-a60f-1e8de84c4f00",
   "metadata": {},
   "outputs": [
    {
     "name": "stdout",
     "output_type": "stream",
     "text": [
      "[1 2 3]\n",
      "int32\n"
     ]
    }
   ],
   "source": [
    "import numpy as np\n",
    "arr = np.array([1.1, 2.1, 3.1])\n",
    "newarr = arr.astype(int)\n",
    "print(newarr)\n",
    "print(newarr.dtype)"
   ]
  },
  {
   "cell_type": "code",
   "execution_count": 4,
   "id": "c3bdb4f0-2c18-419c-b64a-4744abab7ab5",
   "metadata": {},
   "outputs": [
    {
     "name": "stdout",
     "output_type": "stream",
     "text": [
      "[ True False  True]\n",
      "bool\n"
     ]
    }
   ],
   "source": [
    "import numpy as np\n",
    "\n",
    "arr = np.array([1, 0, 3])\n",
    "\n",
    "newarr = arr.astype(bool)\n",
    "print(newarr)\n",
    "print(newarr.dtype)"
   ]
  },
  {
   "cell_type": "code",
   "execution_count": 2,
   "id": "c0296ee1-1e66-4c88-8f32-6cb44a81d82e",
   "metadata": {},
   "outputs": [
    {
     "name": "stdout",
     "output_type": "stream",
     "text": [
      "[1 2 3 4 5]\n",
      "[42  2  3  4  5]\n"
     ]
    }
   ],
   "source": [
    "import numpy as np\n",
    "\n",
    "arr = np.array([1, 2, 3, 4, 5])\n",
    "x = arr.copy()\n",
    "x[0] = 42\n",
    "\n",
    "print(arr)\n",
    "print(x)"
   ]
  },
  {
   "cell_type": "code",
   "execution_count": 17,
   "id": "407a798f-684c-42fd-aefa-dbe2f391a1a9",
   "metadata": {},
   "outputs": [
    {
     "name": "stdin",
     "output_type": "stream",
     "text": [
      "enter the array number : 1, 2, 3, 4, 5\n"
     ]
    },
    {
     "name": "stdout",
     "output_type": "stream",
     "text": [
      "[42  2  3  4  5]\n",
      "[42  2  3  4  5]\n"
     ]
    }
   ],
   "source": [
    "n = list(map(int, input(\"enter the array number :\").split(',')))\n",
    "import numpy as np\n",
    "arr = np.array(n)\n",
    "x = arr.view()\n",
    "x[0] = 42\n",
    "\n",
    "print(arr)\n",
    "print(x)"
   ]
  },
  {
   "cell_type": "code",
   "execution_count": 10,
   "id": "887c2ca2-a085-4d12-a8fc-2feddb4dd3f7",
   "metadata": {},
   "outputs": [
    {
     "name": "stdin",
     "output_type": "stream",
     "text": [
      "enter the array number : 1, 2, 3, 4, 5, 7\n"
     ]
    },
    {
     "name": "stdout",
     "output_type": "stream",
     "text": [
      "None\n",
      "[[1 2 3 4 5 7]]\n"
     ]
    }
   ],
   "source": [
    "x = list(map(int, input(\"enter the array number :\").split(',')))\n",
    "import numpy as np\n",
    "arr = np.array([x])\n",
    "x = arr.copy()\n",
    "y = arr.view()\n",
    "print(x.base)\n",
    "print(y.base)"
   ]
  },
  {
   "cell_type": "code",
   "execution_count": 9,
   "id": "4a523ed0-92af-4c27-abab-f5c92f266a41",
   "metadata": {},
   "outputs": [
    {
     "name": "stdout",
     "output_type": "stream",
     "text": [
      "(2, 4)\n"
     ]
    }
   ],
   "source": [
    "import numpy as np\n",
    "arr = np.array([[1, 2, 3, 4], [5, 6, 7, 8]])\n",
    "print(arr.shape)"
   ]
  },
  {
   "cell_type": "code",
   "execution_count": 9,
   "id": "433cd4fe-4ec0-4ace-9888-1702c12e8c02",
   "metadata": {},
   "outputs": [
    {
     "name": "stdin",
     "output_type": "stream",
     "text": [
      "enter the array number : 1, 2, 3, 4, 5, 6\n"
     ]
    },
    {
     "name": "stdout",
     "output_type": "stream",
     "text": [
      "[[[[[1 2 3 4 5 6]]]]]\n",
      "shape of array : (1, 1, 1, 1, 6)\n"
     ]
    }
   ],
   "source": [
    "x = list(map(int, input(\"enter the array number :\").split(',')))\n",
    "import numpy as np\n",
    "arr = np.array([x], ndmin=5)\n",
    "print(arr)\n",
    "print('shape of array :', arr.shape)"
   ]
  },
  {
   "cell_type": "code",
   "execution_count": 8,
   "id": "a13a30fe-718c-4058-a711-7b11935cdda8",
   "metadata": {},
   "outputs": [
    {
     "name": "stdin",
     "output_type": "stream",
     "text": [
      "enter the array number : 1, 2, 3, 4, 5\n"
     ]
    },
    {
     "name": "stdout",
     "output_type": "stream",
     "text": [
      "[[[[[1 2 3 4 5]]]]]\n",
      "shape of array : (1, 1, 1, 1, 5)\n"
     ]
    }
   ],
   "source": [
    "x = list(map(int, input(\"enter the array number :\").split(',')))\n",
    "import numpy as np\n",
    "arr = np.array([x], ndmin=5)\n",
    "print(arr)\n",
    "print('shape of array :', arr.shape)"
   ]
  },
  {
   "cell_type": "code",
   "execution_count": 7,
   "id": "134127ed-e019-4a59-8aec-5d3d7586bfe3",
   "metadata": {},
   "outputs": [
    {
     "name": "stdin",
     "output_type": "stream",
     "text": [
      "enter the array number : 1, 2, 3, 4, 5, 6, 7, 8, 9, 0, 11, 12, 13, 14, 15\n",
      "Enter the shape: 5, 3\n"
     ]
    },
    {
     "name": "stdout",
     "output_type": "stream",
     "text": [
      "[[ 1  2  3]\n",
      " [ 4  5  6]\n",
      " [ 7  8  9]\n",
      " [ 0 11 12]\n",
      " [13 14 15]]\n"
     ]
    }
   ],
   "source": [
    "#Convert the following 1-D array with 12 elements into a 2-D array.\n",
    "x = list(map(int, input(\"enter the array number :\").split(',')))\n",
    "y = list(map(int, input(\"Enter the shape:\").split(',')))\n",
    "import numpy as np\n",
    "arr = np.array([x])\n",
    "newarr = arr.reshape(y)\n",
    "print(newarr)\n"
   ]
  },
  {
   "cell_type": "code",
   "execution_count": 18,
   "id": "da3554dc-df61-4a81-878d-93abaaee787e",
   "metadata": {},
   "outputs": [
    {
     "name": "stdin",
     "output_type": "stream",
     "text": [
      "enter the array number : 1, 6, 2, 3, 4, 5,  7, 8, 9, 10, 11, 12\n",
      "Enter the shape: 2, 3, 2\n"
     ]
    },
    {
     "name": "stdout",
     "output_type": "stream",
     "text": [
      "[[[ 1  6]\n",
      "  [ 2  3]\n",
      "  [ 4  5]]\n",
      "\n",
      " [[ 7  8]\n",
      "  [ 9 10]\n",
      "  [11 12]]]\n"
     ]
    }
   ],
   "source": [
    "#Convert the following 1-D array with 12 elements into a 3-D array.\n",
    "\n",
    "#The outermost dimension will have 2 arrays that contains 3 arrays, each with 2 elements:\n",
    "x = list(map(int, input(\"enter the array number :\").split(',')))\n",
    "y = list(map(int, input(\"Enter the shape:\").split(',')))\n",
    "import numpy as np\n",
    "arr = np.array([x])\n",
    "newarr = arr.reshape(y)\n",
    "print(newarr)"
   ]
  },
  {
   "cell_type": "code",
   "execution_count": 21,
   "id": "d7aec242-a7f1-48ef-9e04-924816b8d65c",
   "metadata": {},
   "outputs": [
    {
     "name": "stdin",
     "output_type": "stream",
     "text": [
      "enter the array number : 1, 2, 3, 4, 5, 6, 7, 8, 9\n",
      "Enter the shape: 3, 3\n"
     ]
    },
    {
     "name": "stdout",
     "output_type": "stream",
     "text": [
      "[[1 2 3 4 5 6 7 8 9]]\n"
     ]
    }
   ],
   "source": [
    "#Check if the returned array is a copy or a view:\n",
    "x = list(map(int, input(\"enter the array number :\").split(',')))\n",
    "y = list(map(int, input(\"Enter the shape:\").split(',')))\n",
    "import numpy as np\n",
    "arr = np.array([x])\n",
    "print(arr.reshape(y).base)"
   ]
  },
  {
   "cell_type": "code",
   "execution_count": 22,
   "id": "82030260-6006-460f-958e-ae90b627851b",
   "metadata": {},
   "outputs": [
    {
     "name": "stdin",
     "output_type": "stream",
     "text": [
      "enter the array number : 1, 2, 3, 4, 5, 6, 7, 8\n",
      "Enter the shape: 2, 2, -1\n"
     ]
    },
    {
     "name": "stdout",
     "output_type": "stream",
     "text": [
      "[[[1 2]\n",
      "  [3 4]]\n",
      "\n",
      " [[5 6]\n",
      "  [7 8]]]\n"
     ]
    }
   ],
   "source": [
    "#Convert 1D array with 8 elements to 3D array with 2x2 elements:\n",
    "x = list(map(int, input(\"enter the array number :\").split(',')))\n",
    "y = list(map(int, input(\"Enter the shape:\").split(',')))\n",
    "import numpy as np\n",
    "arr = np.array([x])\n",
    "newarr = arr.reshape(y)\n",
    "print(newarr)#We can not pass -1 to more than one dimension."
   ]
  },
  {
   "cell_type": "code",
   "execution_count": 23,
   "id": "17c64178-a72f-46f3-b3b9-68137fe1c024",
   "metadata": {},
   "outputs": [
    {
     "name": "stdin",
     "output_type": "stream",
     "text": [
      "enter the array number : 1, 2, 3\n",
      "enter the array number : 4, 5, 6\n",
      "Enter the shape: -1\n"
     ]
    },
    {
     "name": "stdout",
     "output_type": "stream",
     "text": [
      "[1 2 3 4 5 6]\n"
     ]
    }
   ],
   "source": [
    "#Convert the array into a 1D array:\n",
    "x = list(map(int, input(\"enter the array number :\").split(',')))\n",
    "y = list(map(int, input(\"enter the array number :\").split(',')))\n",
    "z = list(map(int, input(\"Enter the shape:\").split(',')))\n",
    "import numpy as np\n",
    "arr = np.array([[x], [y]])\n",
    "newarr = arr.reshape(z)\n",
    "print(newarr)"
   ]
  },
  {
   "cell_type": "code",
   "execution_count": 32,
   "id": "cca0eec9-3150-44af-8248-34f27cae282b",
   "metadata": {},
   "outputs": [
    {
     "name": "stdin",
     "output_type": "stream",
     "text": [
      "enter the array number : 1, 2, 3\n"
     ]
    },
    {
     "name": "stdout",
     "output_type": "stream",
     "text": [
      "1\n",
      "2\n",
      "3\n"
     ]
    }
   ],
   "source": [
    "#Iterate on the elements of the following 1-D array:\n",
    "y = list(map(int, input(\"enter the array number :\").split(',')))\n",
    "import numpy as np\n",
    "arr = np.array(y)\n",
    "for x in arr:\n",
    "  print(x)\n"
   ]
  },
  {
   "cell_type": "code",
   "execution_count": 29,
   "id": "ffcef547-f9d9-4a95-a4b1-4f588a9d2d3e",
   "metadata": {},
   "outputs": [
    {
     "name": "stdin",
     "output_type": "stream",
     "text": [
      "enter the array number : 1, 2, 3, 4\n",
      "enter the array number : 5, 6, 7, 8\n"
     ]
    },
    {
     "name": "stdout",
     "output_type": "stream",
     "text": [
      "[1 2 3 4]\n",
      "[5 6 7 8]\n"
     ]
    }
   ],
   "source": [
    "#Iterate on the elements of the following 2-D array:\n",
    "z = list(map(int, input(\"enter the array number :\").split(',')))\n",
    "y = list(map(int, input(\"enter the array number :\").split(',')))\n",
    "\n",
    "import numpy as np\n",
    "\n",
    "arr = np.array([z, y])\n",
    "\n",
    "for x in arr:\n",
    "  print(x)"
   ]
  },
  {
   "cell_type": "code",
   "execution_count": 34,
   "id": "aa546438-ad76-4229-857e-720002c5dcbd",
   "metadata": {},
   "outputs": [
    {
     "name": "stdin",
     "output_type": "stream",
     "text": [
      "enter the array number : 1, 2, 3, 4\n",
      "enter the array number : 6, 7, 8, 9 \n"
     ]
    },
    {
     "name": "stdout",
     "output_type": "stream",
     "text": [
      "1\n",
      "2\n",
      "3\n",
      "4\n",
      "6\n",
      "7\n",
      "8\n",
      "9\n"
     ]
    }
   ],
   "source": [
    "#Iterate on each scalar element of the 2-D array:\n",
    "a = list(map(int, input(\"enter the array number :\").split(',')))\n",
    "b = list(map(int, input(\"enter the array number :\").split(',')))\n",
    "import numpy as np\n",
    "arr = np.array([a, b])\n",
    "for x in arr:\n",
    "  for y in x:\n",
    "    print(y)"
   ]
  },
  {
   "cell_type": "code",
   "execution_count": 36,
   "id": "46848719-8d0e-44fa-bcc1-6afc6529219b",
   "metadata": {},
   "outputs": [
    {
     "name": "stdin",
     "output_type": "stream",
     "text": [
      "Enter the Array Number: 1, 2, 3, 4\n",
      "Enter the Array Number: 3, 4, 5, 6\n",
      "Enter the Array Number: 3, 5, 6, 7\n",
      "Enter the Array Number: 4, 5, 6, 8\n"
     ]
    },
    {
     "name": "stdout",
     "output_type": "stream",
     "text": [
      "[[[1 2 3 4]]\n",
      "\n",
      " [[3 4 5 6]]]\n",
      "[[[3 5 6 7]]\n",
      "\n",
      " [[4 5 6 8]]]\n"
     ]
    }
   ],
   "source": [
    "a = list(map(int, input(\"Enter the Array Number:\").split(',')))\n",
    "b = list(map(int, input(\"Enter the Array Number:\").split(',')))\n",
    "c = list(map(int, input(\"Enter the Array Number:\").split(',')))\n",
    "d = list(map(int, input(\"Enter the Array Number:\").split(',')))\n",
    "import numpy as np\n",
    "arr = np.array([[[a], [b]], [[c], [d]]])\n",
    "for x in arr:\n",
    "    print(x)"
   ]
  },
  {
   "cell_type": "code",
   "execution_count": 38,
   "id": "cf148da9-cbd3-477f-8a1c-6f30fe47fdfc",
   "metadata": {},
   "outputs": [
    {
     "name": "stdin",
     "output_type": "stream",
     "text": [
      "Enter the Array Number: 1, 2, 3, 4\n",
      "Enter the Array Number: 5, 6, 7, 8\n",
      "Enter the Array Number: 9, 11, 12, 13\n",
      "Enter the Array Number: 14, 15, 16, 77\n"
     ]
    },
    {
     "name": "stdout",
     "output_type": "stream",
     "text": [
      "1\n",
      "2\n",
      "3\n",
      "4\n",
      "5\n",
      "6\n",
      "7\n",
      "8\n",
      "9\n",
      "11\n",
      "12\n",
      "13\n",
      "14\n",
      "15\n",
      "16\n",
      "77\n"
     ]
    }
   ],
   "source": [
    "#Iterate down to the scalars:\n",
    "a = list(map(int, input(\"Enter the Array Number:\").split(',')))\n",
    "b = list(map(int, input(\"Enter the Array Number:\").split(',')))\n",
    "c = list(map(int, input(\"Enter the Array Number:\").split(',')))\n",
    "d = list(map(int, input(\"Enter the Array Number:\").split(',')))\n",
    "import numpy as np\n",
    "arr = np.array([[a, b], [c, d]])\n",
    "for x in arr:\n",
    "  for y in x:\n",
    "    for z in y:\n",
    "      print(z)"
   ]
  },
  {
   "cell_type": "code",
   "execution_count": 41,
   "id": "513ac1f0-e411-46c6-a254-1d9ada58a9f9",
   "metadata": {},
   "outputs": [
    {
     "name": "stdin",
     "output_type": "stream",
     "text": [
      "Enter the Array Number : 1, 2, 3, 4\n",
      "Enter the Array Number : 2, 3, 6, 7\n",
      "Enter the Array Number : 7, 8, 9, 5\n",
      "Enter the Array Number : 6, 8, 5, 9\n"
     ]
    },
    {
     "name": "stdout",
     "output_type": "stream",
     "text": [
      "1\n",
      "2\n",
      "3\n",
      "4\n",
      "2\n",
      "3\n",
      "6\n",
      "7\n",
      "7\n",
      "8\n",
      "9\n",
      "5\n",
      "6\n",
      "8\n",
      "5\n",
      "9\n"
     ]
    }
   ],
   "source": [
    "a = list(map(int, input(\"Enter the Array Number :\").split(',')))\n",
    "b = list(map(int, input(\"Enter the Array Number :\").split(',')))\n",
    "c = list(map(int, input(\"Enter the Array Number :\").split(',')))\n",
    "d = list(map(int, input(\"Enter the Array Number :\").split(','))) \n",
    "import numpy as np\n",
    "arr = np.array([[[a], [b]], [[c], [d]]])\n",
    "for x in np.nditer(arr):\n",
    "    print(x)\n",
    "    \n"
   ]
  },
  {
   "cell_type": "code",
   "execution_count": 52,
   "id": "2bd1d8bb-a02e-4a54-a7e5-790ca0b620e8",
   "metadata": {},
   "outputs": [
    {
     "name": "stdin",
     "output_type": "stream",
     "text": [
      "Enter the array number: 1, 2, 3, 4, 5\n"
     ]
    },
    {
     "name": "stdout",
     "output_type": "stream",
     "text": [
      "b'1'\n",
      "b'2'\n",
      "b'3'\n",
      "b'4'\n",
      "b'5'\n"
     ]
    }
   ],
   "source": [
    "#Iterate through the array as a string:\n",
    "a = list(map(int, input(\"Enter the array number:\").split(','))) \n",
    "import numpy as np\n",
    "arr = np.array([a])\n",
    "for x in np.nditer(arr, flags=[\"buffered\"], op_dtypes=['S']):\n",
    "    print(x)"
   ]
  },
  {
   "cell_type": "code",
   "execution_count": 56,
   "id": "860a387d-5f7a-418e-8b10-f59c3347c9a3",
   "metadata": {},
   "outputs": [
    {
     "name": "stdin",
     "output_type": "stream",
     "text": [
      "Enter the Array Number : 1, 2, 3, 4\n",
      "Enter the Array Number : 5, 6, 7, 8\n"
     ]
    },
    {
     "name": "stdout",
     "output_type": "stream",
     "text": [
      "1\n",
      "3\n",
      "5\n",
      "7\n"
     ]
    }
   ],
   "source": [
    "#Iterate through every scalar element of the 2D array skipping 1 element:\n",
    "b = list(map(int, input(\"Enter the Array Number :\").split(',')))\n",
    "import numpy as np\n",
    "arr = np.array([a, b])\n",
    "for x in np.nditer(arr[:, ::2]):\n",
    "    print(x)"
   ]
  },
  {
   "cell_type": "code",
   "execution_count": 59,
   "id": "d22b596f-e525-409f-ad9b-f8da462bbba2",
   "metadata": {},
   "outputs": [
    {
     "name": "stdin",
     "output_type": "stream",
     "text": [
      "Enter the Array Number : 1, 2, 3\n"
     ]
    },
    {
     "name": "stdout",
     "output_type": "stream",
     "text": [
      "(0, 0) 1\n",
      "(0, 1) 2\n",
      "(0, 2) 3\n"
     ]
    }
   ],
   "source": [
    "#Enumerate on following 1D arrays elements:\n",
    "a = list(map(int, input(\"Enter the Array Number :\").split(',')))\n",
    "import numpy as np\n",
    "arr = np.array([a])\n",
    "for idx, x in np.ndenumerate(arr):\n",
    "    print(idx, x)"
   ]
  },
  {
   "cell_type": "code",
   "execution_count": null,
   "id": "8762a7f2-5d5c-455b-935d-c9a326c8b69b",
   "metadata": {},
   "outputs": [],
   "source": [
    "a = list(map(int, input(\"Enter the Array Number :\").split(',')))\n",
    "import numpy as np\n",
    "arr = np.array([a, b]\n",
    "for x, idx in np.ndenumerate(arr):\n",
    "    print(x, idx)"
   ]
  }
 ],
 "metadata": {
  "kernelspec": {
   "display_name": "Python 3 (ipykernel)",
   "language": "python",
   "name": "python3"
  },
  "language_info": {
   "codemirror_mode": {
    "name": "ipython",
    "version": 3
   },
   "file_extension": ".py",
   "mimetype": "text/x-python",
   "name": "python",
   "nbconvert_exporter": "python",
   "pygments_lexer": "ipython3",
   "version": "3.11.7"
  },
  "widgets": {
   "application/vnd.jupyter.widget-state+json": {
    "state": {},
    "version_major": 2,
    "version_minor": 0
   }
  }
 },
 "nbformat": 4,
 "nbformat_minor": 5
}

{
 "cells": [
  {
   "cell_type": "code",
   "execution_count": 8,
   "id": "d70e4107-a190-4983-bb47-1f740cfded6e",
   "metadata": {},
   "outputs": [
    {
     "name": "stdout",
     "output_type": "stream",
     "text": [
      "85.0\n"
     ]
    }
   ],
   "source": [
    "import math \n",
    "   \n",
    "def Main(): \n",
    "   num = -85\n",
    "   \n",
    "   # fabs is used to get the absolute  \n",
    "   # value of a decimal \n",
    "   num = math.fabs(num) \n",
    "   print(num) \n",
    "       \n",
    "       \n",
    "if __name__==\"__main__\": \n",
    "   Main()"
   ]
  },
  {
   "cell_type": "code",
   "execution_count": 9,
   "id": "5d04d518-2ad3-4136-b142-c02e53db4132",
   "metadata": {},
   "outputs": [
    {
     "name": "stdin",
     "output_type": "stream",
     "text": [
      "Enter the marks : 12\n"
     ]
    },
    {
     "name": "stdout",
     "output_type": "stream",
     "text": [
      "x is grat\n"
     ]
    }
   ],
   "source": [
    "x = int(input(\"Enter the marks :\"))\n",
    "if(x>12 and x<35):\n",
    "    print(\"x is Good\")\n",
    "elif(x>35):\n",
    "    print(\"x is noot good\")\n",
    "else:\n",
    "    print(\"x is grat\")"
   ]
  },
  {
   "cell_type": "code",
   "execution_count": 10,
   "id": "39bd875b-46ee-4b45-8f81-d9d4fcefa31c",
   "metadata": {},
   "outputs": [
    {
     "name": "stdout",
     "output_type": "stream",
     "text": [
      "hello\n",
      "hello again\n",
      "hello\n",
      "hello again\n",
      "hello\n",
      "hello again\n"
     ]
    }
   ],
   "source": [
    "def hello(): \n",
    "   print(\"hello\") \n",
    "   print(\"hello again\") \n",
    "hello() \n",
    "hello()   \n",
    "hello()"
   ]
  },
  {
   "cell_type": "code",
   "execution_count": 11,
   "id": "61661eb1-7cf2-4014-b796-8cba93a34a81",
   "metadata": {},
   "outputs": [
    {
     "name": "stdout",
     "output_type": "stream",
     "text": [
      "ram\n"
     ]
    },
    {
     "name": "stdin",
     "output_type": "stream",
     "text": [
      "Enter The Number  22\n"
     ]
    },
    {
     "name": "stdout",
     "output_type": "stream",
     "text": [
      "22\n"
     ]
    }
   ],
   "source": [
    "def ram():\n",
    "    x = int (input(\"Enter The Number \"))\n",
    "    return x\n",
    "\n",
    "def Main():\n",
    "    print(\"ram\")\n",
    "    y = ram()\n",
    "    print(y)\n",
    "\n",
    "if __name__==\"__main__\":\n",
    "    Main()\n",
    "\n",
    "\n",
    "\n",
    "    "
   ]
  },
  {
   "cell_type": "code",
   "execution_count": 12,
   "id": "50832d07-fe1a-49e2-a509-0437464f237b",
   "metadata": {},
   "outputs": [
    {
     "name": "stdout",
     "output_type": "stream",
     "text": [
      "no\n"
     ]
    }
   ],
   "source": [
    "i = 10 \n",
    "if (i>10):\n",
    "    print(\"yes\")\n",
    "\n",
    "print(\"no\")\n"
   ]
  },
  {
   "cell_type": "code",
   "execution_count": 13,
   "id": "6391356f-eadc-44b3-a06a-67a0c65ecdf0",
   "metadata": {},
   "outputs": [
    {
     "name": "stdout",
     "output_type": "stream",
     "text": [
      "i is greater than 15\n",
      "i'm in else Block\n",
      "i'm not in if and not in else Block\n"
     ]
    }
   ],
   "source": [
    "i = 20\n",
    "if (i < 15):\n",
    "    print(\"i is smaller than 15\")\n",
    "    print(\"i'm in if Block\")\n",
    "else:\n",
    "    print(\"i is greater than 15\")\n",
    "    print(\"i'm in else Block\")\n",
    "print(\"i'm not in if and not in else Block\")"
   ]
  },
  {
   "cell_type": "code",
   "execution_count": 14,
   "id": "a00fad6f-dab5-4fc4-812f-e28afae4213d",
   "metadata": {},
   "outputs": [
    {
     "name": "stdout",
     "output_type": "stream",
     "text": [
      "[16, 3, 18, 18]\n"
     ]
    }
   ],
   "source": [
    "# Explicit function\n",
    "def digitSum(n):\n",
    "    dsum = 0\n",
    "    for ele in str(n):\n",
    "        dsum += int(ele)\n",
    "    return dsum\n",
    "\n",
    "\n",
    "# Initializing list\n",
    "List = [367, 111, 562, 945, 6726, 873]\n",
    "\n",
    "# Using the function on odd elements of the list\n",
    "newList = [digitSum(i) for i in List if i & 1]\n",
    "\n",
    "# Displaying new list\n",
    "print(newList)"
   ]
  },
  {
   "cell_type": "code",
   "execution_count": 15,
   "id": "f7f112ed-3e69-4c1e-bc1d-b519cf0f2b2e",
   "metadata": {},
   "outputs": [
    {
     "name": "stdin",
     "output_type": "stream",
     "text": [
      "Enter the x Number : 33\n"
     ]
    }
   ],
   "source": [
    "x = int(input(\"Enter the x Number :\"))\n",
    "if(x == 10):\n",
    "    if(x<15):\n",
    "        print(\"x is smaller 15\")\n",
    "\n",
    "    if(x<12):\n",
    "        print(\"x is smaller 12\")\n",
    "    else:\n",
    "        print(\"x is greater than 15\")"
   ]
  },
  {
   "cell_type": "code",
   "execution_count": 16,
   "id": "7d7eaf86-0f09-4e67-af12-d1d52316a603",
   "metadata": {},
   "outputs": [
    {
     "name": "stdin",
     "output_type": "stream",
     "text": [
      "Enter the x Number: 22\n"
     ]
    },
    {
     "name": "stdout",
     "output_type": "stream",
     "text": [
      "Number is 15 to 25\n"
     ]
    }
   ],
   "source": [
    "x = int(input(\"Enter the x Number:\"))\n",
    "if(x>0 and x<15):\n",
    "    print(\"number is 0 to 15\")\n",
    "elif(x>14 and x<25):\n",
    "    print(\"Number is 15 to 25\")\n",
    "\n",
    "elif(x>24 and x<50):\n",
    "    print(\"Number is 24 to 50\")\n",
    "\n",
    "else:\n",
    "    print(\"x is grater than 50\")"
   ]
  },
  {
   "cell_type": "code",
   "execution_count": 17,
   "id": "bdfec9f9-6ec9-47c2-aded-e8f6ffc52a2a",
   "metadata": {},
   "outputs": [
    {
     "name": "stdout",
     "output_type": "stream",
     "text": [
      "letter is A\n"
     ]
    }
   ],
   "source": [
    "letter = \"A\"\n",
    "  \n",
    "if letter == \"B\": \n",
    "    print(\"letter is B\") \n",
    "  \n",
    "else: \n",
    "  \n",
    "    if letter == \"C\": \n",
    "        print(\"letter is C\") \n",
    "  \n",
    "    else: \n",
    "  \n",
    "        if letter == \"A\": \n",
    "            print(\"letter is A\") \n",
    "  \n",
    "        else: \n",
    "            print(\"letter isn't A, B and C\") "
   ]
  },
  {
   "cell_type": "code",
   "execution_count": 18,
   "id": "bc6f05fe-27fa-4e3d-bf1d-8f5b5c2ca663",
   "metadata": {},
   "outputs": [
    {
     "name": "stdin",
     "output_type": "stream",
     "text": [
      "Enter the x Number : 12\n"
     ]
    },
    {
     "name": "stdout",
     "output_type": "stream",
     "text": [
      "1\n"
     ]
    }
   ],
   "source": [
    "x = int(input(\"Enter the x Number :\"))\n",
    "for x in range(1, 10):\n",
    "    print(x)\n",
    "    break\n",
    "\n",
    "else:\n",
    "    print(\"no break\")"
   ]
  },
  {
   "cell_type": "code",
   "execution_count": 19,
   "id": "240a417a-cb1c-41bf-99b3-03303b31c729",
   "metadata": {},
   "outputs": [
    {
     "name": "stdout",
     "output_type": "stream",
     "text": [
      "jai shree Ram\n",
      "j\n",
      "i\n",
      "t\n",
      "e\n",
      "n\n",
      "d\n",
      "r\n",
      "a\n"
     ]
    }
   ],
   "source": [
    "print(\"jai shree Ram\")\n",
    "s = \"jitendra\"\n",
    "for i  in s:\n",
    "    print(i)\n",
    "    "
   ]
  },
  {
   "cell_type": "code",
   "execution_count": 20,
   "id": "361e04da-fc50-42c4-bd55-fec37ba57378",
   "metadata": {},
   "outputs": [
    {
     "name": "stdout",
     "output_type": "stream",
     "text": [
      "0\n",
      "2\n",
      "4\n",
      "6\n",
      "8\n"
     ]
    }
   ],
   "source": [
    "for x in range(0, 10, 2):\n",
    "    print(x)"
   ]
  },
  {
   "cell_type": "code",
   "execution_count": 21,
   "id": "2bed3b9b-bc24-44a8-9e11-b6206dff1ba6",
   "metadata": {},
   "outputs": [
    {
     "name": "stdout",
     "output_type": "stream",
     "text": [
      "0 ram\n",
      "1 jitu\n",
      "2 rakesh\n"
     ]
    }
   ],
   "source": [
    "x = [\"ram\", \"jitu\", \"rakesh\"]\n",
    "for count, ele in enumerate(x):\n",
    "    print(count,ele)"
   ]
  },
  {
   "cell_type": "code",
   "execution_count": 22,
   "id": "7816aa37-e175-4054-a485-8e3b6fae5fc9",
   "metadata": {},
   "outputs": [
    {
     "name": "stdout",
     "output_type": "stream",
     "text": [
      "1 1\n",
      "1 2\n",
      "1 3\n",
      "2 1\n",
      "2 2\n",
      "2 3\n",
      "3 1\n",
      "3 2\n",
      "3 3\n"
     ]
    }
   ],
   "source": [
    "for i in range(1, 4):\n",
    "    for j in range(1, 4):\n",
    "        print(i, j)"
   ]
  },
  {
   "cell_type": "code",
   "execution_count": 23,
   "id": "b54b31b1-424f-4e92-a4b9-71b794bc3532",
   "metadata": {},
   "outputs": [
    {
     "name": "stdout",
     "output_type": "stream",
     "text": [
      "[0, 1, 2, 3, 4, 5, 6, 7, 8, 9, 10]\n"
     ]
    }
   ],
   "source": [
    "#Python for loop in One Line\n",
    "x = [a for a in range(11)]\n",
    "print(x)"
   ]
  },
  {
   "cell_type": "code",
   "execution_count": 24,
   "id": "23d57927-46b8-4249-bbce-f6a9f6d3f0da",
   "metadata": {},
   "outputs": [
    {
     "name": "stdout",
     "output_type": "stream",
     "text": [
      "Dictionary Iteration\n",
      "xyz  123\n",
      "abc  345\n"
     ]
    }
   ],
   "source": [
    "# Iterating over dictionary\n",
    "print(\"Dictionary Iteration\")\n",
    "d = dict()\n",
    "d['xyz'] = 123\n",
    "d['abc'] = 345\n",
    "for i in d :\n",
    "    print(\"% s % d\" % (i, d[i]))"
   ]
  },
  {
   "cell_type": "code",
   "execution_count": 25,
   "id": "d6f07ca3-164a-46c7-b529-eb4f55b5f375",
   "metadata": {},
   "outputs": [
    {
     "name": "stdin",
     "output_type": "stream",
     "text": [
      "Enter the string 12\n"
     ]
    },
    {
     "name": "stdout",
     "output_type": "stream",
     "text": [
      "Current Letter : 1\n",
      "Current Letter : 2\n"
     ]
    }
   ],
   "source": [
    "# Prints all letters except 'e' and 's'\n",
    "x = str(input(\"Enter the string\"))\n",
    "for letter in x:\n",
    "\n",
    "    if letter == 'e' or letter == 's':\n",
    "        continue\n",
    "    print('Current Letter :', letter)"
   ]
  },
  {
   "cell_type": "code",
   "execution_count": 26,
   "id": "91902d2d-5b9c-4c0f-b0ac-e186025bbac9",
   "metadata": {},
   "outputs": [
    {
     "name": "stdin",
     "output_type": "stream",
     "text": [
      "Enter the string edededdd\n"
     ]
    },
    {
     "name": "stdout",
     "output_type": "stream",
     "text": [
      "Current Letter : e\n"
     ]
    }
   ],
   "source": [
    "x = str(input(\"Enter the string\"))\n",
    "for letter in x:\n",
    "\n",
    "    # break the loop as soon it sees 'e'\n",
    "    # or 's'\n",
    "    if letter == 'e' or letter == 's':\n",
    "        break\n",
    "\n",
    "print('Current Letter :', letter)"
   ]
  },
  {
   "cell_type": "code",
   "execution_count": 27,
   "id": "390246c5-7c43-47d1-b187-d27174251f10",
   "metadata": {},
   "outputs": [
    {
     "name": "stdout",
     "output_type": "stream",
     "text": [
      "Last Letter : s\n"
     ]
    }
   ],
   "source": [
    "# An empty loop\n",
    "for letter in 'geeksforgeeks':\n",
    "    pass\n",
    "print('Last Letter :', letter)"
   ]
  },
  {
   "cell_type": "code",
   "execution_count": 28,
   "id": "a36d0c4a-9bd8-48c8-baee-be1d90f4d234",
   "metadata": {},
   "outputs": [
    {
     "name": "stdout",
     "output_type": "stream",
     "text": [
      "Washing shirt\n",
      "Washing pants\n",
      "Washing towel\n",
      "Washing ['socks']\n"
     ]
    }
   ],
   "source": [
    "clothes = [\"shirt\", \"sock\", \"pants\", \"sock\", \"towel\"]\n",
    "paired_socks = []\n",
    "for item in clothes:\n",
    "    if item == \"sock\":\n",
    "        continue\n",
    "    else:\n",
    "        print(f\"Washing {item}\")\n",
    "paired_socks.append(\"socks\")\n",
    "print(f\"Washing {paired_socks}\")"
   ]
  },
  {
   "cell_type": "code",
   "execution_count": 29,
   "id": "b6d5ad7c-7809-4203-9f3e-376edb0d2473",
   "metadata": {},
   "outputs": [
    {
     "name": "stdout",
     "output_type": "stream",
     "text": [
      "yes 1\n"
     ]
    }
   ],
   "source": [
    "# working of try() \n",
    "def divide(x, y):\n",
    "    try:\n",
    "        result = x // y # Floor Division : Gives only Fractional Part as Answer\n",
    "        print(\"yes\", result )\n",
    "    except zerodivisionError:\n",
    "        print(\"sorry\")\n",
    "\n",
    "divide(3, 2)"
   ]
  },
  {
   "cell_type": "code",
   "execution_count": 30,
   "id": "372d0839-6e33-4e51-b140-a4b417bf6407",
   "metadata": {},
   "outputs": [
    {
     "name": "stdout",
     "output_type": "stream",
     "text": [
      "sorry\n"
     ]
    }
   ],
   "source": [
    "def divide(x, y):\n",
    "    try:\n",
    "        result = x // y\n",
    "        print(\"yes\", result)\n",
    "    except ZeroDivisionError:\n",
    "        print(\"sorry\")\n",
    "\n",
    "divide(3, 0)\n"
   ]
  },
  {
   "cell_type": "code",
   "execution_count": 31,
   "id": "dedf6307-4494-49a5-a844-d65f5184b5a6",
   "metadata": {},
   "outputs": [
    {
     "name": "stdout",
     "output_type": "stream",
     "text": [
      "error unsupported operand type(s) for //: 'int' and 'str'\n",
      "error integer division or modulo by zero\n"
     ]
    }
   ],
   "source": [
    "def divide(x, y):\n",
    "    try:\n",
    "        a = x // y\n",
    "        print(\"Yes\", a)\n",
    "    except Exception as e: \n",
    "        # By this way we can know about the type of error occurring\n",
    "        print(\"error\", e)\n",
    "\n",
    "divide(3, \"GFG\")\n",
    "divide(3, 0)"
   ]
  },
  {
   "cell_type": "code",
   "execution_count": 32,
   "id": "ee823310-6851-4f94-a76e-7fb8e9998f7f",
   "metadata": {},
   "outputs": [
    {
     "name": "stdout",
     "output_type": "stream",
     "text": [
      "-5.0\n",
      "zero\n"
     ]
    }
   ],
   "source": [
    "# Program to depict else clause with try-except  \n",
    "# Function which returns a/b\n",
    "def ram(a, b):\n",
    "    try:\n",
    "        c = ((a+b) // (a-b))\n",
    "    except ZeroDivisionError:\n",
    "        print(\"zero\")\n",
    "    else:\n",
    "        print(c)\n",
    "\n",
    "ram(2.0, 3.0)\n",
    "ram(3.0, 3.0)"
   ]
  },
  {
   "cell_type": "code",
   "execution_count": 33,
   "id": "1f303760-ba5b-41b6-bca0-3a91fd242366",
   "metadata": {},
   "outputs": [
    {
     "name": "stdout",
     "output_type": "stream",
     "text": [
      "not divide by zero\n",
      "this is always executed\n"
     ]
    }
   ],
   "source": [
    "# use to finally keyword\n",
    "try:\n",
    "    k= 5//0\n",
    "    print(k)\n",
    "\n",
    "except ZeroDivisionError:\n",
    "    print(\"not divide by zero\")\n",
    "finally:\n",
    "    print(\"this is always executed\")"
   ]
  },
  {
   "cell_type": "code",
   "execution_count": 34,
   "id": "a77bf8c9-5d87-4fd9-9c5d-ec0a56138774",
   "metadata": {},
   "outputs": [
    {
     "name": "stdout",
     "output_type": "stream",
     "text": [
      "Cannot divide by 0 GFG"
     ]
    }
   ],
   "source": [
    "\n",
    "data = 50\n",
    "try: \n",
    "    data = data/0\n",
    "except ZeroDivisionError: \n",
    "    print('Cannot divide by 0 ', end = '') \n",
    "else: \n",
    "    print('Division successful ', end = '') \n",
    "  \n",
    "try: \n",
    "    data = data/5\n",
    "except: \n",
    "    print('Inside except block ', end = '') \n",
    "else: \n",
    "    print('GFG', end = '') "
   ]
  },
  {
   "cell_type": "code",
   "execution_count": 35,
   "id": "613e1953-72ca-4784-be26-a8ca929f4b11",
   "metadata": {},
   "outputs": [
    {
     "ename": "SyntaxError",
     "evalue": "invalid syntax (2408415007.py, line 1)",
     "output_type": "error",
     "traceback": [
      "\u001b[1;36m  Cell \u001b[1;32mIn[35], line 1\u001b[1;36m\u001b[0m\n\u001b[1;33m    Pas  Statement\u001b[0m\n\u001b[1;37m         ^\u001b[0m\n\u001b[1;31mSyntaxError\u001b[0m\u001b[1;31m:\u001b[0m invalid syntax\n"
     ]
    }
   ],
   "source": [
    "Pas  Statement"
   ]
  },
  {
   "cell_type": "code",
   "execution_count": null,
   "id": "59c0233f-0b9a-4a75-935f-4070885f35f1",
   "metadata": {},
   "outputs": [],
   "source": [
    "n = 26\n",
    "if n > 26:\n",
    "print(\"ram\")"
   ]
  },
  {
   "cell_type": "code",
   "execution_count": null,
   "id": "7f2ac38d-6dc8-4486-bff6-510254a354b9",
   "metadata": {},
   "outputs": [],
   "source": [
    "# Correct way of writing empty function  \n",
    "# in Python \n",
    "def fun():  \n",
    "    pass"
   ]
  },
  {
   "cell_type": "code",
   "execution_count": null,
   "id": "0701b1a7-d416-4c1f-9a01-ae255311dbf2",
   "metadata": {},
   "outputs": [],
   "source": [
    "# Empty loop in Python \n",
    "mutex = True\n",
    "while (mutex == True) : \n",
    "    pass"
   ]
  },
  {
   "cell_type": "code",
   "execution_count": null,
   "id": "7bae72a3-e899-4c8e-940c-a6bc9ff6bb9c",
   "metadata": {},
   "outputs": [],
   "source": [
    "# Empty in if/else in Python \n",
    "mutex = True\n",
    "if (mutex == True) : \n",
    "    pass\n",
    "else : \n",
    "    print(\"False\") "
   ]
  },
  {
   "cell_type": "code",
   "execution_count": null,
   "id": "74d422d2-8ae5-497b-a163-8a3d000943da",
   "metadata": {},
   "outputs": [],
   "source": [
    "n = 10\n",
    "for i in range(n):\n",
    "   \n",
    "  # pass can be used as placeholder\n",
    "  # when code is to added later\n",
    "  pass"
   ]
  },
  {
   "cell_type": "code",
   "execution_count": null,
   "id": "127de518-7d63-4702-bddc-5afd01818891",
   "metadata": {},
   "outputs": [],
   "source": [
    "a = 10\n",
    "b = 20\n",
    " \n",
    "if(a<b):\n",
    "  pass\n",
    "else:\n",
    "  print(\"b<a\")"
   ]
  },
  {
   "cell_type": "code",
   "execution_count": null,
   "id": "4089879b-fcd9-44ee-a12c-a949c22c1d24",
   "metadata": {},
   "outputs": [],
   "source": [
    "li =['a', 'b', 'c', 'd']\n",
    " \n",
    "for i in li:\n",
    "    if(i =='a'):\n",
    "        pass\n",
    "    else:\n",
    "        print(i)"
   ]
  },
  {
   "cell_type": "code",
   "execution_count": null,
   "id": "6a1c75ad-2570-469a-8c33-5f850cfb43e9",
   "metadata": {},
   "outputs": [],
   "source": [
    "x = 5\n",
    "if x > 10:\n",
    "    pass\n",
    "else:\n",
    "    print(\"x is less than or equal to 10\")\n",
    "def ram():\n",
    "    pass\n",
    "class MyClass:\n",
    "    def __init__(self):\n",
    "        pass\n"
   ]
  },
  {
   "cell_type": "code",
   "execution_count": null,
   "id": "9d19020b-cb24-499a-9f0c-7980676c584a",
   "metadata": {},
   "outputs": [],
   "source": [
    "class Sample_class: \n",
    "    some_variable = 20\n",
    "        \n",
    "    # method of the class \n",
    "    def my_method(self): \n",
    "        print(\"GeeksForGeeks\") \n",
    "            \n",
    "# check if class exists \n",
    "print(Sample_class) \n",
    "    \n",
    "# delete the class using del keyword \n",
    "del Sample_class \n",
    "    \n",
    "# check if class exists \n",
    "print(Sample_class) "
   ]
  },
  {
   "cell_type": "code",
   "execution_count": null,
   "id": "7ee0b487-a14f-4c72-bdde-d4541c7b932d",
   "metadata": {},
   "outputs": [],
   "source": [
    "clothes = [\"shirt\", \"sock\", \"pants\", \"sock\", \"towel\"]\n",
    "paired_socks = []\n",
    "for item in clothes:\n",
    "    if item == \"sock\":\n",
    "        continue\n",
    "    else:\n",
    "        print(f\"Washing {item}\")\n",
    "paired_socks.append(\"socks\")\n",
    "print(f\"Washing {paired_socks}\")"
   ]
  },
  {
   "cell_type": "code",
   "execution_count": 36,
   "id": "f23a939d-3c18-4795-81c4-d3c19073ad57",
   "metadata": {},
   "outputs": [
    {
     "name": "stdout",
     "output_type": "stream",
     "text": [
      "20\n",
      "GeeksForGeeks\n"
     ]
    },
    {
     "ename": "NameError",
     "evalue": "name 'my_variable1' is not defined",
     "output_type": "error",
     "traceback": [
      "\u001b[1;31m---------------------------------------------------------------------------\u001b[0m",
      "\u001b[1;31mNameError\u001b[0m                                 Traceback (most recent call last)",
      "Cell \u001b[1;32mIn[36], line 13\u001b[0m\n\u001b[0;32m     10\u001b[0m \u001b[38;5;28;01mdel\u001b[39;00m my_variable2 \n\u001b[0;32m     12\u001b[0m \u001b[38;5;66;03m# check if my_variable1 and my_variable2 exists \u001b[39;00m\n\u001b[1;32m---> 13\u001b[0m \u001b[38;5;28mprint\u001b[39m(my_variable1) \n\u001b[0;32m     14\u001b[0m \u001b[38;5;28mprint\u001b[39m(my_variable2)\n",
      "\u001b[1;31mNameError\u001b[0m: name 'my_variable1' is not defined"
     ]
    }
   ],
   "source": [
    "\n",
    "my_variable1 = 20\n",
    "my_variable2 = \"GeeksForGeeks\"\n",
    "  \n",
    "# check if my_variable1 and my_variable2 exists \n",
    "print(my_variable1) \n",
    "print(my_variable2) \n",
    "  \n",
    "# delete both the variables \n",
    "del my_variable1 \n",
    "del my_variable2 \n",
    "  \n",
    "# check if my_variable1 and my_variable2 exists \n",
    "print(my_variable1) \n",
    "print(my_variable2)"
   ]
  },
  {
   "cell_type": "code",
   "execution_count": 37,
   "id": "87aa5235-8863-461a-85e6-affc8e543726",
   "metadata": {},
   "outputs": [
    {
     "name": "stdout",
     "output_type": "stream",
     "text": [
      "[1, 2, 3, 4, 5, 6, 7, 8, 9]\n",
      "['Geeks', 'For', 'Geek']\n",
      "[1, 3, 4, 5, 6, 7, 8, 9]\n",
      "[1, 3, 4, 7, 8, 9]\n"
     ]
    },
    {
     "ename": "NameError",
     "evalue": "name 'my_list2' is not defined",
     "output_type": "error",
     "traceback": [
      "\u001b[1;31m---------------------------------------------------------------------------\u001b[0m",
      "\u001b[1;31mNameError\u001b[0m                                 Traceback (most recent call last)",
      "Cell \u001b[1;32mIn[37], line 22\u001b[0m\n\u001b[0;32m     19\u001b[0m \u001b[38;5;28;01mdel\u001b[39;00m my_list2 \n\u001b[0;32m     21\u001b[0m \u001b[38;5;66;03m# check if my_list2 exists \u001b[39;00m\n\u001b[1;32m---> 22\u001b[0m \u001b[38;5;28mprint\u001b[39m(my_list2)\n",
      "\u001b[1;31mNameError\u001b[0m: name 'my_list2' is not defined"
     ]
    }
   ],
   "source": [
    "my_list1 = [1, 2, 3, 4, 5, 6, 7, 8, 9] \n",
    "my_list2 =[\"Geeks\", \"For\", \"Geek\"] \n",
    "    \n",
    "# check if my_list1 and my_list2 exists \n",
    "print(my_list1) \n",
    "print(my_list2) \n",
    "\n",
    "del my_list1[1] \n",
    "    \n",
    "print(my_list1) \n",
    "    \n",
    "# slice my_list1 from index 3 to 5 \n",
    "del my_list1[3:5] \n",
    "    \n",
    "# check if the elements from index 3 to 5 in my_list1 is deleted \n",
    "print(my_list1) \n",
    "    \n",
    "# delete my_list2 \n",
    "del my_list2 \n",
    "    \n",
    "# check if my_list2 exists \n",
    "print(my_list2)"
   ]
  },
  {
   "cell_type": "code",
   "execution_count": null,
   "id": "19677c1d-b15e-433d-b8a2-6f8e3ae36c38",
   "metadata": {},
   "outputs": [],
   "source": []
  }
 ],
 "metadata": {
  "kernelspec": {
   "display_name": "Python 3 (ipykernel)",
   "language": "python",
   "name": "python3"
  },
  "language_info": {
   "codemirror_mode": {
    "name": "ipython",
    "version": 3
   },
   "file_extension": ".py",
   "mimetype": "text/x-python",
   "name": "python",
   "nbconvert_exporter": "python",
   "pygments_lexer": "ipython3",
   "version": "3.11.7"
  },
  "widgets": {
   "application/vnd.jupyter.widget-state+json": {
    "state": {},
    "version_major": 2,
    "version_minor": 0
   }
  }
 },
 "nbformat": 4,
 "nbformat_minor": 5
}

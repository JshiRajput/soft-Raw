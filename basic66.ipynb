{
 "cells": [
  {
   "cell_type": "code",
   "execution_count": 2,
   "id": "1fa7c741-7263-4f01-86ad-18d57a44d7b4",
   "metadata": {},
   "outputs": [
    {
     "name": "stdin",
     "output_type": "stream",
     "text": [
      "Enter The a Number : 3\n",
      "Enter The b Number : 9\n"
     ]
    },
    {
     "name": "stdout",
     "output_type": "stream",
     "text": [
      "b is divisible by a\n"
     ]
    }
   ],
   "source": [
    "a = int(input(\"Enter The a Number :\"))\n",
    "b = int(input(\"Enter The b Number :\"))  \n",
    "if b % a == 0:\n",
    "        print(\"b is divisible by a\")\n",
    "elif b + 1 == 10:\n",
    "        print(\"Increment in b produces 10\")\n",
    "else:\n",
    "   print(\"sorry\")\n",
    "\n",
    "        \n",
    "        "
   ]
  },
  {
   "cell_type": "code",
   "execution_count": 3,
   "id": "886aad4f-9895-4669-b851-14f113665156",
   "metadata": {},
   "outputs": [
    {
     "name": "stdin",
     "output_type": "stream",
     "text": [
      "Enter The a Number : 4\n",
      "Enter The b Number : 2\n"
     ]
    },
    {
     "name": "stdout",
     "output_type": "stream",
     "text": [
      "a is divisible by b\n"
     ]
    }
   ],
   "source": [
    "# Function for checking the divisibility\n",
    "# Notice the indentation after function declaration\n",
    "# and if and else statements\n",
    "a = int(input(\"Enter The a Number :\"))\n",
    "b = int(input(\"Enter The b Number :\"))  \n",
    "def checkDivisibility(a, b):\n",
    "    if a % b == 0 :\n",
    "        print (\"a is divisible by b\")\n",
    "    else:\n",
    "        print (\"a is not divisible by b\")\n",
    "#Driver program to test the above function\n",
    "checkDivisibility(a, b)"
   ]
  },
  {
   "cell_type": "code",
   "execution_count": 4,
   "id": "b591ff82-988d-4f82-8874-6e7879c82c8f",
   "metadata": {},
   "outputs": [
    {
     "name": "stdout",
     "output_type": "stream",
     "text": [
      "I love my India\n"
     ]
    }
   ],
   "source": [
    "#Loca Variable\n",
    "def f():\n",
    "    s = \"I love my India\"\n",
    "    print(s)\n",
    "\n",
    "f()"
   ]
  },
  {
   "cell_type": "code",
   "execution_count": 5,
   "id": "07bbf008-c15d-4962-b945-82457d901c7f",
   "metadata": {},
   "outputs": [
    {
     "name": "stdout",
     "output_type": "stream",
     "text": [
      "Inside fun I love my India\n",
      "Outside fun. I love my India\n"
     ]
    }
   ],
   "source": [
    "# This function uses global variable s\n",
    "def f():\n",
    "    print(\"Inside fun\", s)\n",
    "# Global scope\n",
    "s = \"I love my India\"\n",
    "f()\n",
    "print(\"Outside fun.\", s)"
   ]
  },
  {
   "cell_type": "code",
   "execution_count": 7,
   "id": "85dfcf9e-f6d9-4a09-962f-39b4aef1e017",
   "metadata": {},
   "outputs": [
    {
     "name": "stdout",
     "output_type": "stream",
     "text": [
      "Me too.\n",
      "I love Geeksforgeeks\n"
     ]
    }
   ],
   "source": [
    "# This function has a variable with\n",
    "# name same as s.\n",
    "def f():\n",
    "    s = \"Me too.\"\n",
    "    print(s)\n",
    " \n",
    "# Global scope\n",
    "s = \"I love Geeksforgeeks\"\n",
    "f()\n",
    "print(s)"
   ]
  },
  {
   "cell_type": "code",
   "execution_count": 10,
   "id": "183f0e29-a82c-4981-8aab-757ad8d89260",
   "metadata": {},
   "outputs": [
    {
     "name": "stdout",
     "output_type": "stream",
     "text": [
      "Python is great! GFG\n",
      "Look for Geeksforgeeks Python Section\n",
      "Look for Geeksforgeeks Python Section\n"
     ]
    }
   ],
   "source": [
    "# This function modifies the global variable 's'\n",
    "def f():\n",
    "    global s\n",
    "    s += ' GFG'\n",
    "    print(s)\n",
    "    s = \"Look for Geeksforgeeks Python Section\"\n",
    "    print(s) \n",
    " \n",
    "# Global Scope\n",
    "s = \"Python is great!\"\n",
    "f()\n",
    "print(s)"
   ]
  },
  {
   "cell_type": "code",
   "execution_count": 11,
   "id": "b8c00c95-a642-42b1-9f6d-cdea0a1d3950",
   "metadata": {},
   "outputs": [
    {
     "name": "stdout",
     "output_type": "stream",
     "text": [
      "global :  1\n",
      "Inside f() :  1\n",
      "global :  1\n",
      "Inside g() :  2\n",
      "global :  1\n",
      "Inside h() :  3\n",
      "global :  3\n"
     ]
    }
   ],
   "source": [
    "a = 1\n",
    " \n",
    "# Uses global because there is no local 'a'\n",
    "def f():\n",
    "    print('Inside f() : ', a)\n",
    " \n",
    "# Variable 'a' is redefined as a local\n",
    "def g():\n",
    "    a = 2\n",
    "    print('Inside g() : ', a)\n",
    " \n",
    "# Uses global keyword to modify global 'a'\n",
    "def h():\n",
    "    global a\n",
    "    a = 3\n",
    "    print('Inside h() : ', a)\n",
    " \n",
    " \n",
    "# Global scope\n",
    "print('global : ', a)\n",
    "f()\n",
    "print('global : ', a)\n",
    "g()\n",
    "print('global : ', a)\n",
    "h()\n",
    "print('global : ', a)"
   ]
  },
  {
   "cell_type": "code",
   "execution_count": 3,
   "id": "15789b12-f4c7-46e0-bdb5-afd66de5767b",
   "metadata": {},
   "outputs": [
    {
     "name": "stdin",
     "output_type": "stream",
     "text": [
      "enter the x Number 3\n",
      "enter the y Number 5\n"
     ]
    },
    {
     "name": "stdout",
     "output_type": "stream",
     "text": [
      "x is of type :  <class 'int'>\n",
      "y is of type :  <class 'float'>\n",
      "8.0\n",
      "z is of type: <class 'float'>\n"
     ]
    }
   ],
   "source": [
    "x = int(input(\"enter the x Number\"))\n",
    "y = float(input(\"enter the y Number\"))\n",
    "print(\"x is of type : \", type(x))\n",
    "print(\"y is of type : \", type(y))\n",
    "z = x + y\n",
    "print(z)\n",
    "print(\"z is of type:\", type(z))\n"
   ]
  },
  {
   "cell_type": "code",
   "execution_count": 10,
   "id": "8b04800c-b57f-47ab-9e3b-9013aa452c7b",
   "metadata": {},
   "outputs": [
    {
     "name": "stdin",
     "output_type": "stream",
     "text": [
      "enter the x Number int\n",
      "enter the y Number int\n",
      "enter the z Number 899\n",
      "enter the s Number 8\n"
     ]
    },
    {
     "name": "stdout",
     "output_type": "stream",
     "text": [
      "<class 'map'>\n",
      "<class 'map'>\n"
     ]
    }
   ],
   "source": [
    "x = int(input(\"enter the x Number\"))\n",
    "y = int(input(\"enter the y Number\"))\n"
   ]
  },
  {
   "cell_type": "code",
   "execution_count": 21,
   "id": "8e5a058c-3eae-4a92-8c2b-55e8cc9050c8",
   "metadata": {},
   "outputs": [
    {
     "name": "stdout",
     "output_type": "stream",
     "text": [
      "After converting to integer base 2 : 18\n",
      "After converting to float : 10010.0\n"
     ]
    }
   ],
   "source": [
    "# initializing string\n",
    "s = \"10010\"\n",
    " \n",
    "# printing string converting to int base 2\n",
    "c = int(s,2)\n",
    "print (\"After converting to integer base 2 : \", end=\"\")\n",
    "print (c)\n",
    " \n",
    "# printing string converting to float\n",
    "e = float(s)\n",
    "print (\"After converting to float : \", end=\"\")\n",
    "print (e)"
   ]
  },
  {
   "cell_type": "code",
   "execution_count": 26,
   "id": "1b22f6d5-d7a2-46d6-8db7-29e7b479912c",
   "metadata": {},
   "outputs": [
    {
     "name": "stdin",
     "output_type": "stream",
     "text": [
      "Enter the x Number: 4\n",
      "Enter the y Number: 5\n",
      "Enter the z Number: 6\n"
     ]
    },
    {
     "name": "stdout",
     "output_type": "stream",
     "text": [
      "After converting character to integer :  52\n",
      "After converting 56 to hexadecimal string :  0x5\n",
      "After converting 56 to octal string :  0o6\n"
     ]
    }
   ],
   "source": [
    "# initializing integer\n",
    "x = str(input(\"Enter the x Number:\"))\n",
    "y = int(input(\"Enter the y Number:\"))\n",
    "z = int(input(\"Enter the z Number:\"))\n",
    " \n",
    "# printing character converting to integer\n",
    "a = ord(x)\n",
    "print (\"After converting character to integer : \", a)\n",
    "# printing integer converting to hexadecimal string\n",
    "b = hex(y)\n",
    "print (\"After converting 56 to hexadecimal string : \", b)\n",
    "\n",
    "# printing integer converting to octal string\n",
    "c = oct(z)\n",
    "print (\"After converting 56 to octal string : \", c)"
   ]
  },
  {
   "cell_type": "code",
   "execution_count": 30,
   "id": "0fa42fb3-372c-461f-9fdc-98e9f06492d7",
   "metadata": {},
   "outputs": [
    {
     "name": "stdin",
     "output_type": "stream",
     "text": [
      "Enter the x Number: ram\n"
     ]
    },
    {
     "name": "stdout",
     "output_type": "stream",
     "text": [
      "('r', 'a', 'm')\n",
      "{'m', 'a', 'r'}\n",
      "['r', 'a', 'm']\n"
     ]
    }
   ],
   "source": [
    "x = str(input(\"Enter the x Number:\"))\n",
    "print(tuple(x))\n",
    "print(set(x))\n",
    "print(list(x))"
   ]
  },
  {
   "cell_type": "code",
   "execution_count": 31,
   "id": "d0bdacc1-76f9-4d5e-83a8-b444885c678b",
   "metadata": {},
   "outputs": [
    {
     "name": "stdout",
     "output_type": "stream",
     "text": [
      "After converting integer to complex number : (1+2j)\n",
      "After converting integer to string : 1\n",
      "After converting tuple to dictionary : {'a': 1, 'f': 2, 'g': 3}\n"
     ]
    }
   ],
   "source": [
    "a = 1\n",
    "b = 2\n",
    "tup = (('a', 1) ,('f', 2), ('g', 3))\n",
    " \n",
    "# printing integer converting to complex number\n",
    "c = complex(1,2)\n",
    "print (\"After converting integer to complex number : \",end=\"\")\n",
    "print (c)\n",
    " \n",
    "# printing integer converting to string\n",
    "c = str(a)\n",
    "print (\"After converting integer to string : \",end=\"\")\n",
    "print (c)\n",
    " \n",
    "# printing tuple converting to expression dictionary\n",
    "c = dict(tup)\n",
    "print (\"After converting tuple to dictionary : \",end=\"\")\n",
    "print (c)"
   ]
  },
  {
   "cell_type": "code",
   "execution_count": 32,
   "id": "efcf59aa-5f94-483d-adba-23df25d27f7a",
   "metadata": {},
   "outputs": [
    {
     "name": "stdout",
     "output_type": "stream",
     "text": [
      "L\n",
      "M\n"
     ]
    }
   ],
   "source": [
    "a = chr(76)\n",
    "b = chr(77)\n",
    " \n",
    "print(a)\n",
    "print(b)"
   ]
  },
  {
   "cell_type": "code",
   "execution_count": null,
   "id": "04ddd4e7-8879-47a6-890b-6cc13ebf440f",
   "metadata": {},
   "outputs": [],
   "source": []
  }
 ],
 "metadata": {
  "kernelspec": {
   "display_name": "Python 3 (ipykernel)",
   "language": "python",
   "name": "python3"
  },
  "language_info": {
   "codemirror_mode": {
    "name": "ipython",
    "version": 3
   },
   "file_extension": ".py",
   "mimetype": "text/x-python",
   "name": "python",
   "nbconvert_exporter": "python",
   "pygments_lexer": "ipython3",
   "version": "3.11.7"
  },
  "widgets": {
   "application/vnd.jupyter.widget-state+json": {
    "state": {},
    "version_major": 2,
    "version_minor": 0
   }
  }
 },
 "nbformat": 4,
 "nbformat_minor": 5
}
